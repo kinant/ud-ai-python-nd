{
 "cells": [
  {
   "cell_type": "markdown",
   "metadata": {},
   "source": [
    "# Developing an AI application\n",
    "\n",
    "Going forward, AI algorithms will be incorporated into more and more everyday applications. For example, you might want to include an image classifier in a smart phone app. To do this, you'd use a deep learning model trained on hundreds of thousands of images as part of the overall application architecture. A large part of software development in the future will be using these types of models as common parts of applications. \n",
    "\n",
    "In this project, you'll train an image classifier to recognize different species of flowers. You can imagine using something like this in a phone app that tells you the name of the flower your camera is looking at. In practice you'd train this classifier, then export it for use in your application. We'll be using [this dataset](http://www.robots.ox.ac.uk/~vgg/data/flowers/102/index.html) of 102 flower categories, you can see a few examples below. \n",
    "\n",
    "<img src='assets/Flowers.png' width=500px>\n",
    "\n",
    "The project is broken down into multiple steps:\n",
    "\n",
    "* Load and preprocess the image dataset\n",
    "* Train the image classifier on your dataset\n",
    "* Use the trained classifier to predict image content\n",
    "\n",
    "We'll lead you through each part which you'll implement in Python.\n",
    "\n",
    "When you've completed this project, you'll have an application that can be trained on any set of labeled images. Here your network will be learning about flowers and end up as a command line application. But, what you do with your new skills depends on your imagination and effort in building a dataset. For example, imagine an app where you take a picture of a car, it tells you what the make and model is, then looks up information about it. Go build your own dataset and make something new.\n",
    "\n",
    "First up is importing the packages you'll need. It's good practice to keep all the imports at the beginning of your code. As you work through this notebook and find you need to import a package, make sure to add the import up here."
   ]
  },
  {
   "metadata": {},
   "cell_type": "code",
   "source": [
    "%matplotlib inline\n",
    "%config InlineBackend.figure_format = 'retina'\n",
    "\n",
    "# Imports here\n",
    "from dataloader import ImageDataLoader, BATCH_SIZE\n",
    "from classifier import ImageClassifier, load_checkpoint\n",
    "from helpers import visualization as viz\n",
    "from helpers import torch_helpers as th\n",
    "from helpers import utils\n",
    "\n",
    "from predict import predict\n",
    "\n",
    "import os\n",
    "\n",
    "from PIL import Image\n",
    "import matplotlib.pyplot as plt\n",
    "import numpy as np"
   ],
   "outputs": [],
   "execution_count": null
  },
  {
   "metadata": {},
   "cell_type": "code",
   "source": [
    "# Getting an error with Jupyter Notebook Kernel shutting down. Running this cell fixes error. (Only happens when using matplotlib)\n",
    "os.environ[\"KMP_DUPLICATE_LIB_OK\"]=\"TRUE\""
   ],
   "outputs": [],
   "execution_count": null
  },
  {
   "metadata": {},
   "cell_type": "markdown",
   "source": [
    "## Load the data\n",
    "\n",
    "Here you'll use `torchvision` to load the data ([documentation](http://pytorch.org/docs/0.3.0/torchvision/index.html)). The data should be included alongside this notebook, otherwise you can [download it here](https://s3.amazonaws.com/content.udacity-data.com/nd089/flower_data.tar.gz). The dataset is split into three parts, training, validation, and testing. For the training, you'll want to apply transformations such as random scaling, cropping, and flipping. This will help the network generalize leading to better performance. You'll also need to make sure the input data is resized to 224x224 pixels as required by the pre-trained networks.\n",
    "\n",
    "The validation and testing sets are used to measure the model's performance on data it hasn't seen yet. For this you don't want any scaling or rotation transformations, but you'll need to resize then crop the images to the appropriate size.\n",
    "\n",
    "The pre-trained networks you'll use were trained on the ImageNet dataset where each color channel was normalized separately. For all three sets you'll need to normalize the means and standard deviations of the images to what the network expects. For the means, it's `[0.485, 0.456, 0.406]` and for the standard deviations `[0.229, 0.224, 0.225]`, calculated from the ImageNet images.  These values will shift each color channel to be centered at 0 and range from -1 to 1.\n"
   ]
  },
  {
   "metadata": {},
   "cell_type": "markdown",
   "source": [
    "### Step 1: Loading Data\n",
    "Please refer to \"dataloader.py\" for my implementation of a ImageDataLoader class, which I use to load all the data for this project."
   ]
  },
  {
   "metadata": {},
   "cell_type": "code",
   "source": [
    "# Set data_dir (path to the main dataset folder)\n",
    "data_dir = 'flowers'\n",
    "\n",
    "# Init data loader\n",
    "dataloader = ImageDataLoader(data_dir)\n",
    "\n",
    "# DONE: Define your transforms for the training, validation, and testing sets\n",
    "data_transforms = dataloader.data_transforms\n",
    "\n",
    "# DONE: Load the datasets with ImageFolder\n",
    "image_datasets = dataloader.image_datasets\n",
    "\n",
    "# DONE: Using the image datasets and the trainforms, define the dataloaders\n",
    "dataloaders = dataloader.dataloaders"
   ],
   "outputs": [],
   "execution_count": null
  },
  {
   "metadata": {},
   "cell_type": "markdown",
   "source": [
    "#### Sanity Check #1: Checking if data loaded correctly\n",
    "\n",
    "We plot some images from the training data loader, as well as some original and transformed images."
   ]
  },
  {
   "metadata": {},
   "cell_type": "code",
   "source": [
    "# Show a single image from the validation dataloader\n",
    "image, labels = dataloader.get_batch_data(\"train\")\n",
    "viz.show_image(image[0], title='Sample Image', normalize=True);"
   ],
   "outputs": [],
   "execution_count": null
  },
  {
   "metadata": {},
   "cell_type": "code",
   "source": [
    "# Plot some original and transformed images\n",
    "# These are not from our dataloaders\n",
    "# We just apply the same transform to these test images\n",
    "image_paths = [\"flowers/train/1/image_06737.jpg\",\n",
    "               \"flowers/train/12/image_04000.jpg\",\n",
    "               \"flowers/train/31/image_06899.jpg\"\n",
    "               ]\n",
    "\n",
    "viz.plot_transformed_images(image_paths, data_transforms['train'])"
   ],
   "outputs": [],
   "execution_count": null
  },
  {
   "metadata": {},
   "cell_type": "markdown",
   "source": [
    "#### Sanity Check #2: Loaded Data\n",
    "\n",
    "Just get some basic info about the data loaded"
   ]
  },
  {
   "metadata": {},
   "cell_type": "code",
   "source": [
    "# Get basic information about loaded data\n",
    "for key, value in dataloader.dataset_sizes.items():\n",
    "    print(f\"dataset '{key}', with size: {value}\")\n",
    "\n",
    "print()\n",
    "\n",
    "# Information about data loaders\n",
    "for key, value in dataloader.dataloaders.items():\n",
    "    print(f\"dataloader '{key}', with dataloader: {value}, size: {len(value)} batches of {BATCH_SIZE} images (~{(round(len(value) * BATCH_SIZE))})\")\n",
    "\n",
    "    print()"
   ],
   "outputs": [],
   "execution_count": null
  },
  {
   "metadata": {},
   "cell_type": "markdown",
   "source": [
    "### Label mapping\n",
    "\n",
    "You'll also need to load in a mapping from category label to category name. You can find this in the file `cat_to_name.json`. It's a JSON object which you can read in with the [`json` module](https://docs.python.org/2/library/json.html). This will give you a dictionary mapping the integer encoded categories to the actual names of the flowers."
   ]
  },
  {
   "metadata": {},
   "cell_type": "code",
   "source": [
    "# Use the load_cat_to_name function from the ImageDataLoader class\n",
    "dataloader.load_cat_to_name('cat_to_name.json')\n",
    "\n",
    "# Check: print the loaded data\n",
    "print(f\"cat_to_name: {dataloader.cat_to_name}\")"
   ],
   "outputs": [],
   "execution_count": null
  },
  {
   "metadata": {},
   "cell_type": "markdown",
   "source": [
    "# Building and training the classifier\n",
    "\n",
    "Now that the data is ready, it's time to build and train the classifier. As usual, you should use one of the pretrained models from `torchvision.models` to get the image features. Build and train a new feed-forward classifier using those features.\n",
    "\n",
    "We're going to leave this part up to you. Refer to [the rubric](https://review.udacity.com/#!/rubrics/1663/view) for guidance on successfully completing this section. Things you'll need to do:\n",
    "\n",
    "* Load a [pre-trained network](http://pytorch.org/docs/master/torchvision/models.html) (If you need a starting point, the VGG networks work great and are straightforward to use)\n",
    "* Define a new, untrained feed-forward network as a classifier, using ReLU activations and dropout\n",
    "* Train the classifier layers using backpropagation using the pre-trained network to get the features\n",
    "* Track the loss and accuracy on the validation set to determine the best hyperparameters\n",
    "\n",
    "We've left a cell open for you below, but use as many as you need. Our advice is to break the problem up into smaller parts you can run separately. Check that each part is doing what you expect, then move on to the next. You'll likely find that as you work through each part, you'll need to go back and modify your previous code. This is totally normal!\n",
    "\n",
    "When training make sure you're updating only the weights of the feed-forward network. You should be able to get the validation accuracy above 70% if you build everything right. Make sure to try different hyperparameters (learning rate, units in the classifier, epochs, etc) to find the best model. Save those hyperparameters to use as default values in the next part of the project.\n",
    "\n",
    "One last important tip if you're using the workspace to run your code: To avoid having your workspace disconnect during the long-running tasks in this notebook, please read in the earlier page in this lesson called Intro to\n",
    "GPU Workspaces about Keeping Your Session Active. You'll want to include code from the workspace_utils.py module.\n",
    "\n",
    "**Note for Workspace users:** If your network is over 1 GB when saved as a checkpoint, there might be issues with saving backups in your workspace. Typically this happens with wide dense layers after the convolutional layers. If your saved checkpoint is larger than 1 GB (you can open a terminal and check with `ls -lh`), you should reduce the size of your hidden layers and train again."
   ]
  },
  {
   "metadata": {},
   "cell_type": "markdown",
   "source": [
    "### Step 2: Build and Train Classifier\n",
    "\n",
    "In this step, we use a custom ImageClassifier class, which basically uses transfer learning (pre-trained model). Refer to \"classifier.py\" for more details."
   ]
  },
  {
   "metadata": {},
   "cell_type": "code",
   "source": [
    "# DONE: Build and train your network\n",
    "# Init the ImageClassifier\n",
    "image_classifier = ImageClassifier(n_classes=dataloader.num_classes)\n",
    "# Init model and show model summary before setting the new classifier\n",
    "image_classifier.init_model()\n",
    "image_classifier.show_model_summary()"
   ],
   "outputs": [],
   "execution_count": null
  },
  {
   "metadata": {},
   "cell_type": "code",
   "source": [
    "# Set the classifier and show the new model\n",
    "image_classifier.set_classifier()\n",
    "image_classifier.show_model_summary()"
   ],
   "outputs": [],
   "execution_count": null
  },
  {
   "metadata": {},
   "cell_type": "code",
   "source": [
    "# Show the device info\n",
    "image_classifier.show_device_info()"
   ],
   "outputs": [],
   "execution_count": null
  },
  {
   "metadata": {},
   "cell_type": "code",
   "source": "results = image_classifier.train(dataloaders=dataloader.dataloaders, num_epochs=8)",
   "outputs": [],
   "execution_count": null
  },
  {
   "metadata": {},
   "cell_type": "code",
   "source": [
    "# Print the results\n",
    "print(results)"
   ],
   "outputs": [],
   "execution_count": null
  },
  {
   "metadata": {},
   "cell_type": "markdown",
   "source": [
    "#### Sanity Check #4: Plot Loss Curves\n",
    "\n",
    "We plot the loss curves to check how our training performed"
   ]
  },
  {
   "metadata": {},
   "cell_type": "code",
   "source": "viz.plot_loss_curves(results)",
   "outputs": [],
   "execution_count": null
  },
  {
   "metadata": {},
   "cell_type": "markdown",
   "source": [
    "## Testing your network\n",
    "\n",
    "It's good practice to test your trained network on test data, images the network has never seen either in training or validation. This will give you a good estimate for the model's performance on completely new images. Run the test images through the network and measure the accuracy, the same way you did validation. You should be able to reach around 70% accuracy on the test set if the model has been trained well."
   ]
  },
  {
   "metadata": {},
   "cell_type": "code",
   "source": [
    "# DONE: Do validation on the test set\n",
    "image_classifier.check_accuracy_on_test_data(dataloader=dataloader.dataloaders['test'])"
   ],
   "outputs": [],
   "execution_count": null
  },
  {
   "cell_type": "markdown",
   "metadata": {},
   "source": [
    "## Save the checkpoint\n",
    "\n",
    "Now that your network is trained, save the model so you can load it later for making predictions. You probably want to save other things such as the mapping of classes to indices which you get from one of the image datasets: `image_datasets['train'].class_to_idx`. You can attach this to the model as an attribute which makes inference easier later on.\n",
    "\n",
    "```model.class_to_idx = image_datasets['train'].class_to_idx```\n",
    "\n",
    "Remember that you'll want to completely rebuild the model later so you can use it for inference. Make sure to include any information you need in the checkpoint. If you want to load the model and keep training, you'll want to save the number of epochs as well as the optimizer state, `optimizer.state_dict`. You'll likely want to use this trained model in the next part of the project, so best to save it now."
   ]
  },
  {
   "cell_type": "code",
   "metadata": {},
   "source": [
    "# Print the model state_dict_keys\n",
    "print(f\"Model State Dict Keys: {image_classifier.model.state_dict().keys()}\")"
   ],
   "outputs": [],
   "execution_count": null
  },
  {
   "metadata": {},
   "cell_type": "code",
   "source": [
    "# Save the checkpoint using save_checkpoint method of ImageClassifier object\n",
    "image_classifier.save_checkpoint(\"checkpoints/checkpoint.pth\", dataloader=dataloader)"
   ],
   "outputs": [],
   "execution_count": null
  },
  {
   "cell_type": "markdown",
   "metadata": {},
   "source": [
    "## Loading the checkpoint\n",
    "\n",
    "At this point it's good to write a function that can load a checkpoint and rebuild the model. That way you can come back to this project and keep working on it without having to retrain the network."
   ]
  },
  {
   "cell_type": "code",
   "metadata": {},
   "source": "# DONE: Function written into ImageClassifier class",
   "outputs": [],
   "execution_count": null
  },
  {
   "metadata": {},
   "cell_type": "code",
   "source": [
    "# Load checkpoint into new ImageClassifier\n",
    "new_classifier = load_checkpoint(\"checkpoints/checkpoint.pth\")\n",
    "\n",
    "# Show the model summary\n",
    "new_classifier.show_model_summary()"
   ],
   "outputs": [],
   "execution_count": null
  },
  {
   "metadata": {},
   "cell_type": "code",
   "source": [
    "# Check the new classifier model state_dict keys and make sure all is good\n",
    "print(f\"Model State Dict Keys: {new_classifier.model.state_dict().keys()}\")"
   ],
   "outputs": [],
   "execution_count": null
  },
  {
   "cell_type": "markdown",
   "metadata": {},
   "source": [
    "# Inference for classification\n",
    "\n",
    "Now you'll write a function to use a trained network for inference. That is, you'll pass an image into the network and predict the class of the flower in the image. Write a function called `predict` that takes an image and a model, then returns the top $K$ most likely classes along with the probabilities. It should look like \n",
    "\n",
    "```python\n",
    "probs, classes = predict(image_path, model)\n",
    "print(probs)\n",
    "print(classes)\n",
    "> [ 0.01558163  0.01541934  0.01452626  0.01443549  0.01407339]\n",
    "> ['70', '3', '45', '62', '55']\n",
    "```\n",
    "\n",
    "First you'll need to handle processing the input image such that it can be used in your network. \n",
    "\n",
    "## Image Preprocessing\n",
    "\n",
    "You'll want to use `PIL` to load the image ([documentation](https://pillow.readthedocs.io/en/latest/reference/Image.html)). It's best to write a function that preprocesses the image so it can be used as input for the model. This function should process the images in the same manner used for training. \n",
    "\n",
    "First, resize the images where the shortest side is 256 pixels, keeping the aspect ratio. This can be done with the [`thumbnail`](http://pillow.readthedocs.io/en/3.1.x/reference/Image.html#PIL.Image.Image.thumbnail) or [`resize`](http://pillow.readthedocs.io/en/3.1.x/reference/Image.html#PIL.Image.Image.thumbnail) methods. Then you'll need to crop out the center 224x224 portion of the image.\n",
    "\n",
    "Color channels of images are typically encoded as integers 0-255, but the model expected floats 0-1. You'll need to convert the values. It's easiest with a Numpy array, which you can get from a PIL image like so `np_image = np.array(pil_image)`.\n",
    "\n",
    "As before, the network expects the images to be normalized in a specific way. For the means, it's `[0.485, 0.456, 0.406]` and for the standard deviations `[0.229, 0.224, 0.225]`. You'll want to subtract the means from each color channel, then divide by the standard deviation. \n",
    "\n",
    "And finally, PyTorch expects the color channel to be the first dimension but it's the third dimension in the PIL image and Numpy array. You can reorder dimensions using [`ndarray.transpose`](https://docs.scipy.org/doc/numpy-1.13.0/reference/generated/numpy.ndarray.transpose.html). The color channel needs to be first and retain the order of the other two dimensions."
   ]
  },
  {
   "metadata": {},
   "cell_type": "code",
   "source": "# DONE: Function defined in helpers/visualization.py",
   "outputs": [],
   "execution_count": null
  },
  {
   "cell_type": "markdown",
   "metadata": {},
   "source": [
    "To check your work, the function below converts a PyTorch tensor and displays it in the notebook. If your `process_image` function works, running the output through this function should return the original image (except for the cropped out portions)."
   ]
  },
  {
   "cell_type": "code",
   "metadata": {},
   "source": [
    "def imshow(image, ax=None, title=None):\n",
    "    \"\"\"Imshow for Tensor.\"\"\"\n",
    "    if ax is None:\n",
    "        fig, ax = plt.subplots()\n",
    "    \n",
    "    # PyTorch tensors assume the color channel is the first dimension\n",
    "    # but matplotlib assumes is the third dimension\n",
    "    image = image.numpy().transpose((1, 2, 0))\n",
    "    \n",
    "    # Undo preprocessing\n",
    "    mean = np.array([0.485, 0.456, 0.406])\n",
    "    std = np.array([0.229, 0.224, 0.225])\n",
    "    image = std * image + mean\n",
    "    \n",
    "    # Image needs to be clipped between 0 and 1 or it looks like noise when displayed\n",
    "    image = np.clip(image, 0, 1)\n",
    "    \n",
    "    ax.imshow(image)\n",
    "    \n",
    "    return ax"
   ],
   "outputs": [],
   "execution_count": null
  },
  {
   "metadata": {},
   "cell_type": "code",
   "source": [
    "# test\n",
    "rand_img_path = utils.get_random_image_path(os.path.join(data_dir, 'flowers', 'train'))\n",
    "print(f\"rand img path: \", rand_img_path)\n",
    "img = viz.process_image(rand_img_path)\n",
    "imshow(img);"
   ],
   "outputs": [],
   "execution_count": null
  },
  {
   "metadata": {},
   "cell_type": "code",
   "source": [
    "# try other function\n",
    "img2 = viz.process_image_simple(rand_img_path, dataloader.data_transforms['test'])\n",
    "imshow(img2);"
   ],
   "outputs": [],
   "execution_count": null
  },
  {
   "cell_type": "markdown",
   "metadata": {},
   "source": [
    "## Class Prediction\n",
    "\n",
    "Once you can get images in the correct format, it's time to write a function for making predictions with your model. A common practice is to predict the top 5 or so (usually called top-$K$) most probable classes. You'll want to calculate the class probabilities then find the $K$ largest values.\n",
    "\n",
    "To get the top $K$ largest values in a tensor use [`x.topk(k)`](http://pytorch.org/docs/master/torch.html#torch.topk). This method returns both the highest `k` probabilities and the indices of those probabilities corresponding to the classes. You need to convert from these indices to the actual class labels using `class_to_idx` which hopefully you added to the model or from an `ImageFolder` you used to load the data ([see here](#Save-the-checkpoint)). Make sure to invert the dictionary so you get a mapping from index to class as well.\n",
    "\n",
    "Again, this method should take a path to an image and a model checkpoint, then return the probabilities and classes.\n",
    "\n",
    "```python\n",
    "probs, classes = predict(image_path, model)\n",
    "print(probs)\n",
    "print(classes)\n",
    "> [ 0.01558163  0.01541934  0.01452626  0.01443549  0.01407339]\n",
    "> ['70', '3', '45', '62', '55']\n",
    "```"
   ]
  },
  {
   "cell_type": "code",
   "metadata": {},
   "source": [
    "# DONE: Implement the code to predict the class from an image file\n",
    "# Get a random image path\n",
    "rand_img_path = utils.get_random_image_path(os.path.join(data_dir, 'flowers', 'train'))\n",
    "\n",
    "# Make the prediction\n",
    "device = th.get_device()\n",
    "probs, classes = predict(rand_img_path, new_classifier.model, device)\n",
    "\n",
    "# Print the results\n",
    "print(probs)\n",
    "print(classes)"
   ],
   "outputs": [],
   "execution_count": null
  },
  {
   "cell_type": "markdown",
   "metadata": {},
   "source": [
    "## Sanity Checking\n",
    "\n",
    "Now that you can use a trained model for predictions, check to make sure it makes sense. Even if the testing accuracy is high, it's always good to check that there aren't obvious bugs. Use `matplotlib` to plot the probabilities for the top 5 classes as a bar graph, along with the input image. It should look like this:\n",
    "\n",
    "<img src='assets/inference_example.png' width=300px>\n",
    "\n",
    "You can convert from the class integer encoding to actual flower names with the `cat_to_name.json` file (should have been loaded earlier in the notebook). To show a PyTorch tensor as an image, use the `imshow` function defined above."
   ]
  },
  {
   "metadata": {},
   "cell_type": "code",
   "source": [
    "def show_class_prediction_figure(image_path, model, device, cat_to_name):\n",
    "    probabilities, classes = predict(image_path, model, device)\n",
    "\n",
    "    print(\"Probs: \", probabilities)\n",
    "    print()\n",
    "    print(\"Classes: \", classes)\n",
    "\n",
    "    # To plot more than one sublot\n",
    "    # I used https://github.com/udacity/DL_PyTorch/blob/master/helper.py\n",
    "    # As a starting point.\n",
    "    fig, (ax1, ax2) = plt.subplots(figsize=(6, 8), nrows=2)\n",
    "\n",
    "    fig.subplots_adjust(hspace=0.1, wspace=0.1)\n",
    "\n",
    "    # get the index of the maximum probability\n",
    "    # https://docs.scipy.org/doc/numpy/reference/generated/numpy.argmax.html\n",
    "    max_index = 0\n",
    "\n",
    "    # get the label for the class with the max probability\n",
    "    max_index_label = cat_to_name[str(classes.tolist()[0][0])]\n",
    "\n",
    "    # We 'plot' the image\n",
    "    # open the image\n",
    "    image = Image.open(image_path)\n",
    "\n",
    "    # turn axis off, set the title and show the image\n",
    "    ax1.axis('off')\n",
    "    ax1.set_title(max_index_label)\n",
    "    ax1.imshow(image)\n",
    "\n",
    "    # create all the labels by converting using the cat_to_name\n",
    "    # mapping\n",
    "    labels = []\n",
    "    for cls in classes.tolist()[0]:\n",
    "        # print(\"class:\", cls)\n",
    "        labels.append(cat_to_name[str(cls)])\n",
    "\n",
    "    # show the bar graph\n",
    "    y_pos = np.arange(len(labels))\n",
    "\n",
    "    # print(f\"y_pos: {y_pos}\")\n",
    "\n",
    "    ax2.barh(y_pos, probabilities.tolist()[0])\n",
    "    ax2.set_yticks(y_pos)\n",
    "    ax2.set_yticklabels(labels)\n",
    "    ax2.set_xlim(0, 1.0)\n",
    "\n",
    "    plt.tight_layout()\n"
   ],
   "outputs": [],
   "execution_count": null
  },
  {
   "cell_type": "code",
   "metadata": {},
   "source": [
    "# DONE: Display an image along with the top 5 classes\n",
    "device = th.get_device()\n",
    "# get a random image from a random path\n",
    "random_img_path = utils.get_random_image_path(os.path.join(data_dir, 'flowers', 'test'))\n",
    "print(\"predicting image: \", random_img_path)\n",
    "\n",
    "show_class_prediction_figure(\n",
    "    random_img_path,\n",
    "    new_classifier.model,\n",
    "    th.get_device(),\n",
    "    dataloader.cat_to_name\n",
    ")"
   ],
   "outputs": [],
   "execution_count": null
  },
  {
   "metadata": {},
   "cell_type": "code",
   "source": "",
   "outputs": [],
   "execution_count": null
  }
 ],
 "metadata": {
  "kernelspec": {
   "display_name": "Python 3",
   "language": "python",
   "name": "python3"
  },
  "language_info": {
   "codemirror_mode": {
    "name": "ipython",
    "version": 3
   },
   "file_extension": ".py",
   "mimetype": "text/x-python",
   "name": "python",
   "nbconvert_exporter": "python",
   "pygments_lexer": "ipython3",
   "version": "3.6.6"
  }
 },
 "nbformat": 4,
 "nbformat_minor": 2
}
