{
 "cells": [
  {
   "cell_type": "code",
   "id": "initial_id",
   "metadata": {
    "collapsed": true,
    "ExecuteTime": {
     "end_time": "2025-10-20T18:28:51.255883Z",
     "start_time": "2025-10-20T18:28:51.253520Z"
    }
   },
   "source": "import torch",
   "outputs": [],
   "execution_count": 18
  },
  {
   "metadata": {
    "ExecuteTime": {
     "end_time": "2025-10-20T18:28:51.632731Z",
     "start_time": "2025-10-20T18:28:51.629732Z"
    }
   },
   "cell_type": "code",
   "source": [
    "# Get the number of devices\n",
    "num_cuda_devices = torch.cuda.device_count()\n",
    "print(num_cuda_devices)\n"
   ],
   "id": "7b20b3f1d20a724a",
   "outputs": [
    {
     "name": "stdout",
     "output_type": "stream",
     "text": [
      "2\n"
     ]
    }
   ],
   "execution_count": 19
  },
  {
   "metadata": {
    "ExecuteTime": {
     "end_time": "2025-10-20T18:28:52.122077Z",
     "start_time": "2025-10-20T18:28:52.119590Z"
    }
   },
   "cell_type": "code",
   "source": [
    "# Iterate over each device available and print some information\n",
    "for i in range(torch.cuda.device_count()):\n",
    "    print(f\"Device Name: {torch.cuda.get_device_name(i)}\")\n",
    "    print(f\"Device Capability: {torch.cuda.get_device_capability(i)}\")"
   ],
   "id": "15c27c01a2cf752c",
   "outputs": [
    {
     "name": "stdout",
     "output_type": "stream",
     "text": [
      "Device Name: NVIDIA GeForce RTX 4090\n",
      "Device Capability: (8, 9)\n",
      "Device Name: NVIDIA GeForce RTX 5090\n",
      "Device Capability: (12, 0)\n"
     ]
    }
   ],
   "execution_count": 20
  },
  {
   "metadata": {
    "ExecuteTime": {
     "end_time": "2025-10-20T18:42:03.354039Z",
     "start_time": "2025-10-20T18:42:03.351078Z"
    }
   },
   "cell_type": "code",
   "source": [
    "# Function to get the best CUDA device, based on the\n",
    "# major cuda capability of the device\n",
    "# https://docs.pytorch.org/docs/stable/generated/torch.cuda.get_device_capability.html\n",
    "def get_best_cuda_device():\n",
    "    # We are assuming there is a CUDA device available\n",
    "    # As in, this function is called by another function\n",
    "    # which will first check if cuda is available\n",
    "    best_device = max(\n",
    "        range(torch.cuda.device_count()),\n",
    "        key=lambda i: torch.cuda.get_device_capability(i)[0]\n",
    "    )\n",
    "    return torch.device(f\"cuda:{best_device}\")"
   ],
   "id": "64f97fd53d42efae",
   "outputs": [],
   "execution_count": 34
  },
  {
   "metadata": {
    "ExecuteTime": {
     "end_time": "2025-10-20T18:42:03.694942Z",
     "start_time": "2025-10-20T18:42:03.692079Z"
    }
   },
   "cell_type": "code",
   "source": [
    "# Example usage\n",
    "device = get_best_cuda_device()\n",
    "print(f\"Using device: {device}\")"
   ],
   "id": "4049dcb8bb40f71d",
   "outputs": [
    {
     "name": "stdout",
     "output_type": "stream",
     "text": [
      "Using device: cuda:1\n"
     ]
    }
   ],
   "execution_count": 35
  },
  {
   "metadata": {
    "ExecuteTime": {
     "end_time": "2025-10-20T18:42:04.108945Z",
     "start_time": "2025-10-20T18:42:04.105558Z"
    }
   },
   "cell_type": "code",
   "source": [
    "# Platform agnostic\n",
    "# https://mctm.web.id/blog/2024/PyTorchGPUSelect/\n",
    "def get_device(override=None):\n",
    "    # Check not overriding device to use\n",
    "    if not override:\n",
    "        # Step 1: Check if CUDA is available\n",
    "        if torch.cuda.is_available():\n",
    "            # If so, return the best CUDA device\n",
    "            return get_best_cuda_device()\n",
    "        # Step 2: If no CUDA, check if MPS enabled machine\n",
    "        elif torch.backends.mps.is_available():\n",
    "            # If so, return as device\n",
    "            return torch.device(\"mps\")\n",
    "        # Step 3: If no CUDA and no MPS, then we return CPU\n",
    "        else:\n",
    "            return torch.device(\"cpu\")\n",
    "    else:\n",
    "        # Else, if we are overriding, we specifically return\n",
    "        # the device given by the argument (ie. \"cpu\", \"cuda\", \"cuda:0\", \"mps\", etc)\n",
    "        return torch.device(override)"
   ],
   "id": "522057815bb9af84",
   "outputs": [],
   "execution_count": 36
  },
  {
   "metadata": {
    "ExecuteTime": {
     "end_time": "2025-10-20T18:41:44.132058Z",
     "start_time": "2025-10-20T18:41:44.128990Z"
    }
   },
   "cell_type": "code",
   "source": [
    "test_device = get_device()\n",
    "test_device"
   ],
   "id": "6f0039580d24ea9",
   "outputs": [
    {
     "data": {
      "text/plain": [
       "device(type='cuda', index=1)"
      ]
     },
     "execution_count": 33,
     "metadata": {},
     "output_type": "execute_result"
    }
   ],
   "execution_count": 33
  },
  {
   "metadata": {},
   "cell_type": "code",
   "outputs": [],
   "execution_count": null,
   "source": "",
   "id": "37680d225cbd6c47"
  }
 ],
 "metadata": {
  "kernelspec": {
   "display_name": "Python 3",
   "language": "python",
   "name": "python3"
  },
  "language_info": {
   "codemirror_mode": {
    "name": "ipython",
    "version": 2
   },
   "file_extension": ".py",
   "mimetype": "text/x-python",
   "name": "python",
   "nbconvert_exporter": "python",
   "pygments_lexer": "ipython2",
   "version": "2.7.6"
  }
 },
 "nbformat": 4,
 "nbformat_minor": 5
}
