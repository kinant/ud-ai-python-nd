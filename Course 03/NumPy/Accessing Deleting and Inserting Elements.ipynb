{
 "cells": [
  {
   "cell_type": "code",
   "id": "initial_id",
   "metadata": {
    "collapsed": true,
    "ExecuteTime": {
     "end_time": "2025-09-25T18:19:26.647075Z",
     "start_time": "2025-09-25T18:19:26.545724Z"
    }
   },
   "source": "import numpy as np",
   "outputs": [],
   "execution_count": 1
  },
  {
   "metadata": {
    "ExecuteTime": {
     "end_time": "2025-09-25T18:25:18.131761Z",
     "start_time": "2025-09-25T18:25:18.127265Z"
    }
   },
   "cell_type": "code",
   "source": [
    "x = np.arange(1, 6)\n",
    "print(x)"
   ],
   "id": "e735e008ef7a37c5",
   "outputs": [
    {
     "name": "stdout",
     "output_type": "stream",
     "text": [
      "[1 2 3 4 5]\n"
     ]
    }
   ],
   "execution_count": 2
  },
  {
   "metadata": {
    "ExecuteTime": {
     "end_time": "2025-09-25T18:25:51.107813Z",
     "start_time": "2025-09-25T18:25:51.103101Z"
    }
   },
   "cell_type": "code",
   "source": [
    "print(f\"1st element: {x[0]}\")\n",
    "print(f\"2nd element: {x[1]}\")\n",
    "print(f\"3rd element: {x[2]}\")"
   ],
   "id": "a9705d3c85a2c672",
   "outputs": [
    {
     "name": "stdout",
     "output_type": "stream",
     "text": [
      "1st element: 1\n",
      "2nd element: 2\n",
      "3rd element: 3\n"
     ]
    }
   ],
   "execution_count": 5
  },
  {
   "metadata": {
    "ExecuteTime": {
     "end_time": "2025-09-25T18:26:49.136628Z",
     "start_time": "2025-09-25T18:26:49.131590Z"
    }
   },
   "cell_type": "code",
   "source": [
    "print(f\"1st element: {x[-5]}\")\n",
    "print(f\"2nd element: {x[-4]}\")\n",
    "print(f\"5th element: {x[-1]}\")\n"
   ],
   "id": "92884d2e448ef124",
   "outputs": [
    {
     "name": "stdout",
     "output_type": "stream",
     "text": [
      "1st element: 1\n",
      "2nd element: 2\n",
      "5th element: 5\n"
     ]
    }
   ],
   "execution_count": 8
  },
  {
   "metadata": {
    "ExecuteTime": {
     "end_time": "2025-09-25T18:27:31.732711Z",
     "start_time": "2025-09-25T18:27:31.728366Z"
    }
   },
   "cell_type": "code",
   "source": [
    "x[3] = 20\n",
    "print(x)"
   ],
   "id": "70705bede34d0b38",
   "outputs": [
    {
     "name": "stdout",
     "output_type": "stream",
     "text": [
      "[ 1  2  3 20  5]\n"
     ]
    }
   ],
   "execution_count": 9
  },
  {
   "metadata": {
    "ExecuteTime": {
     "end_time": "2025-09-25T18:28:07.372066Z",
     "start_time": "2025-09-25T18:28:07.366928Z"
    }
   },
   "cell_type": "code",
   "source": [
    "X = np.arange(1, 10).reshape((3, 3))\n",
    "print(X)"
   ],
   "id": "f10f9c20f1e07b0b",
   "outputs": [
    {
     "name": "stdout",
     "output_type": "stream",
     "text": [
      "[[1 2 3]\n",
      " [4 5 6]\n",
      " [7 8 9]]\n"
     ]
    }
   ],
   "execution_count": 11
  },
  {
   "metadata": {
    "ExecuteTime": {
     "end_time": "2025-09-25T18:29:02.932528Z",
     "start_time": "2025-09-25T18:29:02.927529Z"
    }
   },
   "cell_type": "code",
   "source": [
    "print(f\"Element at (0 ,0): {X[0, 0]}\")\n",
    "print(f\"Element at (0 ,1): {X[0, 1]}\")\n",
    "print(f\"Element at (2 ,2): {X[2, 2]}\")"
   ],
   "id": "870fd074d1ef92e0",
   "outputs": [
    {
     "name": "stdout",
     "output_type": "stream",
     "text": [
      "Element at (0 ,0): 1\n",
      "Element at (0 ,1): 2\n",
      "Element at (2 ,2): 9\n"
     ]
    }
   ],
   "execution_count": 13
  },
  {
   "metadata": {
    "ExecuteTime": {
     "end_time": "2025-09-25T18:29:31.273473Z",
     "start_time": "2025-09-25T18:29:31.268441Z"
    }
   },
   "cell_type": "code",
   "source": [
    "X[0, 0] = 20\n",
    "print(X)"
   ],
   "id": "6e4d6b06dcba725b",
   "outputs": [
    {
     "name": "stdout",
     "output_type": "stream",
     "text": [
      "[[20  2  3]\n",
      " [ 4  5  6]\n",
      " [ 7  8  9]]\n"
     ]
    }
   ],
   "execution_count": 14
  },
  {
   "metadata": {
    "ExecuteTime": {
     "end_time": "2025-09-25T18:30:21.625914Z",
     "start_time": "2025-09-25T18:30:21.620989Z"
    }
   },
   "cell_type": "code",
   "source": [
    "x = np.array([1, 2, 3, 4, 5])\n",
    "print(x)"
   ],
   "id": "302bbf573d9aaba4",
   "outputs": [
    {
     "name": "stdout",
     "output_type": "stream",
     "text": [
      "[1 2 3 4 5]\n"
     ]
    }
   ],
   "execution_count": 16
  },
  {
   "metadata": {
    "ExecuteTime": {
     "end_time": "2025-09-25T18:30:50.849561Z",
     "start_time": "2025-09-25T18:30:50.844219Z"
    }
   },
   "cell_type": "code",
   "source": [
    "x = np.delete(x, [0, 4])\n",
    "print(x)"
   ],
   "id": "2a10d312705a7c18",
   "outputs": [
    {
     "name": "stdout",
     "output_type": "stream",
     "text": [
      "[2 3 4]\n"
     ]
    }
   ],
   "execution_count": 17
  },
  {
   "metadata": {
    "ExecuteTime": {
     "end_time": "2025-09-25T18:31:10.888252Z",
     "start_time": "2025-09-25T18:31:10.883021Z"
    }
   },
   "cell_type": "code",
   "source": [
    "Y = np.arange(1, 10).reshape((3, 3))\n",
    "print(Y)"
   ],
   "id": "fc4eb02425ff0627",
   "outputs": [
    {
     "name": "stdout",
     "output_type": "stream",
     "text": [
      "[[1 2 3]\n",
      " [4 5 6]\n",
      " [7 8 9]]\n"
     ]
    }
   ],
   "execution_count": 18
  },
  {
   "metadata": {
    "ExecuteTime": {
     "end_time": "2025-09-25T18:31:46.719008Z",
     "start_time": "2025-09-25T18:31:46.713009Z"
    }
   },
   "cell_type": "code",
   "source": [
    "W = np.delete(Y, 0, axis=0)\n",
    "print(W)"
   ],
   "id": "b893527d81e1fdb2",
   "outputs": [
    {
     "name": "stdout",
     "output_type": "stream",
     "text": [
      "[[4 5 6]\n",
      " [7 8 9]]\n"
     ]
    }
   ],
   "execution_count": 19
  },
  {
   "metadata": {
    "ExecuteTime": {
     "end_time": "2025-09-25T18:32:38.944988Z",
     "start_time": "2025-09-25T18:32:38.939989Z"
    }
   },
   "cell_type": "code",
   "source": [
    "V = np.delete(Y, [0, 2], axis=1)\n",
    "print(V)"
   ],
   "id": "80138f5c80428a8c",
   "outputs": [
    {
     "name": "stdout",
     "output_type": "stream",
     "text": [
      "[[2]\n",
      " [5]\n",
      " [8]]\n"
     ]
    }
   ],
   "execution_count": 20
  },
  {
   "metadata": {
    "ExecuteTime": {
     "end_time": "2025-09-25T18:37:15.205321Z",
     "start_time": "2025-09-25T18:37:15.199466Z"
    }
   },
   "cell_type": "code",
   "source": [
    "x = np.array([1, 2, 3, 4, 5])\n",
    "print(x)\n",
    "\n",
    "x = np.append(x, 6)\n",
    "print(x)"
   ],
   "id": "89c0a8b7d26ed9fe",
   "outputs": [
    {
     "name": "stdout",
     "output_type": "stream",
     "text": [
      "[1 2 3 4 5]\n",
      "[1 2 3 4 5 6]\n"
     ]
    }
   ],
   "execution_count": 25
  },
  {
   "metadata": {
    "ExecuteTime": {
     "end_time": "2025-09-25T18:40:59.190057Z",
     "start_time": "2025-09-25T18:40:59.183733Z"
    }
   },
   "cell_type": "code",
   "source": [
    "Y = np.arange(1, 10).reshape((3, 3))\n",
    "print(Y)\n",
    "\n",
    "V = np.append(Y, [[10, 11, 12]], axis=0)\n",
    "print(Y)"
   ],
   "id": "ff8996f96a746825",
   "outputs": [
    {
     "name": "stdout",
     "output_type": "stream",
     "text": [
      "[[1 2 3]\n",
      " [4 5 6]\n",
      " [7 8 9]]\n",
      "[[1 2 3]\n",
      " [4 5 6]\n",
      " [7 8 9]]\n"
     ]
    }
   ],
   "execution_count": 30
  },
  {
   "metadata": {
    "ExecuteTime": {
     "end_time": "2025-09-25T18:41:53.270256Z",
     "start_time": "2025-09-25T18:41:53.265256Z"
    }
   },
   "cell_type": "code",
   "source": [
    "W = np.append(Y, [[10], [11], [12]], axis=1)\n",
    "print(W)"
   ],
   "id": "27e06cf001692df4",
   "outputs": [
    {
     "name": "stdout",
     "output_type": "stream",
     "text": [
      "[[ 1  2  3 10]\n",
      " [ 4  5  6 11]\n",
      " [ 7  8  9 12]]\n"
     ]
    }
   ],
   "execution_count": 32
  },
  {
   "metadata": {
    "ExecuteTime": {
     "end_time": "2025-09-25T18:42:51.510585Z",
     "start_time": "2025-09-25T18:42:51.504364Z"
    }
   },
   "cell_type": "code",
   "source": [
    "x = np.array([1, 2, 5, 6, 7])\n",
    "print(x)"
   ],
   "id": "5667f245322c8a0c",
   "outputs": [
    {
     "name": "stdout",
     "output_type": "stream",
     "text": [
      "[1 2 5 6 7]\n"
     ]
    }
   ],
   "execution_count": 33
  },
  {
   "metadata": {
    "ExecuteTime": {
     "end_time": "2025-09-25T18:43:26.908662Z",
     "start_time": "2025-09-25T18:43:26.903782Z"
    }
   },
   "cell_type": "code",
   "source": [
    "x = np.insert(x, 2, [3, 4])\n",
    "print(x)"
   ],
   "id": "b76eed35463f6e2c",
   "outputs": [
    {
     "name": "stdout",
     "output_type": "stream",
     "text": [
      "[1 2 3 4 3 4 5 6 7]\n"
     ]
    }
   ],
   "execution_count": 35
  },
  {
   "metadata": {
    "ExecuteTime": {
     "end_time": "2025-09-25T18:47:25.562684Z",
     "start_time": "2025-09-25T18:47:25.557499Z"
    }
   },
   "cell_type": "code",
   "source": [
    "Y = np.array([[1, 2, 3], [7, 8, 9]])\n",
    "print(Y)"
   ],
   "id": "c487b946a01618f0",
   "outputs": [
    {
     "name": "stdout",
     "output_type": "stream",
     "text": [
      "[[1 2 3]\n",
      " [7 8 9]]\n"
     ]
    }
   ],
   "execution_count": 44
  },
  {
   "metadata": {
    "ExecuteTime": {
     "end_time": "2025-09-25T18:47:31.666629Z",
     "start_time": "2025-09-25T18:47:31.661526Z"
    }
   },
   "cell_type": "code",
   "source": [
    "W = np.insert(Y, 1, [[4, 5, 6]], axis=0)\n",
    "print(W)"
   ],
   "id": "6b52a2c1957e8531",
   "outputs": [
    {
     "name": "stdout",
     "output_type": "stream",
     "text": [
      "[[1 2 3]\n",
      " [4 5 6]\n",
      " [7 8 9]]\n"
     ]
    }
   ],
   "execution_count": 46
  },
  {
   "metadata": {
    "ExecuteTime": {
     "end_time": "2025-09-25T18:47:51.038606Z",
     "start_time": "2025-09-25T18:47:51.033607Z"
    }
   },
   "cell_type": "code",
   "source": [
    "V = np.insert(Y, 1, 5, axis=1)\n",
    "print(V)"
   ],
   "id": "e1365783b3d17ea1",
   "outputs": [
    {
     "name": "stdout",
     "output_type": "stream",
     "text": [
      "[[1 5 2 3]\n",
      " [7 5 8 9]]\n"
     ]
    }
   ],
   "execution_count": 48
  },
  {
   "metadata": {
    "ExecuteTime": {
     "end_time": "2025-09-25T18:48:58.905594Z",
     "start_time": "2025-09-25T18:48:58.899779Z"
    }
   },
   "cell_type": "code",
   "source": [
    "x = np.array([1, 2])\n",
    "print(x)\n",
    "print()\n",
    "y = np.array([[3, 4], [5, 6]])\n",
    "print(y)"
   ],
   "id": "858b11280cfc0c8a",
   "outputs": [
    {
     "name": "stdout",
     "output_type": "stream",
     "text": [
      "[1 2]\n",
      "\n",
      "[[3 4]\n",
      " [5 6]]\n"
     ]
    }
   ],
   "execution_count": 50
  },
  {
   "metadata": {
    "ExecuteTime": {
     "end_time": "2025-09-25T18:49:56.559279Z",
     "start_time": "2025-09-25T18:49:56.553928Z"
    }
   },
   "cell_type": "code",
   "source": [
    "z = np.vstack((x, y))\n",
    "print(z)"
   ],
   "id": "8c22bb039534ab0b",
   "outputs": [
    {
     "name": "stdout",
     "output_type": "stream",
     "text": [
      "[[1 2]\n",
      " [3 4]\n",
      " [5 6]]\n"
     ]
    }
   ],
   "execution_count": 51
  },
  {
   "metadata": {
    "ExecuteTime": {
     "end_time": "2025-09-25T18:50:28.923914Z",
     "start_time": "2025-09-25T18:50:28.919463Z"
    }
   },
   "cell_type": "code",
   "source": [
    "w = np.hstack((y, x.reshape(2, 1)))\n",
    "print(w)"
   ],
   "id": "6d22acb64aaf6a1e",
   "outputs": [
    {
     "name": "stdout",
     "output_type": "stream",
     "text": [
      "[[3 4 1]\n",
      " [5 6 2]]\n"
     ]
    }
   ],
   "execution_count": 53
  },
  {
   "metadata": {},
   "cell_type": "code",
   "outputs": [],
   "execution_count": null,
   "source": "",
   "id": "6f5a34af84890d35"
  }
 ],
 "metadata": {
  "kernelspec": {
   "display_name": "Python 3",
   "language": "python",
   "name": "python3"
  },
  "language_info": {
   "codemirror_mode": {
    "name": "ipython",
    "version": 2
   },
   "file_extension": ".py",
   "mimetype": "text/x-python",
   "name": "python",
   "nbconvert_exporter": "python",
   "pygments_lexer": "ipython2",
   "version": "2.7.6"
  }
 },
 "nbformat": 4,
 "nbformat_minor": 5
}
