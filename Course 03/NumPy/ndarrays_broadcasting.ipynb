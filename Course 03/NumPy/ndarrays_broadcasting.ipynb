{
 "cells": [
  {
   "cell_type": "markdown",
   "metadata": {
    "grader_id": "e3inngiwml"
   },
   "source": [
    "Use Broadcasting to create a 4 x 4 ndarray that has its first column full of `1`s, its second column full of `2`s, its third column full of `3`s, etc.."
   ]
  },
  {
   "cell_type": "code",
   "metadata": {
    "grader_id": "kew3c50678j",
    "ExecuteTime": {
     "end_time": "2025-09-25T20:42:54.746288Z",
     "start_time": "2025-09-25T20:42:54.739288Z"
    }
   },
   "source": [
    "import numpy as np\n",
    "\n",
    "# Replace None with appropriate code\n",
    "X = np.ones((4,4)) * [1, 2, 3, 4]\n",
    "print(X)\n",
    "\n",
    "Y = np.ones((4,4)) * np.arange(1, 5)\n",
    "print(Y)\n",
    "\n",
    "### Notebook grading\n",
    "solution = np.ones((4,4)) * np.arange(1,5)\n",
    "if type(X) != np.ndarray:\n",
    "    print(\"`X` should be an ndarray\")\n",
    "elif np.array_equal(X, solution):\n",
    "    print(\"Nice work! You can view my solution below\")\n",
    "elif X.shape != solution.shape:\n",
    "    print(\"Your answer for `X` has a shape of {} but it should be 4 x 4\".format(X.shape))\n",
    "else:\n",
    "    print(\"Your answer for `X` has the right shape but incorrect values\")"
   ],
   "outputs": [
    {
     "name": "stdout",
     "output_type": "stream",
     "text": [
      "[[1. 2. 3. 4.]\n",
      " [1. 2. 3. 4.]\n",
      " [1. 2. 3. 4.]\n",
      " [1. 2. 3. 4.]]\n",
      "[[1. 2. 3. 4.]\n",
      " [1. 2. 3. 4.]\n",
      " [1. 2. 3. 4.]\n",
      " [1. 2. 3. 4.]]\n",
      "Nice work! You can view my solution below\n"
     ]
    }
   ],
   "execution_count": 7
  },
  {
   "metadata": {},
   "cell_type": "code",
   "outputs": [],
   "execution_count": null,
   "source": ""
  }
 ],
 "metadata": {
  "kernelspec": {
   "display_name": "Python 3",
   "language": "python",
   "name": "python3"
  },
  "language_info": {
   "codemirror_mode": {
    "name": "ipython",
    "version": 3
   },
   "file_extension": ".py",
   "mimetype": "text/x-python",
   "name": "python",
   "nbconvert_exporter": "python",
   "pygments_lexer": "ipython3",
   "version": "3.6.3"
  }
 },
 "nbformat": 4,
 "nbformat_minor": 2
}
