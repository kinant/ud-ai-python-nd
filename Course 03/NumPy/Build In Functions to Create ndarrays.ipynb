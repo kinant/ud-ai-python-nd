{
 "cells": [
  {
   "cell_type": "code",
   "id": "initial_id",
   "metadata": {
    "collapsed": true,
    "ExecuteTime": {
     "end_time": "2025-09-25T17:54:36.774703Z",
     "start_time": "2025-09-25T17:54:35.848759Z"
    }
   },
   "source": "import numpy as np",
   "outputs": [],
   "execution_count": 1
  },
  {
   "metadata": {
    "ExecuteTime": {
     "end_time": "2025-09-25T17:55:54.751980Z",
     "start_time": "2025-09-25T17:55:54.745975Z"
    }
   },
   "cell_type": "code",
   "source": [
    "X = np.zeros((3, 4), dtype=int)\n",
    "print(X)"
   ],
   "id": "6beaa88cc32fa7fb",
   "outputs": [
    {
     "name": "stdout",
     "output_type": "stream",
     "text": [
      "[[0 0 0 0]\n",
      " [0 0 0 0]\n",
      " [0 0 0 0]]\n"
     ]
    }
   ],
   "execution_count": 4
  },
  {
   "metadata": {
    "ExecuteTime": {
     "end_time": "2025-09-25T17:55:55.487909Z",
     "start_time": "2025-09-25T17:55:55.483492Z"
    }
   },
   "cell_type": "code",
   "source": "print(\"dtype: \", X.dtype)",
   "id": "c1a39c28cc9d3e8e",
   "outputs": [
    {
     "name": "stdout",
     "output_type": "stream",
     "text": [
      "dtype:  int64\n"
     ]
    }
   ],
   "execution_count": 5
  },
  {
   "metadata": {
    "ExecuteTime": {
     "end_time": "2025-09-25T17:56:23.400936Z",
     "start_time": "2025-09-25T17:56:23.395934Z"
    }
   },
   "cell_type": "code",
   "source": [
    "X = np.ones((4, 5))\n",
    "print(X)"
   ],
   "id": "321e9283e723c6d5",
   "outputs": [
    {
     "name": "stdout",
     "output_type": "stream",
     "text": [
      "[[1. 1. 1. 1. 1.]\n",
      " [1. 1. 1. 1. 1.]\n",
      " [1. 1. 1. 1. 1.]\n",
      " [1. 1. 1. 1. 1.]]\n"
     ]
    }
   ],
   "execution_count": 7
  },
  {
   "metadata": {
    "ExecuteTime": {
     "end_time": "2025-09-25T17:56:47.469246Z",
     "start_time": "2025-09-25T17:56:47.464303Z"
    }
   },
   "cell_type": "code",
   "source": [
    "X = np.full((4, 3), 5)\n",
    "print(X)"
   ],
   "id": "e63e3c420e2e86ae",
   "outputs": [
    {
     "name": "stdout",
     "output_type": "stream",
     "text": [
      "[[5 5 5]\n",
      " [5 5 5]\n",
      " [5 5 5]\n",
      " [5 5 5]]\n"
     ]
    }
   ],
   "execution_count": 8
  },
  {
   "metadata": {
    "ExecuteTime": {
     "end_time": "2025-09-25T17:58:04.124123Z",
     "start_time": "2025-09-25T17:58:04.118791Z"
    }
   },
   "cell_type": "code",
   "source": [
    "X = np.eye(5)\n",
    "print(X)"
   ],
   "id": "557df6a4fe5718e6",
   "outputs": [
    {
     "name": "stdout",
     "output_type": "stream",
     "text": [
      "[[1. 0. 0. 0. 0.]\n",
      " [0. 1. 0. 0. 0.]\n",
      " [0. 0. 1. 0. 0.]\n",
      " [0. 0. 0. 1. 0.]\n",
      " [0. 0. 0. 0. 1.]]\n"
     ]
    }
   ],
   "execution_count": 12
  },
  {
   "metadata": {
    "ExecuteTime": {
     "end_time": "2025-09-25T17:58:38.419183Z",
     "start_time": "2025-09-25T17:58:38.414002Z"
    }
   },
   "cell_type": "code",
   "source": [
    "X = np.diag([10, 20, 30, 40])\n",
    "print(X)"
   ],
   "id": "ecd2e2cb99bcd57f",
   "outputs": [
    {
     "name": "stdout",
     "output_type": "stream",
     "text": [
      "[[10  0  0  0]\n",
      " [ 0 20  0  0]\n",
      " [ 0  0 30  0]\n",
      " [ 0  0  0 40]]\n"
     ]
    }
   ],
   "execution_count": 13
  },
  {
   "metadata": {
    "ExecuteTime": {
     "end_time": "2025-09-25T17:59:26.823833Z",
     "start_time": "2025-09-25T17:59:26.819542Z"
    }
   },
   "cell_type": "code",
   "source": [
    "x = np.arange(10)\n",
    "print(x)"
   ],
   "id": "ab016fbb3f0073cb",
   "outputs": [
    {
     "name": "stdout",
     "output_type": "stream",
     "text": [
      "[0 1 2 3 4 5 6 7 8 9]\n"
     ]
    }
   ],
   "execution_count": 14
  },
  {
   "metadata": {
    "ExecuteTime": {
     "end_time": "2025-09-25T18:00:46.953638Z",
     "start_time": "2025-09-25T18:00:46.948637Z"
    }
   },
   "cell_type": "code",
   "source": [
    "x = np.arange(4, 10)\n",
    "print(x)"
   ],
   "id": "afb45ab7b3eca822",
   "outputs": [
    {
     "name": "stdout",
     "output_type": "stream",
     "text": [
      "[4 5 6 7 8 9]\n"
     ]
    }
   ],
   "execution_count": 15
  },
  {
   "metadata": {
    "ExecuteTime": {
     "end_time": "2025-09-25T18:01:27.075168Z",
     "start_time": "2025-09-25T18:01:27.070036Z"
    }
   },
   "cell_type": "code",
   "source": [
    "x = np.arange(1, 20, 3)\n",
    "print(x)"
   ],
   "id": "ed5e0703cb253787",
   "outputs": [
    {
     "name": "stdout",
     "output_type": "stream",
     "text": [
      "[ 1  4  7 10 13 16 19]\n"
     ]
    }
   ],
   "execution_count": 16
  },
  {
   "metadata": {
    "ExecuteTime": {
     "end_time": "2025-09-25T18:02:13.143034Z",
     "start_time": "2025-09-25T18:02:13.138072Z"
    }
   },
   "cell_type": "code",
   "source": [
    "x = np.linspace(0, 25, 10)\n",
    "print(x)"
   ],
   "id": "c17112eac530f991",
   "outputs": [
    {
     "name": "stdout",
     "output_type": "stream",
     "text": [
      "[ 0.          2.77777778  5.55555556  8.33333333 11.11111111 13.88888889\n",
      " 16.66666667 19.44444444 22.22222222 25.        ]\n"
     ]
    }
   ],
   "execution_count": 19
  },
  {
   "metadata": {
    "ExecuteTime": {
     "end_time": "2025-09-25T18:07:30.312356Z",
     "start_time": "2025-09-25T18:07:30.306516Z"
    }
   },
   "cell_type": "code",
   "source": [
    "x = np.arange(20)\n",
    "print(x)"
   ],
   "id": "d97891a0e97093ec",
   "outputs": [
    {
     "name": "stdout",
     "output_type": "stream",
     "text": [
      "[ 0  1  2  3  4  5  6  7  8  9 10 11 12 13 14 15 16 17 18 19]\n"
     ]
    }
   ],
   "execution_count": 24
  },
  {
   "metadata": {
    "ExecuteTime": {
     "end_time": "2025-09-25T18:07:34.614141Z",
     "start_time": "2025-09-25T18:07:34.609017Z"
    }
   },
   "cell_type": "code",
   "source": [
    "x1 = np.reshape(x, (4, 5))\n",
    "print(x1)"
   ],
   "id": "b90e42b58d5718c4",
   "outputs": [
    {
     "name": "stdout",
     "output_type": "stream",
     "text": [
      "[[ 0  1  2  3  4]\n",
      " [ 5  6  7  8  9]\n",
      " [10 11 12 13 14]\n",
      " [15 16 17 18 19]]\n"
     ]
    }
   ],
   "execution_count": 26
  },
  {
   "metadata": {
    "ExecuteTime": {
     "end_time": "2025-09-25T18:07:46.542974Z",
     "start_time": "2025-09-25T18:07:46.537108Z"
    }
   },
   "cell_type": "code",
   "source": [
    "x2 = np.reshape(x, (10, 2))\n",
    "print(x2)"
   ],
   "id": "afce9d8b4d544b4c",
   "outputs": [
    {
     "name": "stdout",
     "output_type": "stream",
     "text": [
      "[[ 0  1]\n",
      " [ 2  3]\n",
      " [ 4  5]\n",
      " [ 6  7]\n",
      " [ 8  9]\n",
      " [10 11]\n",
      " [12 13]\n",
      " [14 15]\n",
      " [16 17]\n",
      " [18 19]]\n"
     ]
    }
   ],
   "execution_count": 27
  },
  {
   "metadata": {
    "ExecuteTime": {
     "end_time": "2025-09-25T18:09:26.855990Z",
     "start_time": "2025-09-25T18:09:26.850990Z"
    }
   },
   "cell_type": "code",
   "source": [
    "x = np.arange(25).reshape((5, 5))\n",
    "print(x)"
   ],
   "id": "83d0c2051c849ca8",
   "outputs": [
    {
     "name": "stdout",
     "output_type": "stream",
     "text": [
      "[[ 0  1  2  3  4]\n",
      " [ 5  6  7  8  9]\n",
      " [10 11 12 13 14]\n",
      " [15 16 17 18 19]\n",
      " [20 21 22 23 24]]\n"
     ]
    }
   ],
   "execution_count": 30
  },
  {
   "metadata": {
    "ExecuteTime": {
     "end_time": "2025-09-25T18:10:11.561611Z",
     "start_time": "2025-09-25T18:10:11.556219Z"
    }
   },
   "cell_type": "code",
   "source": [
    "x = np.linspace(0, 50, 10, endpoint=False).reshape(5, 2)\n",
    "print(x)"
   ],
   "id": "138b81edae860314",
   "outputs": [
    {
     "name": "stdout",
     "output_type": "stream",
     "text": [
      "[[ 0.  5.]\n",
      " [10. 15.]\n",
      " [20. 25.]\n",
      " [30. 35.]\n",
      " [40. 45.]]\n"
     ]
    }
   ],
   "execution_count": 32
  },
  {
   "metadata": {
    "ExecuteTime": {
     "end_time": "2025-09-25T18:11:10.614580Z",
     "start_time": "2025-09-25T18:11:10.427662Z"
    }
   },
   "cell_type": "code",
   "source": [
    "x = np.random.random((3, 3))\n",
    "print(x)"
   ],
   "id": "29a571b662e688ef",
   "outputs": [
    {
     "name": "stdout",
     "output_type": "stream",
     "text": [
      "[[0.97800842 0.05024599 0.18782482]\n",
      " [0.2679968  0.75176682 0.13132709]\n",
      " [0.15998627 0.37299547 0.86629768]]\n"
     ]
    }
   ],
   "execution_count": 33
  },
  {
   "metadata": {
    "ExecuteTime": {
     "end_time": "2025-09-25T18:11:50.978776Z",
     "start_time": "2025-09-25T18:11:50.973809Z"
    }
   },
   "cell_type": "code",
   "source": [
    "X = np.random.randint(4, 15, size=(3, 2))\n",
    "print(X)"
   ],
   "id": "5bdc4acc9e3381c8",
   "outputs": [
    {
     "name": "stdout",
     "output_type": "stream",
     "text": [
      "[[11  8]\n",
      " [14 11]\n",
      " [10  6]]\n"
     ]
    }
   ],
   "execution_count": 34
  },
  {
   "metadata": {
    "ExecuteTime": {
     "end_time": "2025-09-25T18:12:54.945871Z",
     "start_time": "2025-09-25T18:12:54.900938Z"
    }
   },
   "cell_type": "code",
   "source": [
    "X = np.random.normal(0, 0.1, size=(1000, 1000))\n",
    "print(X)"
   ],
   "id": "d6390dbaf004fdb0",
   "outputs": [
    {
     "name": "stdout",
     "output_type": "stream",
     "text": [
      "[[-0.06037434  0.03121098  0.05862819 ...  0.16758142 -0.03193329\n",
      "  -0.028835  ]\n",
      " [ 0.00964386 -0.00687413  0.13311273 ... -0.24832575 -0.00075382\n",
      "  -0.10034757]\n",
      " [ 0.09897507  0.04274753  0.00205414 ...  0.08273483  0.0549755\n",
      "   0.18591047]\n",
      " ...\n",
      " [ 0.10084411  0.10918307  0.09543514 ...  0.00998929 -0.00652764\n",
      "   0.00136987]\n",
      " [-0.02252549  0.10602767  0.06099563 ... -0.0512231   0.07657053\n",
      "  -0.18866283]\n",
      " [-0.06728165 -0.01115439  0.10260364 ...  0.00578535 -0.05240454\n",
      "  -0.03545571]]\n"
     ]
    }
   ],
   "execution_count": 35
  },
  {
   "metadata": {
    "ExecuteTime": {
     "end_time": "2025-09-25T18:14:20.028903Z",
     "start_time": "2025-09-25T18:14:20.010386Z"
    }
   },
   "cell_type": "code",
   "source": [
    "print(\"mean: \", np.mean(X))\n",
    "print(\"std: \", np.std(X))\n",
    "print(\"min: \", np.min(X))\n",
    "print(\"max: \", np.max(X))\n",
    "print(\"# positive: \", (X > 0).sum())\n",
    "print(\"# negative: \", (X < 0).sum())"
   ],
   "id": "48313c2532cca284",
   "outputs": [
    {
     "name": "stdout",
     "output_type": "stream",
     "text": [
      "mean:  7.435864207789356e-06\n",
      "std:  0.10001853706512051\n",
      "min:  -0.4718627208756354\n",
      "max:  0.49238288529198293\n",
      "# positive:  500004\n",
      "# negative:  499996\n"
     ]
    }
   ],
   "execution_count": 36
  },
  {
   "metadata": {},
   "cell_type": "code",
   "outputs": [],
   "execution_count": null,
   "source": "",
   "id": "2e0e5954c455ecee"
  }
 ],
 "metadata": {
  "kernelspec": {
   "display_name": "Python 3",
   "language": "python",
   "name": "python3"
  },
  "language_info": {
   "codemirror_mode": {
    "name": "ipython",
    "version": 2
   },
   "file_extension": ".py",
   "mimetype": "text/x-python",
   "name": "python",
   "nbconvert_exporter": "python",
   "pygments_lexer": "ipython2",
   "version": "2.7.6"
  }
 },
 "nbformat": 4,
 "nbformat_minor": 5
}
