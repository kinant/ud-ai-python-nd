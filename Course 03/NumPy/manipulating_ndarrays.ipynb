{
 "cells": [
  {
   "cell_type": "markdown",
   "metadata": {
    "grader_id": "xz31jph4blh"
   },
   "source": [
    "Create a 5 x 5 ndarray `X` with consecutive integers from 1 to 25 (inclusive). Afterwards use Boolean indexing to pick out only the odd numbers in the array and assign the result to `Y`."
   ]
  },
  {
   "cell_type": "code",
   "metadata": {
    "grader_id": "et7f63cb2jh",
    "ExecuteTime": {
     "end_time": "2025-09-25T20:31:48.807258Z",
     "start_time": "2025-09-25T20:31:48.799926Z"
    }
   },
   "source": [
    "import numpy as np\n",
    "\n",
    "# TODO: replace None with appropriate code\n",
    "# Create a 5 x 5 ndarray with consecutive integers from 1 to 25 (inclusive).\n",
    "X = np.arange(1, 26).reshape((5, 5))\n",
    "\n",
    "# TODO: replace None with appropriate code\n",
    "# Use Boolean indexing to pick out only the odd numbers in the array\n",
    "Y = X[(X % 2 != 0)]\n",
    "\n",
    "### Notebook grading\n",
    "X_solution = np.arange(1,26).reshape(5,5)\n",
    "Y_solution= X_solution[X_solution % 2 != 0]\n",
    "\n",
    "if type(X) != np.ndarray or type(Y) != np.ndarray:\n",
    "    print(\"`X` and `Y` should both be ndarrays\")\n",
    "elif np.array_equal(X, X_solution) and np.array_equal(Y, Y_solution):\n",
    "    print(\"Nice work! You can view my solution below\")\n",
    "elif X.shape != X_solution.shape:\n",
    "    print(\"Your answer for `X` has a shape of {} but it should be 5 x 5\".format(X.shape))\n",
    "elif len(Y) != len(Y_solution):\n",
    "    print(\"Your answer for `Y` has a length of {} but it should have a length of 13\".format(len(Y)))\n",
    "else:\n",
    "    print(\"Your answers have the right shape but incorrect values\")\n"
   ],
   "outputs": [
    {
     "name": "stdout",
     "output_type": "stream",
     "text": [
      "Nice work! You can view my solution below\n"
     ]
    }
   ],
   "execution_count": 3
  },
  {
   "metadata": {},
   "cell_type": "code",
   "outputs": [],
   "execution_count": null,
   "source": ""
  }
 ],
 "metadata": {
  "kernelspec": {
   "display_name": "Python 3 (ipykernel)",
   "language": "python",
   "name": "python3"
  },
  "language_info": {
   "codemirror_mode": {
    "name": "ipython",
    "version": 3
   },
   "file_extension": ".py",
   "mimetype": "text/x-python",
   "name": "python",
   "nbconvert_exporter": "python",
   "pygments_lexer": "ipython3",
   "version": "3.10.13"
  }
 },
 "nbformat": 4,
 "nbformat_minor": 2
}
