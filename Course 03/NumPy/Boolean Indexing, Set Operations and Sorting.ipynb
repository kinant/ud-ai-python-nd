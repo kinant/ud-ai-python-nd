{
 "cells": [
  {
   "cell_type": "code",
   "id": "initial_id",
   "metadata": {
    "collapsed": true,
    "ExecuteTime": {
     "end_time": "2025-09-25T20:08:32.320911Z",
     "start_time": "2025-09-25T20:08:32.205558Z"
    }
   },
   "source": "import numpy as np",
   "outputs": [],
   "execution_count": 1
  },
  {
   "metadata": {
    "ExecuteTime": {
     "end_time": "2025-09-25T20:09:22.835383Z",
     "start_time": "2025-09-25T20:09:22.830385Z"
    }
   },
   "cell_type": "code",
   "source": [
    "X = np.arange(25).reshape(5, 5)\n",
    "print(X)"
   ],
   "id": "fd73be47f3f51275",
   "outputs": [
    {
     "name": "stdout",
     "output_type": "stream",
     "text": [
      "[[ 0  1  2  3  4]\n",
      " [ 5  6  7  8  9]\n",
      " [10 11 12 13 14]\n",
      " [15 16 17 18 19]\n",
      " [20 21 22 23 24]]\n"
     ]
    }
   ],
   "execution_count": 2
  },
  {
   "metadata": {
    "ExecuteTime": {
     "end_time": "2025-09-25T20:09:44.351306Z",
     "start_time": "2025-09-25T20:09:44.346098Z"
    }
   },
   "cell_type": "code",
   "source": "print(X[X > 10])",
   "id": "c86ec00505a36b8f",
   "outputs": [
    {
     "name": "stdout",
     "output_type": "stream",
     "text": [
      "[11 12 13 14 15 16 17 18 19 20 21 22 23 24]\n"
     ]
    }
   ],
   "execution_count": 3
  },
  {
   "metadata": {
    "ExecuteTime": {
     "end_time": "2025-09-25T20:10:01.599072Z",
     "start_time": "2025-09-25T20:10:01.594573Z"
    }
   },
   "cell_type": "code",
   "source": "print(X[X <= 7])",
   "id": "6696c4c9be7dd9ce",
   "outputs": [
    {
     "name": "stdout",
     "output_type": "stream",
     "text": [
      "[0 1 2 3 4 5 6 7]\n"
     ]
    }
   ],
   "execution_count": 4
  },
  {
   "metadata": {
    "ExecuteTime": {
     "end_time": "2025-09-25T20:10:33.227275Z",
     "start_time": "2025-09-25T20:10:33.222273Z"
    }
   },
   "cell_type": "code",
   "source": "print(X[(X > 10) & (X < 17)])",
   "id": "f41c2df034c7483f",
   "outputs": [
    {
     "name": "stdout",
     "output_type": "stream",
     "text": [
      "[11 12 13 14 15 16]\n"
     ]
    }
   ],
   "execution_count": 5
  },
  {
   "metadata": {
    "ExecuteTime": {
     "end_time": "2025-09-25T20:10:57.609181Z",
     "start_time": "2025-09-25T20:10:57.604248Z"
    }
   },
   "cell_type": "code",
   "source": [
    "X[(X > 10) & (X < 17)] = -1\n",
    "print(X)"
   ],
   "id": "11034f67e8af183e",
   "outputs": [
    {
     "name": "stdout",
     "output_type": "stream",
     "text": [
      "[[ 0  1  2  3  4]\n",
      " [ 5  6  7  8  9]\n",
      " [10 -1 -1 -1 -1]\n",
      " [-1 -1 17 18 19]\n",
      " [20 21 22 23 24]]\n"
     ]
    }
   ],
   "execution_count": 6
  },
  {
   "metadata": {
    "ExecuteTime": {
     "end_time": "2025-09-25T20:12:19.559212Z",
     "start_time": "2025-09-25T20:12:19.552219Z"
    }
   },
   "cell_type": "code",
   "source": [
    "x = np.array([1, 2, 3, 4, 5])\n",
    "y = np.array([6, 7, 2, 8, 4])\n",
    "\n",
    "print(np.intersect1d(x, y))\n",
    "print(np.setdiff1d(x, y))\n",
    "print(np.union1d(x, y))"
   ],
   "id": "17a172b6c9efad61",
   "outputs": [
    {
     "name": "stdout",
     "output_type": "stream",
     "text": [
      "[2 4]\n",
      "[1 3 5]\n",
      "[1 2 3 4 5 6 7 8]\n"
     ]
    }
   ],
   "execution_count": 7
  },
  {
   "metadata": {
    "ExecuteTime": {
     "end_time": "2025-09-25T20:14:27.405421Z",
     "start_time": "2025-09-25T20:14:27.386426Z"
    }
   },
   "cell_type": "code",
   "source": "x = np.random.randint(1, 11, size=(10, ))",
   "id": "34c1250acd9a4c84",
   "outputs": [],
   "execution_count": 9
  },
  {
   "metadata": {
    "ExecuteTime": {
     "end_time": "2025-09-25T20:15:33.602540Z",
     "start_time": "2025-09-25T20:15:33.597331Z"
    }
   },
   "cell_type": "code",
   "source": [
    "print(np.sort(x))\n",
    "print(x)"
   ],
   "id": "cc7ecfc5b5973675",
   "outputs": [
    {
     "name": "stdout",
     "output_type": "stream",
     "text": [
      "[1 1 1 3 4 4 5 6 8 9]\n",
      "[4 6 4 3 1 1 9 5 1 8]\n"
     ]
    }
   ],
   "execution_count": 12
  },
  {
   "metadata": {
    "ExecuteTime": {
     "end_time": "2025-09-25T20:15:33.887626Z",
     "start_time": "2025-09-25T20:15:33.882791Z"
    }
   },
   "cell_type": "code",
   "source": [
    "print(x.sort())\n",
    "print(x)"
   ],
   "id": "110d616117d595ef",
   "outputs": [
    {
     "name": "stdout",
     "output_type": "stream",
     "text": [
      "None\n",
      "[1 1 1 3 4 4 5 6 8 9]\n"
     ]
    }
   ],
   "execution_count": 13
  },
  {
   "metadata": {
    "ExecuteTime": {
     "end_time": "2025-09-25T20:17:24.704240Z",
     "start_time": "2025-09-25T20:17:24.698608Z"
    }
   },
   "cell_type": "code",
   "source": [
    "X = np.random.randint(1, 11, size=(5, 5))\n",
    "print(X)"
   ],
   "id": "4110e90927a08a9",
   "outputs": [
    {
     "name": "stdout",
     "output_type": "stream",
     "text": [
      "[[ 2  2  1  4  4]\n",
      " [ 6  9  7  7  6]\n",
      " [ 2 10  2  8  9]\n",
      " [ 4  7  1  2  8]\n",
      " [ 5  4  4  8  8]]\n"
     ]
    }
   ],
   "execution_count": 17
  },
  {
   "metadata": {
    "ExecuteTime": {
     "end_time": "2025-09-25T20:17:25.320684Z",
     "start_time": "2025-09-25T20:17:25.315669Z"
    }
   },
   "cell_type": "code",
   "source": "print(np.sort(X, axis=0))",
   "id": "8498efdf71d73755",
   "outputs": [
    {
     "name": "stdout",
     "output_type": "stream",
     "text": [
      "[[ 2  2  1  2  4]\n",
      " [ 2  4  1  4  6]\n",
      " [ 4  7  2  7  8]\n",
      " [ 5  9  4  8  8]\n",
      " [ 6 10  7  8  9]]\n"
     ]
    }
   ],
   "execution_count": 18
  },
  {
   "metadata": {
    "ExecuteTime": {
     "end_time": "2025-09-25T20:17:26.399514Z",
     "start_time": "2025-09-25T20:17:26.394513Z"
    }
   },
   "cell_type": "code",
   "source": "print(np.sort(X, axis=1))",
   "id": "33687c4d931aede4",
   "outputs": [
    {
     "name": "stdout",
     "output_type": "stream",
     "text": [
      "[[ 1  2  2  4  4]\n",
      " [ 6  6  7  7  9]\n",
      " [ 2  2  8  9 10]\n",
      " [ 1  2  4  7  8]\n",
      " [ 4  4  5  8  8]]\n"
     ]
    }
   ],
   "execution_count": 19
  },
  {
   "metadata": {},
   "cell_type": "code",
   "outputs": [],
   "execution_count": null,
   "source": "",
   "id": "212ee8e3ebd8f138"
  }
 ],
 "metadata": {
  "kernelspec": {
   "display_name": "Python 3",
   "language": "python",
   "name": "python3"
  },
  "language_info": {
   "codemirror_mode": {
    "name": "ipython",
    "version": 2
   },
   "file_extension": ".py",
   "mimetype": "text/x-python",
   "name": "python",
   "nbconvert_exporter": "python",
   "pygments_lexer": "ipython2",
   "version": "2.7.6"
  }
 },
 "nbformat": 4,
 "nbformat_minor": 5
}
