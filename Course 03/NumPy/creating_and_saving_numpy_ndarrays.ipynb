{
 "cells": [
  {
   "cell_type": "code",
   "id": "initial_id",
   "metadata": {
    "collapsed": true,
    "ExecuteTime": {
     "end_time": "2025-09-24T15:11:04.650890Z",
     "start_time": "2025-09-24T15:11:04.647057Z"
    }
   },
   "source": [
    "import numpy as np\n",
    "\n",
    "x = np.array([1, 2, 3, 4, 5])"
   ],
   "outputs": [],
   "execution_count": 2
  },
  {
   "metadata": {
    "ExecuteTime": {
     "end_time": "2025-09-24T15:11:45.047473Z",
     "start_time": "2025-09-24T15:11:45.043105Z"
    }
   },
   "cell_type": "code",
   "source": [
    "print(x)\n",
    "print(type(x))"
   ],
   "id": "950f92a97be881b1",
   "outputs": [
    {
     "name": "stdout",
     "output_type": "stream",
     "text": [
      "[1 2 3 4 5]\n",
      "<class 'numpy.ndarray'>\n"
     ]
    }
   ],
   "execution_count": 4
  },
  {
   "metadata": {
    "ExecuteTime": {
     "end_time": "2025-09-24T15:12:08.098115Z",
     "start_time": "2025-09-24T15:12:08.089600Z"
    }
   },
   "cell_type": "code",
   "source": "x.dtype",
   "id": "d0cc22da760cb7b3",
   "outputs": [
    {
     "data": {
      "text/plain": [
       "dtype('int64')"
      ]
     },
     "execution_count": 5,
     "metadata": {},
     "output_type": "execute_result"
    }
   ],
   "execution_count": 5
  },
  {
   "metadata": {
    "ExecuteTime": {
     "end_time": "2025-09-24T15:12:38.913489Z",
     "start_time": "2025-09-24T15:12:38.908403Z"
    }
   },
   "cell_type": "code",
   "source": "x.shape",
   "id": "3bcca0da9af505e6",
   "outputs": [
    {
     "data": {
      "text/plain": [
       "(5,)"
      ]
     },
     "execution_count": 6,
     "metadata": {},
     "output_type": "execute_result"
    }
   ],
   "execution_count": 6
  },
  {
   "metadata": {
    "ExecuteTime": {
     "end_time": "2025-09-24T15:28:54.734598Z",
     "start_time": "2025-09-24T15:28:54.729600Z"
    }
   },
   "cell_type": "code",
   "source": [
    "Y = np.array([[1, 2, 3], [4, 5, 6], [7, 8, 9], [10, 11, 12]])\n",
    "print(Y)"
   ],
   "id": "1e777557c8a58068",
   "outputs": [
    {
     "name": "stdout",
     "output_type": "stream",
     "text": [
      "[[ 1  2  3]\n",
      " [ 4  5  6]\n",
      " [ 7  8  9]\n",
      " [10 11 12]]\n"
     ]
    }
   ],
   "execution_count": 9
  },
  {
   "metadata": {
    "ExecuteTime": {
     "end_time": "2025-09-24T15:29:23.403615Z",
     "start_time": "2025-09-24T15:29:23.398101Z"
    }
   },
   "cell_type": "code",
   "source": "Y.shape",
   "id": "8def3c32f34b1b5a",
   "outputs": [
    {
     "data": {
      "text/plain": [
       "(4, 3)"
      ]
     },
     "execution_count": 12,
     "metadata": {},
     "output_type": "execute_result"
    }
   ],
   "execution_count": 12
  },
  {
   "metadata": {
    "ExecuteTime": {
     "end_time": "2025-09-24T15:29:29.620988Z",
     "start_time": "2025-09-24T15:29:29.616181Z"
    }
   },
   "cell_type": "code",
   "source": "Y.size",
   "id": "c4f1599f91bc20c1",
   "outputs": [
    {
     "data": {
      "text/plain": [
       "12"
      ]
     },
     "execution_count": 13,
     "metadata": {},
     "output_type": "execute_result"
    }
   ],
   "execution_count": 13
  },
  {
   "metadata": {
    "ExecuteTime": {
     "end_time": "2025-09-24T15:29:32.889853Z",
     "start_time": "2025-09-24T15:29:32.883854Z"
    }
   },
   "cell_type": "code",
   "source": "Y.ndim",
   "id": "8639f167cf6d8cf0",
   "outputs": [
    {
     "data": {
      "text/plain": [
       "2"
      ]
     },
     "execution_count": 14,
     "metadata": {},
     "output_type": "execute_result"
    }
   ],
   "execution_count": 14
  },
  {
   "metadata": {
    "ExecuteTime": {
     "end_time": "2025-09-24T15:30:41.887752Z",
     "start_time": "2025-09-24T15:30:41.880834Z"
    }
   },
   "cell_type": "code",
   "source": [
    "y = np.zeros((2, 3, 4))\n",
    "print(y)\n",
    "y.ndim"
   ],
   "id": "a7035de127af5e55",
   "outputs": [
    {
     "name": "stdout",
     "output_type": "stream",
     "text": [
      "[[[0. 0. 0. 0.]\n",
      "  [0. 0. 0. 0.]\n",
      "  [0. 0. 0. 0.]]\n",
      "\n",
      " [[0. 0. 0. 0.]\n",
      "  [0. 0. 0. 0.]\n",
      "  [0. 0. 0. 0.]]]\n"
     ]
    },
    {
     "data": {
      "text/plain": [
       "3"
      ]
     },
     "execution_count": 17,
     "metadata": {},
     "output_type": "execute_result"
    }
   ],
   "execution_count": 17
  },
  {
   "metadata": {
    "ExecuteTime": {
     "end_time": "2025-09-24T15:30:58.162730Z",
     "start_time": "2025-09-24T15:30:58.156732Z"
    }
   },
   "cell_type": "code",
   "source": "y.dtype",
   "id": "ddedeb1405d75673",
   "outputs": [
    {
     "data": {
      "text/plain": [
       "dtype('float64')"
      ]
     },
     "execution_count": 18,
     "metadata": {},
     "output_type": "execute_result"
    }
   ],
   "execution_count": 18
  },
  {
   "metadata": {
    "ExecuteTime": {
     "end_time": "2025-09-24T15:31:26.339799Z",
     "start_time": "2025-09-24T15:31:26.335704Z"
    }
   },
   "cell_type": "code",
   "source": "x = np.array(['Hello', 'World'])",
   "id": "c36740b758dfcf7",
   "outputs": [],
   "execution_count": 19
  },
  {
   "metadata": {
    "ExecuteTime": {
     "end_time": "2025-09-24T15:31:37.966795Z",
     "start_time": "2025-09-24T15:31:37.960674Z"
    }
   },
   "cell_type": "code",
   "source": "x.dtype",
   "id": "343bc4aed8e61a8f",
   "outputs": [
    {
     "data": {
      "text/plain": [
       "dtype('<U5')"
      ]
     },
     "execution_count": 20,
     "metadata": {},
     "output_type": "execute_result"
    }
   ],
   "execution_count": 20
  },
  {
   "metadata": {
    "ExecuteTime": {
     "end_time": "2025-09-24T15:32:32.199970Z",
     "start_time": "2025-09-24T15:32:32.191963Z"
    }
   },
   "cell_type": "code",
   "source": "np.save('my_array', x)",
   "id": "52f996d205e685a4",
   "outputs": [],
   "execution_count": 21
  },
  {
   "metadata": {},
   "cell_type": "code",
   "outputs": [],
   "execution_count": null,
   "source": "",
   "id": "db732915b7818955"
  }
 ],
 "metadata": {
  "kernelspec": {
   "display_name": "Python 3",
   "language": "python",
   "name": "python3"
  },
  "language_info": {
   "codemirror_mode": {
    "name": "ipython",
    "version": 2
   },
   "file_extension": ".py",
   "mimetype": "text/x-python",
   "name": "python",
   "nbconvert_exporter": "python",
   "pygments_lexer": "ipython2",
   "version": "2.7.6"
  }
 },
 "nbformat": 4,
 "nbformat_minor": 5
}
