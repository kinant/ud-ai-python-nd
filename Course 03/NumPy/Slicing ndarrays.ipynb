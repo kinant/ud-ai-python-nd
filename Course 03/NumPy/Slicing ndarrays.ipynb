{
 "cells": [
  {
   "cell_type": "code",
   "id": "initial_id",
   "metadata": {
    "collapsed": true,
    "ExecuteTime": {
     "end_time": "2025-09-25T19:48:19.146498Z",
     "start_time": "2025-09-25T19:48:19.037748Z"
    }
   },
   "source": "import numpy as np",
   "outputs": [],
   "execution_count": 1
  },
  {
   "metadata": {},
   "cell_type": "markdown",
   "source": [
    "1. ndarray[start:end]\n",
    "2. ndarray[start:]\n",
    "3. ndarray[:end]"
   ],
   "id": "1d2eafebdfc3245a"
  },
  {
   "metadata": {
    "ExecuteTime": {
     "end_time": "2025-09-25T19:51:15.984615Z",
     "start_time": "2025-09-25T19:51:15.979617Z"
    }
   },
   "cell_type": "code",
   "source": [
    "X = np.arange(1, 21).reshape(4,5)\n",
    "print(X)"
   ],
   "id": "84ff27d72143e2a",
   "outputs": [
    {
     "name": "stdout",
     "output_type": "stream",
     "text": [
      "[[ 1  2  3  4  5]\n",
      " [ 6  7  8  9 10]\n",
      " [11 12 13 14 15]\n",
      " [16 17 18 19 20]]\n"
     ]
    }
   ],
   "execution_count": 3
  },
  {
   "metadata": {
    "ExecuteTime": {
     "end_time": "2025-09-25T19:52:17.824168Z",
     "start_time": "2025-09-25T19:52:17.818910Z"
    }
   },
   "cell_type": "code",
   "source": [
    "z = X[1:4, 2:5]\n",
    "print(z)"
   ],
   "id": "2ba33b4c3a2f6438",
   "outputs": [
    {
     "name": "stdout",
     "output_type": "stream",
     "text": [
      "[[ 8  9 10]\n",
      " [13 14 15]\n",
      " [18 19 20]]\n"
     ]
    }
   ],
   "execution_count": 4
  },
  {
   "metadata": {
    "ExecuteTime": {
     "end_time": "2025-09-25T19:53:38.419110Z",
     "start_time": "2025-09-25T19:53:38.414675Z"
    }
   },
   "cell_type": "code",
   "source": [
    "z = X[1:, 2:]\n",
    "print(z)"
   ],
   "id": "d5674fbdb59b9b68",
   "outputs": [
    {
     "name": "stdout",
     "output_type": "stream",
     "text": [
      "[[ 8  9 10]\n",
      " [13 14 15]\n",
      " [18 19 20]]\n"
     ]
    }
   ],
   "execution_count": 5
  },
  {
   "metadata": {
    "ExecuteTime": {
     "end_time": "2025-09-25T19:54:35.217124Z",
     "start_time": "2025-09-25T19:54:35.211284Z"
    }
   },
   "cell_type": "code",
   "source": [
    "z = X[:3, 2:]\n",
    "print(z)"
   ],
   "id": "bc0adcc4cb1fd99e",
   "outputs": [
    {
     "name": "stdout",
     "output_type": "stream",
     "text": [
      "[[ 3  4  5]\n",
      " [ 8  9 10]\n",
      " [13 14 15]]\n"
     ]
    }
   ],
   "execution_count": 6
  },
  {
   "metadata": {
    "ExecuteTime": {
     "end_time": "2025-09-25T19:55:46.009145Z",
     "start_time": "2025-09-25T19:55:46.004888Z"
    }
   },
   "cell_type": "code",
   "source": [
    "z = X[:, 2]\n",
    "print(z)"
   ],
   "id": "87899abe94542b9d",
   "outputs": [
    {
     "name": "stdout",
     "output_type": "stream",
     "text": [
      "[ 3  8 13 18]\n"
     ]
    }
   ],
   "execution_count": 8
  },
  {
   "metadata": {
    "ExecuteTime": {
     "end_time": "2025-09-25T19:56:26.198116Z",
     "start_time": "2025-09-25T19:56:26.193116Z"
    }
   },
   "cell_type": "code",
   "source": [
    "z = X[:, 2:3]\n",
    "print(z)"
   ],
   "id": "380c80c6dfd1f8e0",
   "outputs": [
    {
     "name": "stdout",
     "output_type": "stream",
     "text": [
      "[[ 3]\n",
      " [ 8]\n",
      " [13]\n",
      " [18]]\n"
     ]
    }
   ],
   "execution_count": 9
  },
  {
   "metadata": {
    "ExecuteTime": {
     "end_time": "2025-09-25T19:57:28.283137Z",
     "start_time": "2025-09-25T19:57:28.278142Z"
    }
   },
   "cell_type": "code",
   "source": "print(X)",
   "id": "cdeb20d41ecb47c6",
   "outputs": [
    {
     "name": "stdout",
     "output_type": "stream",
     "text": [
      "[[ 1  2  3  4  5]\n",
      " [ 6  7  8  9 10]\n",
      " [11 12 13 14 15]\n",
      " [16 17 18 19 20]]\n"
     ]
    }
   ],
   "execution_count": 10
  },
  {
   "metadata": {
    "ExecuteTime": {
     "end_time": "2025-09-25T19:57:56.387687Z",
     "start_time": "2025-09-25T19:57:56.382549Z"
    }
   },
   "cell_type": "code",
   "source": [
    "z = X[1:, 2:]\n",
    "print(z)"
   ],
   "id": "e12a7a5100e9546",
   "outputs": [
    {
     "name": "stdout",
     "output_type": "stream",
     "text": [
      "[[ 8  9 10]\n",
      " [13 14 15]\n",
      " [18 19 20]]\n"
     ]
    }
   ],
   "execution_count": 12
  },
  {
   "metadata": {
    "ExecuteTime": {
     "end_time": "2025-09-25T19:58:20.499895Z",
     "start_time": "2025-09-25T19:58:20.495681Z"
    }
   },
   "cell_type": "code",
   "source": [
    "z[2, 2] = 555\n",
    "print(z)"
   ],
   "id": "7acc333885bad210",
   "outputs": [
    {
     "name": "stdout",
     "output_type": "stream",
     "text": [
      "[[  8   9  10]\n",
      " [ 13  14  15]\n",
      " [ 18  19 555]]\n"
     ]
    }
   ],
   "execution_count": 15
  },
  {
   "metadata": {
    "ExecuteTime": {
     "end_time": "2025-09-25T19:58:15.648653Z",
     "start_time": "2025-09-25T19:58:15.643516Z"
    }
   },
   "cell_type": "code",
   "source": "print(X)",
   "id": "a9ebabe8d73447e7",
   "outputs": [
    {
     "name": "stdout",
     "output_type": "stream",
     "text": [
      "[[  1   2   3   4   5]\n",
      " [  6   7   8   9  10]\n",
      " [ 11  12  13  14  15]\n",
      " [ 16  17  18  19 555]]\n"
     ]
    }
   ],
   "execution_count": 14
  },
  {
   "metadata": {
    "ExecuteTime": {
     "end_time": "2025-09-25T20:02:20.519148Z",
     "start_time": "2025-09-25T20:02:20.513979Z"
    }
   },
   "cell_type": "code",
   "source": [
    "X = np.arange(0, 20).reshape(4, 5)\n",
    "print(X)"
   ],
   "id": "4a2bc6360be3db48",
   "outputs": [
    {
     "name": "stdout",
     "output_type": "stream",
     "text": [
      "[[ 0  1  2  3  4]\n",
      " [ 5  6  7  8  9]\n",
      " [10 11 12 13 14]\n",
      " [15 16 17 18 19]]\n"
     ]
    }
   ],
   "execution_count": 25
  },
  {
   "metadata": {
    "ExecuteTime": {
     "end_time": "2025-09-25T20:02:20.853491Z",
     "start_time": "2025-09-25T20:02:20.848494Z"
    }
   },
   "cell_type": "code",
   "source": [
    "z = np.copy(X[1:, 2:])\n",
    "print(z)"
   ],
   "id": "d584637a9c17f3ad",
   "outputs": [
    {
     "name": "stdout",
     "output_type": "stream",
     "text": [
      "[[ 7  8  9]\n",
      " [12 13 14]\n",
      " [17 18 19]]\n"
     ]
    }
   ],
   "execution_count": 26
  },
  {
   "metadata": {
    "ExecuteTime": {
     "end_time": "2025-09-25T20:02:21.182211Z",
     "start_time": "2025-09-25T20:02:21.177217Z"
    }
   },
   "cell_type": "code",
   "source": [
    "z[2, 2] = 555\n",
    "print(z)"
   ],
   "id": "15a6e709632c09ec",
   "outputs": [
    {
     "name": "stdout",
     "output_type": "stream",
     "text": [
      "[[  7   8   9]\n",
      " [ 12  13  14]\n",
      " [ 17  18 555]]\n"
     ]
    }
   ],
   "execution_count": 27
  },
  {
   "metadata": {
    "ExecuteTime": {
     "end_time": "2025-09-25T20:02:21.545060Z",
     "start_time": "2025-09-25T20:02:21.540631Z"
    }
   },
   "cell_type": "code",
   "source": "print(X)",
   "id": "c885dbd234a97f20",
   "outputs": [
    {
     "name": "stdout",
     "output_type": "stream",
     "text": [
      "[[ 0  1  2  3  4]\n",
      " [ 5  6  7  8  9]\n",
      " [10 11 12 13 14]\n",
      " [15 16 17 18 19]]\n"
     ]
    }
   ],
   "execution_count": 28
  },
  {
   "metadata": {
    "ExecuteTime": {
     "end_time": "2025-09-25T20:02:21.929309Z",
     "start_time": "2025-09-25T20:02:21.924232Z"
    }
   },
   "cell_type": "code",
   "source": [
    "indices = np.array([1, 3])\n",
    "print(indices)"
   ],
   "id": "b3043d324d5e43c6",
   "outputs": [
    {
     "name": "stdout",
     "output_type": "stream",
     "text": [
      "[1 3]\n"
     ]
    }
   ],
   "execution_count": 29
  },
  {
   "metadata": {
    "ExecuteTime": {
     "end_time": "2025-09-25T20:02:22.420606Z",
     "start_time": "2025-09-25T20:02:22.415444Z"
    }
   },
   "cell_type": "code",
   "source": [
    "z = X[indices, :]\n",
    "print(z)"
   ],
   "id": "1365aec497d93c2",
   "outputs": [
    {
     "name": "stdout",
     "output_type": "stream",
     "text": [
      "[[ 5  6  7  8  9]\n",
      " [15 16 17 18 19]]\n"
     ]
    }
   ],
   "execution_count": 30
  },
  {
   "metadata": {
    "ExecuteTime": {
     "end_time": "2025-09-25T20:02:35.697283Z",
     "start_time": "2025-09-25T20:02:35.692943Z"
    }
   },
   "cell_type": "code",
   "source": [
    "z = X[:, indices]\n",
    "print(z)"
   ],
   "id": "74cda9d2bcb9bb54",
   "outputs": [
    {
     "name": "stdout",
     "output_type": "stream",
     "text": [
      "[[ 1  3]\n",
      " [ 6  8]\n",
      " [11 13]\n",
      " [16 18]]\n"
     ]
    }
   ],
   "execution_count": 31
  },
  {
   "metadata": {
    "ExecuteTime": {
     "end_time": "2025-09-25T20:03:03.700621Z",
     "start_time": "2025-09-25T20:03:03.694853Z"
    }
   },
   "cell_type": "code",
   "source": [
    "z = np.diag(X)\n",
    "print(z)"
   ],
   "id": "b71acec6aeb0acae",
   "outputs": [
    {
     "name": "stdout",
     "output_type": "stream",
     "text": [
      "[ 0  6 12 18]\n"
     ]
    }
   ],
   "execution_count": 32
  },
  {
   "metadata": {
    "ExecuteTime": {
     "end_time": "2025-09-25T20:03:28.389022Z",
     "start_time": "2025-09-25T20:03:28.384023Z"
    }
   },
   "cell_type": "code",
   "source": [
    "z = np.diag(X, k=1)\n",
    "print(z)"
   ],
   "id": "b8dc9d6c45ee2a97",
   "outputs": [
    {
     "name": "stdout",
     "output_type": "stream",
     "text": [
      "[ 1  7 13 19]\n"
     ]
    }
   ],
   "execution_count": 33
  },
  {
   "metadata": {
    "ExecuteTime": {
     "end_time": "2025-09-25T20:04:31.408040Z",
     "start_time": "2025-09-25T20:04:31.402858Z"
    }
   },
   "cell_type": "code",
   "source": [
    "X = np.array([[1, 2, 3], [5, 2, 8], [1, 2, 3]])\n",
    "print(X)"
   ],
   "id": "8cee861360831cd9",
   "outputs": [
    {
     "name": "stdout",
     "output_type": "stream",
     "text": [
      "[[1 2 3]\n",
      " [5 2 8]\n",
      " [1 2 3]]\n"
     ]
    }
   ],
   "execution_count": 35
  },
  {
   "metadata": {
    "ExecuteTime": {
     "end_time": "2025-09-25T20:04:43.185859Z",
     "start_time": "2025-09-25T20:04:43.180860Z"
    }
   },
   "cell_type": "code",
   "source": [
    "z = np.unique(X)\n",
    "print(z)"
   ],
   "id": "20b14471ffc36f10",
   "outputs": [
    {
     "name": "stdout",
     "output_type": "stream",
     "text": [
      "[1 2 3 5 8]\n"
     ]
    }
   ],
   "execution_count": 36
  },
  {
   "metadata": {},
   "cell_type": "code",
   "outputs": [],
   "execution_count": null,
   "source": "",
   "id": "5297919a43c087f2"
  }
 ],
 "metadata": {
  "kernelspec": {
   "display_name": "Python 3",
   "language": "python",
   "name": "python3"
  },
  "language_info": {
   "codemirror_mode": {
    "name": "ipython",
    "version": 2
   },
   "file_extension": ".py",
   "mimetype": "text/x-python",
   "name": "python",
   "nbconvert_exporter": "python",
   "pygments_lexer": "ipython2",
   "version": "2.7.6"
  }
 },
 "nbformat": 4,
 "nbformat_minor": 5
}
