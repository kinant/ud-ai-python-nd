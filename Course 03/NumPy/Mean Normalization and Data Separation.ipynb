{
 "cells": [
  {
   "cell_type": "markdown",
   "metadata": {},
   "source": [
    "# Mean Normalization\n",
    "\n",
    "In machine learning we use large amounts of data to train our models. Some machine learning algorithms may require that the data is *normalized* in order to work correctly. The idea of normalization, also known as *feature scaling*, is to ensure that all the data is on a similar scale, *i.e.* that all the data takes on a similar range of values. For example, we might have a dataset that has values between 0 and 5,000. By normalizing the data we can make the range of values be between 0 and 1.\n",
    "\n",
    "In this lab, you will be performing a different kind of feature scaling known as *mean normalization*. Mean normalization will scale the data, but instead of making the values be between 0 and 1, it will distribute the values evenly in some small interval around zero. For example, if we have a dataset that has values between 0 and 5,000, after mean normalization the range of values will be distributed in some small range around 0, for example between -3 to 3. Because the range of values are distributed evenly around zero, this guarantees that the average (mean) of all elements will be zero. Therefore, when you perform *mean normalization* your data will not only be scaled but it will also have an average of zero. \n",
    "\n",
    "# To Do:\n",
    "\n",
    "You will start by importing NumPy and creating a rank 2 ndarray of random integers between 0 and 5,000 (inclusive) with 1000 rows and 20 columns. This array will simulate a dataset with a wide range of values. Fill in the code below"
   ]
  },
  {
   "cell_type": "code",
   "metadata": {
    "ExecuteTime": {
     "end_time": "2025-09-24T18:50:36.937569Z",
     "start_time": "2025-09-24T18:50:36.931573Z"
    }
   },
   "source": [
    "# import NumPy into Python\n",
    "import numpy as np\n",
    "\n",
    "# Create a 1000 x 20 ndarray with random integers in the half-open interval [0, 5001).\n",
    "X = np.random.randint(0, 5001, (1000, 20))\n",
    "\n",
    "# print the shape of X\n",
    "print(X.shape)"
   ],
   "outputs": [
    {
     "name": "stdout",
     "output_type": "stream",
     "text": [
      "(1000, 20)\n"
     ]
    }
   ],
   "execution_count": 9
  },
  {
   "cell_type": "markdown",
   "metadata": {},
   "source": [
    "Now that you created the array we will mean normalize it. We will perform mean normalization using the following equation:\n",
    "\n",
    "$\\mbox{Norm\\_Col}_i = \\frac{\\mbox{Col}_i - \\mu_i}{\\sigma_i}$\n",
    "\n",
    "where $\\mbox{Col}_i$ is the $i$th column of $X$, $\\mu_i$ is average of the values in the $i$th column of $X$, and $\\sigma_i$ is the standard deviation of the values in the $i$th column of $X$. In other words, mean normalization is performed by subtracting from each column of $X$ the average of its values, and then by dividing by the standard deviation of its values. In the space below, you will first calculate the average and standard deviation of each column of $X$. "
   ]
  },
  {
   "cell_type": "code",
   "metadata": {
    "ExecuteTime": {
     "end_time": "2025-09-24T18:53:47.682333Z",
     "start_time": "2025-09-24T18:53:47.677320Z"
    }
   },
   "source": [
    "# Average of the values in each column of X\n",
    "ave_cols = np.average(X, axis=0)\n",
    "\n",
    "# Standard Deviation of the values in each column of X\n",
    "std_cols = np.std(X, axis=0)\n"
   ],
   "outputs": [],
   "execution_count": 16
  },
  {
   "cell_type": "markdown",
   "metadata": {},
   "source": [
    "If you have done the above calculations correctly, then `ave_cols` and `std_cols`, should both be vectors with shape `(20,)` since $X$ has 20 columns. You can verify this by filling the code below:"
   ]
  },
  {
   "cell_type": "code",
   "metadata": {
    "ExecuteTime": {
     "end_time": "2025-09-24T18:53:48.959420Z",
     "start_time": "2025-09-24T18:53:48.954156Z"
    }
   },
   "source": [
    "# Print the shape of ave_cols\n",
    "print(ave_cols.shape)\n",
    "\n",
    "# Print the shape of std_cols\n",
    "print(std_cols.shape)"
   ],
   "outputs": [
    {
     "name": "stdout",
     "output_type": "stream",
     "text": [
      "(20,)\n",
      "(20,)\n"
     ]
    }
   ],
   "execution_count": 17
  },
  {
   "cell_type": "markdown",
   "metadata": {},
   "source": [
    "You can now take advantage of Broadcasting to calculate the mean normalized version of $X$ in just one line of code using the equation above. Fill in the code below"
   ]
  },
  {
   "cell_type": "code",
   "metadata": {
    "ExecuteTime": {
     "end_time": "2025-09-24T19:05:47.757693Z",
     "start_time": "2025-09-24T19:05:47.751175Z"
    }
   },
   "source": [
    "# Mean normalize X\n",
    "X_norm = (X - ave_cols) / std_cols\n",
    "print(X_norm)\n",
    "print(X_norm.shape)"
   ],
   "outputs": [
    {
     "name": "stdout",
     "output_type": "stream",
     "text": [
      "[[ 0.49801464  0.04098447 -0.44040147 ...  0.61324621 -1.55455103\n",
      "   1.18614603]\n",
      " [ 0.60927796 -1.05565758  0.59159076 ... -0.34232172 -1.19602541\n",
      "  -1.25681789]\n",
      " [ 0.26443076 -1.5054549   0.14335171 ... -0.62988644 -1.6919626\n",
      "   1.65297678]\n",
      " ...\n",
      " [-0.01683739  1.21630624 -0.88586074 ... -1.18781703 -1.50990971\n",
      "  -0.73172104]\n",
      " [ 0.01840751 -1.31954796  0.08289156 ... -0.32925059 -0.08975766\n",
      "  -0.36387246]\n",
      " [ 0.57057767  1.13136     1.04330453 ... -1.20501587  0.2262192\n",
      "  -0.13712609]]\n",
      "(1000, 20)\n"
     ]
    }
   ],
   "execution_count": 28
  },
  {
   "cell_type": "markdown",
   "metadata": {},
   "source": [
    "If you have performed the mean normalization correctly, then the average of all the elements in $X_{\\tiny{\\mbox{norm}}}$ should be close to zero, and they should be evenly distributed in some small interval around zero. You can verify this by filing the code below:"
   ]
  },
  {
   "cell_type": "code",
   "metadata": {
    "ExecuteTime": {
     "end_time": "2025-09-24T18:57:02.247253Z",
     "start_time": "2025-09-24T18:57:02.241245Z"
    }
   },
   "source": [
    "# Print the average of all the values of X_norm\n",
    "print(np.average(X_norm))\n",
    "\n",
    "# Print the average of the minimum value in each column of X_norm\n",
    "print(np.average(np.min(X_norm, axis=0)))\n",
    "\n",
    "# Print the average of the maximum value in each column of X_norm\n",
    "print(np.average(np.max(X_norm, axis=0)))"
   ],
   "outputs": [
    {
     "name": "stdout",
     "output_type": "stream",
     "text": [
      "2.1316282072803006e-17\n",
      "-1.728383815907598\n",
      "1.7296854845596603\n"
     ]
    }
   ],
   "execution_count": 25
  },
  {
   "cell_type": "markdown",
   "metadata": {},
   "source": [
    "You should note that since $X$ was created using random integers, the above values will vary. \n",
    "\n",
    "# Data Separation\n",
    "\n",
    "After the data has been mean normalized, it is customary in machine learnig to split our dataset into three sets:\n",
    "\n",
    "1. A Training Set\n",
    "2. A Cross Validation Set\n",
    "3. A Test Set\n",
    "\n",
    "The dataset is usually divided such that the Training Set contains 60% of the data, the Cross Validation Set contains 20% of the data, and the Test Set contains 20% of the data. \n",
    "\n",
    "In this part of the lab you will separate `X_norm` into a Training Set, Cross Validation Set, and a Test Set. Each data set will contain rows of `X_norm` chosen at random, making sure that we don't pick the same row twice. This will guarantee that all the rows of `X_norm` are chosen and randomly distributed among the three new sets.\n",
    "\n",
    "You will start by creating a rank 1 ndarray that contains a random permutation of the row indices of `X_norm`. You can do this by using the `np.random.permutation()` function. The `np.random.permutation(N)` function creates a random permutation of integers from 0 to `N - 1`. Let's see an example:"
   ]
  },
  {
   "cell_type": "code",
   "metadata": {
    "ExecuteTime": {
     "end_time": "2025-09-24T19:04:42.665742Z",
     "start_time": "2025-09-24T19:04:42.656915Z"
    }
   },
   "source": [
    "# We create a random permutation of integers 0 to 4\n",
    "np.random.permutation(5)"
   ],
   "outputs": [
    {
     "data": {
      "text/plain": [
       "array([0, 2, 1, 4, 3], dtype=int32)"
      ]
     },
     "execution_count": 26,
     "metadata": {},
     "output_type": "execute_result"
    }
   ],
   "execution_count": 26
  },
  {
   "cell_type": "markdown",
   "metadata": {},
   "source": [
    "# To Do\n",
    "\n",
    "In the space below create a rank 1 ndarray that contains a random permutation of the row indices of `X_norm`. You can do this in one line of code by extracting the number of rows of `X_norm` using the `shape` attribute and then passing it to the  `np.random.permutation()` function. Remember the `shape` attribute returns a tuple with two numbers in the form `(rows,columns)`."
   ]
  },
  {
   "cell_type": "code",
   "metadata": {
    "ExecuteTime": {
     "end_time": "2025-09-24T19:07:19.398696Z",
     "start_time": "2025-09-24T19:07:19.390841Z"
    }
   },
   "source": [
    "# Create a rank 1 ndarray that contains a random permutation of the row indices of `X_norm`\n",
    "row_indices = np.random.permutation(X_norm.shape[0])\n",
    "print(row_indices)"
   ],
   "outputs": [
    {
     "name": "stdout",
     "output_type": "stream",
     "text": [
      "[350 193 601  12 488 542 632 353 856 405  19 146 442 591 242 783 600 145\n",
      " 224  78 708 920 214 720 659 793 822 524 586 878 904 149 991 789 430 245\n",
      " 541  74 995  15 915 562 905 418 938  28 400  20 176 421  89 551  30 570\n",
      " 286  53 354 357 526 466 987 831 979 491 385 426 432 603 853 275 228 798\n",
      " 698 120 617 858 298 606 547 304 731 689 381 803 106 362 898 657 221 794\n",
      " 250 797 395 587 722 705 640 156 300 246 642 235 355 627 847 863 595 291\n",
      " 747 255 961 896 309 306 706 186 593  36 545 165 371 152 685 412 510 872\n",
      " 567 392 137 930 810 838 928 151 232 749 191 560 829 759 695  35 437 820\n",
      " 833 122 770 675 167 761   3 425 399 743  46 725 781 207 958 989 816  99\n",
      " 543 327 969 522 302 374 729 774 663 393 631 962 464 584 265 578 735 684\n",
      " 935 458 476 319 886 891 652 740 574 321 234 416 397 289 662 753  25 460\n",
      "  27 724 428 732 796 745 655 654  33 198 602 361 607 325 773 348 712 281\n",
      " 136 555 809 957 626  95 332  62 453 251 639 907 211 656 160 484 839 469\n",
      " 807 391 792  79 949 475 200 978 934 786 782 860 864 959 423 461 614 676\n",
      "  48 196 253 503 813 754 479 844 870 528 621 647 723 143 556 159 615 386\n",
      " 618 727 233 358 911  52 203 561 715 166 622 711 625 826 271 240 590 199\n",
      " 363 585 539  26  71  60 763   0 888 843 295 948 282 943 296 764 906   6\n",
      " 511 192 380   2 686 956 367 936 140 267 261 168 682  50 658 765 287 446\n",
      " 717 965 634 370 489  23 881 699 517 141 984 187 855 909 305 637 818 982\n",
      " 164 636 118 968 670 502 897 851 834  57 889 875 719 202  92 485 419 341\n",
      " 775 890 308 241 431 573 481 247  75 901 755 378 933 932 463 955 716 563\n",
      " 204 514 664 337 899  91 553  84 345 359 283  66 912 757  59 208 170 323\n",
      " 254  13 415 612 742 867 257 126 268 462 450 701 917 707 693 119 435 459\n",
      " 942 690  49 981 280 879 452 643 482 694 315   5 135 646 986 217 303 976\n",
      " 456 270 673 477 410 946 422 588 702  87 185 100 101 868  64 390 988 873\n",
      " 733 737  24 565 877 677 777 238 500 181 644 605 902 105 665 292 179 372\n",
      "  38 338 133 564 966 970 776 169 610 645 144 916 752 939  16 222 248 184\n",
      " 730   7 530 842 138 771 680 439 252 608 703 225 756 220 427 566 117 950\n",
      " 294 333 998 785 494 273 266 515 611 787  31  11 841 230  17 819  76 339\n",
      "  61 443 559 344   1 334 369 307 649 994 516 113 937 331 111 688 620  82\n",
      " 925 885 243 767 975 313 210 629 236 865 817  21 388 212 139 531  70 854\n",
      " 414   9 714  94 613 404 866 746 804 650 668 726  41 894 696 630 892 859\n",
      " 760 750 436 343 311 921 848 728 293 505 441 544 692  67 748 661 438 284\n",
      " 329 952 583 263 335 997 914 182 189 648 812 546 805 577  54 990  81 575\n",
      " 609 521 173 478 580 751 903 558 401 815 175 377 882  85 836 638 827 112\n",
      " 972 223 394 527 227 403 226 264  98 512 779 825  63 347 784 799 993  77\n",
      " 790 455 368 641 519 444 953 330 239 791 244 163 922 671 927 869 190 402\n",
      " 314 486 552 721 739  39 229 336 320 769 467 148 379  80  29 861 417 599\n",
      " 276 678 445 487 653 589 102 172 498 508 697 277 125 134 483 183 801  90\n",
      " 351  86 963 449 660 534 983 490  72 408 116 532 980  42 497 795 736 929\n",
      " 420 364 581 153 569 734 845 977  68 582 115 550  58  97 382 623 780 823\n",
      " 944 849 683 862 157 205 178 180 850 710 440 501 840 470  44  69 174 568\n",
      " 231  51 619 317 924 213 846 129  43 360 594 880 299 375  93  18 398 468\n",
      " 376 766 913 960 195 366 811 301 830 177 383  40 457 713 651 288 409 837\n",
      " 326 324 127 908 666 142 835   8 700 413 824 537 318 520 964 954 973 821\n",
      " 806 624 762 473 883 971 718 941 312 201 800 884 768 342 454 635 269 114\n",
      " 387 161 279 616 104 278 674 499 548 633 828 814 188 249 150 910 576 999\n",
      " 260 132  47 103 352 535 216 992 109 411 131 579 472 974 407 628 433 832\n",
      " 529 147  37 506 931 130 513 346 996 492 951 772 328 297 738 893 218 272\n",
      " 592  34 923 672 509 857 209 572 447 285 667 128 171  45 219  32 389 554\n",
      "  73 108 349 557  83 871 197 206 429 474 940 691 107  65 788 316 258 523\n",
      " 895 744 549 237 121 758 679 945 538 852 155 434 194 448 704 310 540 340\n",
      " 874 110 424 887 274 571 496 256 373  10  96 322 876 518 154 406 681 162\n",
      " 778 947 480 597 124 215 598 967 365 493 802 471 741  14 919 604 356 123\n",
      " 918 533 687 985  88 536 396 669  56 507 808 259 384  22 926 709 525 596\n",
      " 504 262 451 465 158  55 290 900   4 495]\n"
     ]
    }
   ],
   "execution_count": 30
  },
  {
   "cell_type": "markdown",
   "metadata": {},
   "source": [
    "Now you can create the three datasets using the `row_indices` ndarray to select the rows that will go into each dataset. Rememeber that the Training Set contains 60% of the data, the Cross Validation Set contains 20% of the data, and the Test Set contains 20% of the data. Each set requires just one line of code to create. Fill in the code below"
   ]
  },
  {
   "cell_type": "code",
   "metadata": {
    "ExecuteTime": {
     "end_time": "2025-09-24T20:22:45.174717Z",
     "start_time": "2025-09-24T20:22:45.169217Z"
    }
   },
   "source": [
    "# Make any necessary calculations.\n",
    "# You can save your calculations into variables to use later.\n",
    "sixty = int(len(X_norm) * 0.6)\n",
    "eighty = int(len(X_norm) * 0.80)\n",
    "\n",
    "# Create a Training Set\n",
    "X_train = X_norm[row_indices[:sixty,]]\n",
    "\n",
    "# Create a Cross Validation Set\n",
    "X_crossVal = X_norm[row_indices[sixty:eighty,]]\n",
    "\n",
    "# Create a Test Set\n",
    "X_test = X_norm[row_indices[eighty:,]]"
   ],
   "outputs": [],
   "execution_count": 38
  },
  {
   "cell_type": "markdown",
   "metadata": {},
   "source": [
    "If you performed the above calculations correctly, then `X_train` should have 600 rows and 20 columns, `X_crossVal` should have 200 rows and 20 columns, and `X_test` should have 200 rows and 20 columns. You can verify this by filling the code below:"
   ]
  },
  {
   "cell_type": "code",
   "metadata": {
    "ExecuteTime": {
     "end_time": "2025-09-24T20:23:06.269070Z",
     "start_time": "2025-09-24T20:23:06.263129Z"
    }
   },
   "source": [
    "# Print the shape of X_train\n",
    "print(X_train.shape)\n",
    "\n",
    "# Print the shape of X_crossVal\n",
    "print(X_crossVal.shape)\n",
    "\n",
    "# Print the shape of X_test\n",
    "print(X_test.shape)"
   ],
   "outputs": [
    {
     "name": "stdout",
     "output_type": "stream",
     "text": [
      "(600, 20)\n",
      "(200, 20)\n",
      "(200, 20)\n"
     ]
    }
   ],
   "execution_count": 39
  },
  {
   "cell_type": "code",
   "metadata": {},
   "source": [],
   "outputs": [],
   "execution_count": null
  }
 ],
 "metadata": {
  "kernelspec": {
   "display_name": "Python 3 (ipykernel)",
   "language": "python",
   "name": "python3"
  },
  "language_info": {
   "codemirror_mode": {
    "name": "ipython",
    "version": 3
   },
   "file_extension": ".py",
   "mimetype": "text/x-python",
   "name": "python",
   "nbconvert_exporter": "python",
   "pygments_lexer": "ipython3",
   "version": "3.12.11"
  }
 },
 "nbformat": 4,
 "nbformat_minor": 4
}
