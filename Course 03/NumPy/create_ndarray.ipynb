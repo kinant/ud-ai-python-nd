{
 "cells": [
  {
   "cell_type": "markdown",
   "metadata": {
    "grader_id": "igduv388re"
   },
   "source": [
    "Using the NumPy functions you learned about on the previous page, create a 4 x 4 ndarray that only contains consecutive even numbers from 2 to 32 (inclusive)."
   ]
  },
  {
   "cell_type": "code",
   "metadata": {
    "grader_id": "vq4pk5pgzkr",
    "ExecuteTime": {
     "end_time": "2025-09-25T18:18:09.556376Z",
     "start_time": "2025-09-25T18:18:09.549866Z"
    }
   },
   "source": [
    "import numpy as np\n",
    "\n",
    "# Replace None with appropriate code\n",
    "X = np.arange(2, 33, 2).reshape((4, 4))\n",
    "print(X)\n",
    "\n",
    "### Notebook grading\n",
    "solution = np.arange(2,34,2).reshape(4,4)\n",
    "\n",
    "if type(X) != np.ndarray:\n",
    "    print(\"`X` should be an ndarray\")\n",
    "elif np.array_equal(X, solution):\n",
    "    print(\"Nice work! You can view my solution below\")\n",
    "elif X.shape != solution.shape:\n",
    "    print(\"Your answer for `X` has a shape of {} but it should be 4 x 4\".format(X.shape))\n",
    "else:\n",
    "    print(\"Your answer for `X` has the right shape but incorrect values\")"
   ],
   "outputs": [
    {
     "name": "stdout",
     "output_type": "stream",
     "text": [
      "[[ 2  4  6  8]\n",
      " [10 12 14 16]\n",
      " [18 20 22 24]\n",
      " [26 28 30 32]]\n",
      "Nice work! You can view my solution below\n"
     ]
    }
   ],
   "execution_count": 2
  },
  {
   "metadata": {},
   "cell_type": "code",
   "outputs": [],
   "execution_count": null,
   "source": ""
  }
 ],
 "metadata": {
  "kernelspec": {
   "display_name": "Python 3",
   "language": "python",
   "name": "python3"
  },
  "language_info": {
   "codemirror_mode": {
    "name": "ipython",
    "version": 3
   },
   "file_extension": ".py",
   "mimetype": "text/x-python",
   "name": "python",
   "nbconvert_exporter": "python",
   "pygments_lexer": "ipython3",
   "version": "3.6.3"
  }
 },
 "nbformat": 4,
 "nbformat_minor": 2
}
