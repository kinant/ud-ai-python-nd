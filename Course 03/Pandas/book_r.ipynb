{
 "cells": [
  {
   "cell_type": "code",
   "metadata": {
    "grader_id": "fp1428r2dsm",
    "ExecuteTime": {
     "end_time": "2025-09-30T20:07:07.612182Z",
     "start_time": "2025-09-30T20:07:07.001586Z"
    }
   },
   "source": [
    "import pandas as pd\n",
    "import numpy as np\n",
    "\n",
    "# DO NOT CHANGE THE VARIABLE NAMES\n",
    "\n",
    "# Set the precision of our dataframes to one decimal place.\n",
    "pd.set_option('display.precision', 1)\n",
    "\n",
    "# Create a Pandas DataFrame that contains the ratings some users have given to a series of books. \n",
    "# The ratings given are in the range from 1 to 5, with 5 being the best score. \n",
    "# The names of the books, the corresponding authors, and the ratings of each user are given below:\n",
    "\n",
    "books = pd.Series(data = ['Great Expectations', 'Of Mice and Men', 'Romeo and Juliet', 'The Time Machine', 'Alice in Wonderland' ])\n",
    "authors = pd.Series(data = ['Charles Dickens', 'John Steinbeck', 'William Shakespeare', ' H. G. Wells', 'Lewis Carroll' ])\n",
    "\n",
    "# User ratings are in the order of the book titles mentioned above\n",
    "# If a user has not rated all books, Pandas will automatically consider the missing values as NaN.\n",
    "# If a user has mentioned `np.nan` value, then also it means that the user has not yet rated that book.\n",
    "user_1 = pd.Series(data = [3.2, np.nan ,2.5])\n",
    "user_2 = pd.Series(data = [5., 1.3, 4.0, 3.8])\n",
    "user_3 = pd.Series(data = [2.0, 2.3, np.nan, 4])\n",
    "user_4 = pd.Series(data = [4, 3.5, 4, 5, 4.2])\n",
    "\n",
    "# Add inline comments"
   ],
   "outputs": [],
   "execution_count": 1
  },
  {
   "cell_type": "code",
   "metadata": {
    "grader_id": "6fy4gr7hbv",
    "ExecuteTime": {
     "end_time": "2025-09-30T20:13:20.647002Z",
     "start_time": "2025-09-30T20:13:20.640038Z"
    }
   },
   "source": [
    "# Use the data above to create a Pandas DataFrame that has the following column\n",
    "# labels:  'Book Title', 'Author', 'User 1', 'User 2', 'User 3', 'User 4'. \n",
    "# Let Pandas automatically assign numerical row indices to the DataFrame. \n",
    "\n",
    "# TO DO: Create a dictionary with the data given above\n",
    "dat = {\n",
    "    'Book Title': books,\n",
    "    'Author': authors,\n",
    "    'User 1': user_1,\n",
    "    'User 2': user_2,\n",
    "    'User 3': user_3,\n",
    "    'User 4': user_4\n",
    "}\n",
    "\n",
    "ratings = pd.DataFrame(dat)\n",
    "\n",
    "### Notebook grading\n",
    "dat1 = {'Book Title' : books,\n",
    "       'Author' : authors,\n",
    "       'User 1' : user_1,\n",
    "       'User 2' : user_2,\n",
    "       'User 3' : user_3,\n",
    "       'User 4' : user_4}\n",
    "if dat1 != dat:\n",
    "    print(\"dat is not correct\")\n",
    "else:\n",
    "    print(\"dat is correct\")\n"
   ],
   "outputs": [
    {
     "name": "stdout",
     "output_type": "stream",
     "text": [
      "dat is correct\n"
     ]
    }
   ],
   "execution_count": 7
  },
  {
   "cell_type": "code",
   "metadata": {
    "grader_id": "dax5t12r1df",
    "ExecuteTime": {
     "end_time": "2025-09-30T20:13:28.826315Z",
     "start_time": "2025-09-30T20:13:28.818798Z"
    }
   },
   "source": [
    "# TO DO: Create a Pandas DataFrame using the dictionary created above\n",
    "book_ratings = pd.DataFrame(dat)\n",
    "\n",
    "### Notebook grading\n",
    "book_ratings1 = pd.DataFrame(dat1)\n",
    "if not book_ratings1.equals(book_ratings):\n",
    "    print(\"book_ratings is not correct\")\n",
    "else:\n",
    "    print(\"book_ratings is correct\")"
   ],
   "outputs": [
    {
     "name": "stdout",
     "output_type": "stream",
     "text": [
      "book_ratings is correct\n"
     ]
    }
   ],
   "execution_count": 8
  },
  {
   "cell_type": "code",
   "metadata": {
    "grader_id": "epphb6pv99b",
    "ExecuteTime": {
     "end_time": "2025-09-30T20:20:35.104382Z",
     "start_time": "2025-09-30T20:20:35.093221Z"
    }
   },
   "source": [
    "# TO DO:\n",
    "# If you created the dictionary correctly you should have a Pandas DataFrame\n",
    "# that has column labels: \n",
    "# 'Book Title', 'Author', 'User 1', 'User 2', 'User 3', 'User 4' \n",
    "# and row indices 0 through 4.\n",
    "\n",
    "# Now replace all the NaN values in your DataFrame with the average rating in\n",
    "# each column. Replace the NaN values in place. \n",
    "# HINT: Use the `pandas.DataFrame.fillna(value, inplace = True)` function for substituting the NaN values. \n",
    "# Write your code below:\n",
    "book_ratings.fillna(book_ratings.mean(axis=0, numeric_only=True), inplace = True)\n",
    "\n",
    "### Notebook grading\n",
    "book_ratings1 = pd.DataFrame(dat)\n",
    "book_ratings1.fillna(book_ratings1.mean(axis=0,numeric_only=True), inplace = True)\n",
    "if not book_ratings1.equals(book_ratings):\n",
    "    print(\"book_ratings has not been correctly updated.\")\n",
    "else:\n",
    "    print(\"book_ratings was correctly updated\")\n"
   ],
   "outputs": [
    {
     "name": "stdout",
     "output_type": "stream",
     "text": [
      "book_ratings was correctly updated\n"
     ]
    }
   ],
   "execution_count": 12
  },
  {
   "metadata": {},
   "cell_type": "code",
   "outputs": [],
   "execution_count": null,
   "source": ""
  }
 ],
 "metadata": {
  "kernelspec": {
   "display_name": "Python 3 (ipykernel)",
   "language": "python",
   "name": "python3"
  },
  "language_info": {
   "codemirror_mode": {
    "name": "ipython",
    "version": 3
   },
   "file_extension": ".py",
   "mimetype": "text/x-python",
   "name": "python",
   "nbconvert_exporter": "python",
   "pygments_lexer": "ipython3",
   "version": "3.10.13"
  }
 },
 "nbformat": 4,
 "nbformat_minor": 2
}
