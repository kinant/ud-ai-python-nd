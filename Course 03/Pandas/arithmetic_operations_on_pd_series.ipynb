{
 "cells": [
  {
   "cell_type": "code",
   "id": "initial_id",
   "metadata": {
    "collapsed": true,
    "ExecuteTime": {
     "end_time": "2025-09-30T17:02:44.207836Z",
     "start_time": "2025-09-30T17:02:40.892689Z"
    }
   },
   "source": "import pandas as pd",
   "outputs": [],
   "execution_count": 1
  },
  {
   "metadata": {
    "ExecuteTime": {
     "end_time": "2025-09-30T17:03:38.159468Z",
     "start_time": "2025-09-30T17:03:38.144292Z"
    }
   },
   "cell_type": "code",
   "source": [
    "fruits = pd.Series(data=[10, 6, 3,], index=['apples', 'oranges', 'bananas'])\n",
    "fruits"
   ],
   "id": "3e061ed6652d0a35",
   "outputs": [
    {
     "data": {
      "text/plain": [
       "apples     10\n",
       "oranges     6\n",
       "bananas     3\n",
       "dtype: int64"
      ]
     },
     "execution_count": 2,
     "metadata": {},
     "output_type": "execute_result"
    }
   ],
   "execution_count": 2
  },
  {
   "metadata": {
    "ExecuteTime": {
     "end_time": "2025-09-30T17:05:41.642299Z",
     "start_time": "2025-09-30T17:05:41.632900Z"
    }
   },
   "cell_type": "code",
   "source": [
    "# We print fruits for reference\n",
    "print(\"Original Grocery List: \\n\", fruits)\n",
    "\n",
    "# We perform element-wise operations using arithmetic symbols\n",
    "print()\n",
    "print(\"fruits + 2:\\n\", fruits + 2)\n",
    "print()\n",
    "print(\"fruits - 2:\\n\", fruits - 2)\n",
    "print()\n",
    "print(\"fruits * 2:\\n\", fruits * 2)\n",
    "print()\n",
    "print(\"fruits / 2:\\n\", fruits / 2)\n",
    "print()"
   ],
   "id": "5506c572245b632b",
   "outputs": [
    {
     "name": "stdout",
     "output_type": "stream",
     "text": [
      "Original Grocery List: \n",
      " apples     10\n",
      "oranges     6\n",
      "bananas     3\n",
      "dtype: int64\n",
      "\n",
      "fruits + 2:\n",
      " apples     12\n",
      "oranges     8\n",
      "bananas     5\n",
      "dtype: int64\n",
      "\n",
      "fruits - 2:\n",
      " apples     8\n",
      "oranges    4\n",
      "bananas    1\n",
      "dtype: int64\n",
      "\n",
      "fruits * 2:\n",
      " apples     20\n",
      "oranges    12\n",
      "bananas     6\n",
      "dtype: int64\n",
      "\n",
      "fruits / 2:\n",
      " apples     5.0\n",
      "oranges    3.0\n",
      "bananas    1.5\n",
      "dtype: float64\n",
      "\n"
     ]
    }
   ],
   "execution_count": 3
  },
  {
   "metadata": {
    "ExecuteTime": {
     "end_time": "2025-09-30T17:06:39.480875Z",
     "start_time": "2025-09-30T17:06:39.477050Z"
    }
   },
   "cell_type": "code",
   "source": "import numpy as np",
   "id": "73b6ef6c0a9e4b82",
   "outputs": [],
   "execution_count": 4
  },
  {
   "metadata": {
    "ExecuteTime": {
     "end_time": "2025-09-30T17:08:19.319678Z",
     "start_time": "2025-09-30T17:08:19.310163Z"
    }
   },
   "cell_type": "code",
   "source": [
    "# We print fruits for reference\n",
    "print(\"Original Grocery List: \\n\", fruits)\n",
    "\n",
    "print()\n",
    "print(\"EXP(X) = \\n\", np.exp(fruits))\n",
    "print()\n",
    "print(\"SQRT(X) = \\n\", np.sqrt(fruits))\n",
    "print()\n",
    "print(\"POW(X, 2) = \\n\", np.power(fruits, 2))\n",
    "print()"
   ],
   "id": "8a8de10f073abd3b",
   "outputs": [
    {
     "name": "stdout",
     "output_type": "stream",
     "text": [
      "Original Grocery List: \n",
      " apples     10\n",
      "oranges     6\n",
      "bananas     3\n",
      "dtype: int64\n",
      "\n",
      "EXP(X) = \n",
      " apples     22026.465795\n",
      "oranges      403.428793\n",
      "bananas       20.085537\n",
      "dtype: float64\n",
      "\n",
      "SQRT(X) = \n",
      " apples     3.162278\n",
      "oranges    2.449490\n",
      "bananas    1.732051\n",
      "dtype: float64\n",
      "\n",
      "POW(X, 2) = \n",
      " apples     100\n",
      "oranges     36\n",
      "bananas      9\n",
      "dtype: int64\n",
      "\n"
     ]
    }
   ],
   "execution_count": 5
  },
  {
   "metadata": {
    "ExecuteTime": {
     "end_time": "2025-09-30T17:21:40.130759Z",
     "start_time": "2025-09-30T17:21:40.121732Z"
    }
   },
   "cell_type": "code",
   "source": [
    "# Performing arithmetic operations on selected elements\n",
    "\n",
    "# We print fruits for reference\n",
    "print(\"Original Grocery List: \\n\", fruits)\n",
    "print()\n",
    "\n",
    "# Add 2 only to the bananas\n",
    "print(\"Amount of bananas + 2 = \", fruits[\"bananas\"] + 2)\n",
    "print()\n",
    "\n",
    "# Subtract 2 from apples\n",
    "print(\"Amount of apples - 2 = \", fruits.iloc[0] - 2)\n",
    "print()\n",
    "\n",
    "# Multiply apples and oranges by two\n",
    "print(\"We double the amount of apples and oranges: \\n\", fruits[[\"apples\", \"oranges\"]] * 2)\n",
    "print()\n",
    "\n",
    "# We halve the amount of apples and oranges\n",
    "print(\"We half the amount of apples and oranges: \\n\", fruits[[\"apples\", \"oranges\"]] / 2)\n",
    "print()\n"
   ],
   "id": "27e10f938c7c9279",
   "outputs": [
    {
     "name": "stdout",
     "output_type": "stream",
     "text": [
      "Original Grocery List: \n",
      " apples     10\n",
      "oranges     6\n",
      "bananas     3\n",
      "dtype: int64\n",
      "\n",
      "Amount of bananas + 2 =  5\n",
      "\n",
      "Amount of apples - 2 =  8\n",
      "\n",
      "We double the amount of apples and oranges: \n",
      " apples     20\n",
      "oranges    12\n",
      "dtype: int64\n",
      "\n",
      "We half the amount of apples and oranges: \n",
      " apples     5.0\n",
      "oranges    3.0\n",
      "dtype: float64\n",
      "\n"
     ]
    }
   ],
   "execution_count": 10
  },
  {
   "metadata": {
    "ExecuteTime": {
     "end_time": "2025-09-30T17:23:29.584221Z",
     "start_time": "2025-09-30T17:23:29.575869Z"
    }
   },
   "cell_type": "code",
   "source": [
    "# Mixed types\n",
    "# We multiply our grocery list by 2\n",
    "groceries = pd.Series(data=[30, 6, 'Yes', 'No'], index=['eggs', 'apples', 'milk', 'bread'])\n",
    "print(groceries)\n",
    "print()\n",
    "\n",
    "groceries * 2\n"
   ],
   "id": "e65344dfec57be77",
   "outputs": [
    {
     "name": "stdout",
     "output_type": "stream",
     "text": [
      "eggs       30\n",
      "apples      6\n",
      "milk      Yes\n",
      "bread      No\n",
      "dtype: object\n",
      "\n"
     ]
    },
    {
     "data": {
      "text/plain": [
       "eggs          60\n",
       "apples        12\n",
       "milk      YesYes\n",
       "bread       NoNo\n",
       "dtype: object"
      ]
     },
     "execution_count": 12,
     "metadata": {},
     "output_type": "execute_result"
    }
   ],
   "execution_count": 12
  },
  {
   "metadata": {},
   "cell_type": "code",
   "outputs": [],
   "execution_count": null,
   "source": "",
   "id": "5d66cead1664b7b7"
  }
 ],
 "metadata": {
  "kernelspec": {
   "display_name": "Python 3",
   "language": "python",
   "name": "python3"
  },
  "language_info": {
   "codemirror_mode": {
    "name": "ipython",
    "version": 2
   },
   "file_extension": ".py",
   "mimetype": "text/x-python",
   "name": "python",
   "nbconvert_exporter": "python",
   "pygments_lexer": "ipython2",
   "version": "2.7.6"
  }
 },
 "nbformat": 4,
 "nbformat_minor": 5
}
