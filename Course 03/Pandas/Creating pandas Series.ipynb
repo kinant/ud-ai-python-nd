{
 "cells": [
  {
   "cell_type": "code",
   "id": "initial_id",
   "metadata": {
    "collapsed": true,
    "ExecuteTime": {
     "end_time": "2025-09-25T21:42:15.278657Z",
     "start_time": "2025-09-25T21:42:14.831566Z"
    }
   },
   "source": "import pandas as pd",
   "outputs": [],
   "execution_count": 2
  },
  {
   "metadata": {
    "ExecuteTime": {
     "end_time": "2025-09-25T21:42:15.303041Z",
     "start_time": "2025-09-25T21:42:15.295046Z"
    }
   },
   "cell_type": "code",
   "source": [
    "groceries = pd.Series(data=[30, 6, 'Yes', 'No'], index=['eggs', 'apples', 'milk', 'bread'])\n",
    "print(groceries)"
   ],
   "id": "cbd362ce245325f0",
   "outputs": [
    {
     "name": "stdout",
     "output_type": "stream",
     "text": [
      "eggs       30\n",
      "apples      6\n",
      "milk      Yes\n",
      "bread      No\n",
      "dtype: object\n"
     ]
    }
   ],
   "execution_count": 3
  },
  {
   "metadata": {
    "ExecuteTime": {
     "end_time": "2025-09-25T21:42:15.585449Z",
     "start_time": "2025-09-25T21:42:15.577464Z"
    }
   },
   "cell_type": "code",
   "source": "groceries.shape",
   "id": "d5a19fa2e8d1f30a",
   "outputs": [
    {
     "data": {
      "text/plain": [
       "(4,)"
      ]
     },
     "execution_count": 4,
     "metadata": {},
     "output_type": "execute_result"
    }
   ],
   "execution_count": 4
  },
  {
   "metadata": {
    "ExecuteTime": {
     "end_time": "2025-09-25T21:42:20.903580Z",
     "start_time": "2025-09-25T21:42:20.897660Z"
    }
   },
   "cell_type": "code",
   "source": "groceries.ndim",
   "id": "8980932bd80caf68",
   "outputs": [
    {
     "data": {
      "text/plain": [
       "1"
      ]
     },
     "execution_count": 5,
     "metadata": {},
     "output_type": "execute_result"
    }
   ],
   "execution_count": 5
  },
  {
   "metadata": {
    "ExecuteTime": {
     "end_time": "2025-09-25T21:42:26.610008Z",
     "start_time": "2025-09-25T21:42:26.604611Z"
    }
   },
   "cell_type": "code",
   "source": "groceries.size",
   "id": "c8075b29834f6a4b",
   "outputs": [
    {
     "data": {
      "text/plain": [
       "4"
      ]
     },
     "execution_count": 6,
     "metadata": {},
     "output_type": "execute_result"
    }
   ],
   "execution_count": 6
  },
  {
   "metadata": {
    "ExecuteTime": {
     "end_time": "2025-09-25T21:42:43.771769Z",
     "start_time": "2025-09-25T21:42:43.764736Z"
    }
   },
   "cell_type": "code",
   "source": "groceries.index",
   "id": "107c0498cf54ea97",
   "outputs": [
    {
     "data": {
      "text/plain": [
       "Index(['eggs', 'apples', 'milk', 'bread'], dtype='object')"
      ]
     },
     "execution_count": 7,
     "metadata": {},
     "output_type": "execute_result"
    }
   ],
   "execution_count": 7
  },
  {
   "metadata": {
    "ExecuteTime": {
     "end_time": "2025-09-25T21:42:55.558174Z",
     "start_time": "2025-09-25T21:42:55.553311Z"
    }
   },
   "cell_type": "code",
   "source": "groceries.values",
   "id": "2ddcccdc9b6579b7",
   "outputs": [
    {
     "data": {
      "text/plain": [
       "array([30, 6, 'Yes', 'No'], dtype=object)"
      ]
     },
     "execution_count": 8,
     "metadata": {},
     "output_type": "execute_result"
    }
   ],
   "execution_count": 8
  },
  {
   "metadata": {
    "ExecuteTime": {
     "end_time": "2025-09-25T21:43:08.436923Z",
     "start_time": "2025-09-25T21:43:08.431153Z"
    }
   },
   "cell_type": "code",
   "source": "'banana' in groceries",
   "id": "8f35dfc28c703f0f",
   "outputs": [
    {
     "data": {
      "text/plain": [
       "False"
      ]
     },
     "execution_count": 9,
     "metadata": {},
     "output_type": "execute_result"
    }
   ],
   "execution_count": 9
  },
  {
   "metadata": {
    "ExecuteTime": {
     "end_time": "2025-09-25T21:43:15.033817Z",
     "start_time": "2025-09-25T21:43:15.027809Z"
    }
   },
   "cell_type": "code",
   "source": "'milk' in groceries",
   "id": "6256a20d5aeab05f",
   "outputs": [
    {
     "data": {
      "text/plain": [
       "True"
      ]
     },
     "execution_count": 10,
     "metadata": {},
     "output_type": "execute_result"
    }
   ],
   "execution_count": 10
  },
  {
   "metadata": {
    "ExecuteTime": {
     "end_time": "2025-09-25T21:44:36.336312Z",
     "start_time": "2025-09-25T21:44:36.329791Z"
    }
   },
   "cell_type": "code",
   "source": "groceries['eggs']",
   "id": "78de175f725c3ea1",
   "outputs": [
    {
     "data": {
      "text/plain": [
       "30"
      ]
     },
     "execution_count": 11,
     "metadata": {},
     "output_type": "execute_result"
    }
   ],
   "execution_count": 11
  },
  {
   "metadata": {
    "ExecuteTime": {
     "end_time": "2025-09-25T21:45:03.395399Z",
     "start_time": "2025-09-25T21:45:03.388170Z"
    }
   },
   "cell_type": "code",
   "source": "groceries[['milk', 'bread']]",
   "id": "14d07031a624496",
   "outputs": [
    {
     "data": {
      "text/plain": [
       "milk     Yes\n",
       "bread     No\n",
       "dtype: object"
      ]
     },
     "execution_count": 12,
     "metadata": {},
     "output_type": "execute_result"
    }
   ],
   "execution_count": 12
  },
  {
   "metadata": {
    "ExecuteTime": {
     "end_time": "2025-09-25T21:45:30.152437Z",
     "start_time": "2025-09-25T21:45:30.145969Z"
    }
   },
   "cell_type": "code",
   "source": "groceries[0]",
   "id": "c8e6121724c730b8",
   "outputs": [
    {
     "name": "stderr",
     "output_type": "stream",
     "text": [
      "C:\\Users\\kinan\\AppData\\Local\\Temp\\ipykernel_5408\\859109732.py:1: FutureWarning: Series.__getitem__ treating keys as positions is deprecated. In a future version, integer keys will always be treated as labels (consistent with DataFrame behavior). To access a value by position, use `ser.iloc[pos]`\n",
      "  groceries[0]\n"
     ]
    },
    {
     "data": {
      "text/plain": [
       "30"
      ]
     },
     "execution_count": 13,
     "metadata": {},
     "output_type": "execute_result"
    }
   ],
   "execution_count": 13
  },
  {
   "metadata": {
    "ExecuteTime": {
     "end_time": "2025-09-25T21:45:45.239037Z",
     "start_time": "2025-09-25T21:45:45.233096Z"
    }
   },
   "cell_type": "code",
   "source": "groceries[-1]",
   "id": "135f79a0f1ae2bf2",
   "outputs": [
    {
     "name": "stderr",
     "output_type": "stream",
     "text": [
      "C:\\Users\\kinan\\AppData\\Local\\Temp\\ipykernel_5408\\3277768093.py:1: FutureWarning: Series.__getitem__ treating keys as positions is deprecated. In a future version, integer keys will always be treated as labels (consistent with DataFrame behavior). To access a value by position, use `ser.iloc[pos]`\n",
      "  groceries[-1]\n"
     ]
    },
    {
     "data": {
      "text/plain": [
       "'No'"
      ]
     },
     "execution_count": 14,
     "metadata": {},
     "output_type": "execute_result"
    }
   ],
   "execution_count": 14
  },
  {
   "metadata": {
    "ExecuteTime": {
     "end_time": "2025-09-25T21:46:23.434385Z",
     "start_time": "2025-09-25T21:46:23.426684Z"
    }
   },
   "cell_type": "code",
   "source": "groceries[[0, 1]]",
   "id": "bac2eb037e102e5f",
   "outputs": [
    {
     "name": "stderr",
     "output_type": "stream",
     "text": [
      "C:\\Users\\kinan\\AppData\\Local\\Temp\\ipykernel_5408\\3423189888.py:1: FutureWarning: Series.__getitem__ treating keys as positions is deprecated. In a future version, integer keys will always be treated as labels (consistent with DataFrame behavior). To access a value by position, use `ser.iloc[pos]`\n",
      "  groceries[[0, 1]]\n"
     ]
    },
    {
     "data": {
      "text/plain": [
       "eggs      30\n",
       "apples     6\n",
       "dtype: object"
      ]
     },
     "execution_count": 15,
     "metadata": {},
     "output_type": "execute_result"
    }
   ],
   "execution_count": 15
  },
  {
   "metadata": {
    "ExecuteTime": {
     "end_time": "2025-09-25T21:47:07.144433Z",
     "start_time": "2025-09-25T21:47:07.136432Z"
    }
   },
   "cell_type": "code",
   "source": "groceries.loc[['eggs', 'apples']]",
   "id": "4ee248acea0ef30b",
   "outputs": [
    {
     "data": {
      "text/plain": [
       "eggs      30\n",
       "apples     6\n",
       "dtype: object"
      ]
     },
     "execution_count": 17,
     "metadata": {},
     "output_type": "execute_result"
    }
   ],
   "execution_count": 17
  },
  {
   "metadata": {
    "ExecuteTime": {
     "end_time": "2025-09-25T21:47:17.876901Z",
     "start_time": "2025-09-25T21:47:17.870419Z"
    }
   },
   "cell_type": "code",
   "source": "groceries.iloc[[2, 3]]",
   "id": "372d32c2e3d856d0",
   "outputs": [
    {
     "data": {
      "text/plain": [
       "milk     Yes\n",
       "bread     No\n",
       "dtype: object"
      ]
     },
     "execution_count": 18,
     "metadata": {},
     "output_type": "execute_result"
    }
   ],
   "execution_count": 18
  },
  {
   "metadata": {
    "ExecuteTime": {
     "end_time": "2025-09-25T21:47:54.722061Z",
     "start_time": "2025-09-25T21:47:54.715216Z"
    }
   },
   "cell_type": "code",
   "source": [
    "groceries['eggs'] = 2\n",
    "groceries"
   ],
   "id": "9b28e2c39e380906",
   "outputs": [
    {
     "data": {
      "text/plain": [
       "eggs        2\n",
       "apples      6\n",
       "milk      Yes\n",
       "bread      No\n",
       "dtype: object"
      ]
     },
     "execution_count": 19,
     "metadata": {},
     "output_type": "execute_result"
    }
   ],
   "execution_count": 19
  },
  {
   "metadata": {
    "ExecuteTime": {
     "end_time": "2025-09-25T21:48:33.974466Z",
     "start_time": "2025-09-25T21:48:33.969958Z"
    }
   },
   "cell_type": "code",
   "source": "groceries.drop('apples', inplace=True)",
   "id": "7faf6cee44a1ea14",
   "outputs": [],
   "execution_count": 22
  },
  {
   "metadata": {
    "ExecuteTime": {
     "end_time": "2025-09-25T21:48:36.026455Z",
     "start_time": "2025-09-25T21:48:36.020350Z"
    }
   },
   "cell_type": "code",
   "source": "groceries",
   "id": "818849f23f1a069",
   "outputs": [
    {
     "data": {
      "text/plain": [
       "eggs       2\n",
       "milk     Yes\n",
       "bread     No\n",
       "dtype: object"
      ]
     },
     "execution_count": 23,
     "metadata": {},
     "output_type": "execute_result"
    }
   ],
   "execution_count": 23
  },
  {
   "metadata": {},
   "cell_type": "code",
   "outputs": [],
   "execution_count": null,
   "source": "",
   "id": "b13cb2979b7870f4"
  }
 ],
 "metadata": {
  "kernelspec": {
   "display_name": "Python 3",
   "language": "python",
   "name": "python3"
  },
  "language_info": {
   "codemirror_mode": {
    "name": "ipython",
    "version": 2
   },
   "file_extension": ".py",
   "mimetype": "text/x-python",
   "name": "python",
   "nbconvert_exporter": "python",
   "pygments_lexer": "ipython2",
   "version": "2.7.6"
  }
 },
 "nbformat": 4,
 "nbformat_minor": 5
}
