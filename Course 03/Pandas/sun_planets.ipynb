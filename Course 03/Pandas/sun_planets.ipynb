{
 "cells": [
  {
   "cell_type": "code",
   "metadata": {
    "grader_id": "8m97kc5slbl",
    "ExecuteTime": {
     "end_time": "2025-09-30T17:27:36.096880Z",
     "start_time": "2025-09-30T17:27:35.532060Z"
    }
   },
   "source": [
    "import pandas as pd\n",
    "\n",
    "# DO NOT CHANGE THE VARIABLE NAMES\n",
    "\n",
    "# Given a list representing a few planets\n",
    "planets = ['Earth', 'Saturn', 'Venus', 'Mars', 'Jupiter']\n",
    "\n",
    "# Given another list representing the distance of each of these planets from the Sun\n",
    "# The distance from the Sun is in units of 10^6 km\n",
    "distance_from_sun = [149.6, 1433.5, 108.2, 227.9, 778.6]"
   ],
   "outputs": [],
   "execution_count": 1
  },
  {
   "cell_type": "code",
   "metadata": {
    "grader_id": "9o9ycn28toj",
    "ExecuteTime": {
     "end_time": "2025-09-30T17:28:17.186031Z",
     "start_time": "2025-09-30T17:28:17.177538Z"
    }
   },
   "source": [
    "# TO DO: Create a Pandas Series \"dist_planets\" using the lists above, representing the distance of the planet from the Sun.\n",
    "# Use the `distance_from_sun` as your data, and `planets` as your index.\n",
    "dist_planets = pd.Series(data=distance_from_sun, index=planets)\n",
    "print(dist_planets)\n"
   ],
   "outputs": [
    {
     "name": "stdout",
     "output_type": "stream",
     "text": [
      "Earth       149.6\n",
      "Saturn     1433.5\n",
      "Venus       108.2\n",
      "Mars        227.9\n",
      "Jupiter     778.6\n",
      "dtype: float64\n"
     ]
    }
   ],
   "execution_count": 3
  },
  {
   "cell_type": "code",
   "metadata": {
    "grader_id": "nwna73daf5",
    "ExecuteTime": {
     "end_time": "2025-09-30T17:29:22.521782Z",
     "start_time": "2025-09-30T17:29:22.516564Z"
    }
   },
   "source": [
    "# TO DO: Calculate the time (minutes) it takes light from the Sun to reach each planet. \n",
    "# You can do this by dividing each planet's distance from the Sun by the speed of light.\n",
    "# Use the speed of light, c = 18, since light travels 18 x 10^6 km/minute.\n",
    "c = 18\n",
    "time_light = dist_planets / c\n",
    "print(time_light)\n",
    " "
   ],
   "outputs": [
    {
     "name": "stdout",
     "output_type": "stream",
     "text": [
      "Earth       8.311111\n",
      "Saturn     79.638889\n",
      "Venus       6.011111\n",
      "Mars       12.661111\n",
      "Jupiter    43.255556\n",
      "dtype: float64\n"
     ]
    }
   ],
   "execution_count": 6
  },
  {
   "cell_type": "code",
   "metadata": {
    "grader_id": "f0swercjkwi",
    "ExecuteTime": {
     "end_time": "2025-09-30T17:31:00.936112Z",
     "start_time": "2025-09-30T17:31:00.927097Z"
    }
   },
   "source": [
    "# TO DO: Use Boolean indexing to select only those planets for which sunlight takes less\n",
    "# than 40 minutes to reach them.\n",
    "close_planets = time_light[time_light < 40]\n",
    "print(close_planets)\n",
    "\n",
    "### Notebook grading\n",
    "import math\n",
    "distance_from_sun1 = [149.6, 1433.5, 108.2, 227.9, 778.6]\n",
    "planets1 = ['Earth','Saturn', 'Venus', 'Mars', 'Jupiter']\n",
    "dist_planets1 = pd.Series(data = distance_from_sun, index = planets)\n",
    "time_light1 = dist_planets1 / 18\n",
    "close_planets1 = time_light1[time_light1 < 40]\n",
    "\n",
    "if not dist_planets1.equals(dist_planets):\n",
    "    print(\"dist_planets is incorrect\")\n",
    "elif  not time_light1.equals(time_light):\n",
    "    print(\"time_light is incorrect. Verify that it is created by dividing dist_planets by 18.\")\n",
    "elif not close_planets1.equals(close_planets):\n",
    "    print(\"close_planets is incorrect. Verify that `close_planets` is created by using `time_light < 40` as a boolean index in `time_light`\")\n",
    "else:\n",
    "    print(\"Nice work!\")"
   ],
   "outputs": [
    {
     "name": "stdout",
     "output_type": "stream",
     "text": [
      "Earth     8.311111\n",
      "Venus     6.011111\n",
      "Mars     12.661111\n",
      "dtype: float64\n",
      "Nice work!\n"
     ]
    }
   ],
   "execution_count": 9
  },
  {
   "metadata": {},
   "cell_type": "code",
   "outputs": [],
   "execution_count": null,
   "source": ""
  }
 ],
 "metadata": {
  "kernelspec": {
   "display_name": "Python 3 (ipykernel)",
   "language": "python",
   "name": "python3"
  },
  "language_info": {
   "codemirror_mode": {
    "name": "ipython",
    "version": 3
   },
   "file_extension": ".py",
   "mimetype": "text/x-python",
   "name": "python",
   "nbconvert_exporter": "python",
   "pygments_lexer": "ipython3",
   "version": "3.10.13"
  }
 },
 "nbformat": 4,
 "nbformat_minor": 2
}
