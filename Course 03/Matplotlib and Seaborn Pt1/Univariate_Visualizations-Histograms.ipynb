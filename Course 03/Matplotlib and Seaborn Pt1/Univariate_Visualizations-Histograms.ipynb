{
 "cells": [
  {
   "cell_type": "code",
   "id": "initial_id",
   "metadata": {
    "collapsed": true,
    "ExecuteTime": {
     "end_time": "2025-10-13T17:06:47.767166Z",
     "start_time": "2025-10-13T17:06:47.724174Z"
    }
   },
   "source": [
    "# Import necessary libraries\n",
    "import numpy as np\n",
    "import pandas as pd\n",
    "import matplotlib.pyplot as plt\n",
    "import seaborn as sb\n",
    "%matplotlib inline\n",
    "\n",
    "# Load the Pokémon dataset\n",
    "pokemon = pd.read_csv('data/pokemon.csv')\n",
    "\n",
    "# Print the shape of the dataset\n",
    "print(pokemon.shape)\n",
    "\n",
    "# Display the first 10 rows of the dataset\n",
    "pokemon.head(10)"
   ],
   "outputs": [
    {
     "name": "stdout",
     "output_type": "stream",
     "text": [
      "(807, 14)\n"
     ]
    },
    {
     "data": {
      "text/plain": [
       "   id     species  generation_id  height  weight  base_experience type_1  \\\n",
       "0   1   bulbasaur              1     0.7     6.9               64  grass   \n",
       "1   2     ivysaur              1     1.0    13.0              142  grass   \n",
       "2   3    venusaur              1     2.0   100.0              236  grass   \n",
       "3   4  charmander              1     0.6     8.5               62   fire   \n",
       "4   5  charmeleon              1     1.1    19.0              142   fire   \n",
       "5   6   charizard              1     1.7    90.5              240   fire   \n",
       "6   7    squirtle              1     0.5     9.0               63  water   \n",
       "7   8   wartortle              1     1.0    22.5              142  water   \n",
       "8   9   blastoise              1     1.6    85.5              239  water   \n",
       "9  10    caterpie              1     0.3     2.9               39    bug   \n",
       "\n",
       "   type_2  hp  attack  defense  speed  special-attack  special-defense  \n",
       "0  poison  45      49       49     45              65               65  \n",
       "1  poison  60      62       63     60              80               80  \n",
       "2  poison  80      82       83     80             100              100  \n",
       "3     NaN  39      52       43     65              60               50  \n",
       "4     NaN  58      64       58     80              80               65  \n",
       "5  flying  78      84       78    100             109               85  \n",
       "6     NaN  44      48       65     43              50               64  \n",
       "7     NaN  59      63       80     58              65               80  \n",
       "8     NaN  79      83      100     78              85              105  \n",
       "9     NaN  45      30       35     45              20               20  "
      ],
      "text/html": [
       "<div>\n",
       "<style scoped>\n",
       "    .dataframe tbody tr th:only-of-type {\n",
       "        vertical-align: middle;\n",
       "    }\n",
       "\n",
       "    .dataframe tbody tr th {\n",
       "        vertical-align: top;\n",
       "    }\n",
       "\n",
       "    .dataframe thead th {\n",
       "        text-align: right;\n",
       "    }\n",
       "</style>\n",
       "<table border=\"1\" class=\"dataframe\">\n",
       "  <thead>\n",
       "    <tr style=\"text-align: right;\">\n",
       "      <th></th>\n",
       "      <th>id</th>\n",
       "      <th>species</th>\n",
       "      <th>generation_id</th>\n",
       "      <th>height</th>\n",
       "      <th>weight</th>\n",
       "      <th>base_experience</th>\n",
       "      <th>type_1</th>\n",
       "      <th>type_2</th>\n",
       "      <th>hp</th>\n",
       "      <th>attack</th>\n",
       "      <th>defense</th>\n",
       "      <th>speed</th>\n",
       "      <th>special-attack</th>\n",
       "      <th>special-defense</th>\n",
       "    </tr>\n",
       "  </thead>\n",
       "  <tbody>\n",
       "    <tr>\n",
       "      <th>0</th>\n",
       "      <td>1</td>\n",
       "      <td>bulbasaur</td>\n",
       "      <td>1</td>\n",
       "      <td>0.7</td>\n",
       "      <td>6.9</td>\n",
       "      <td>64</td>\n",
       "      <td>grass</td>\n",
       "      <td>poison</td>\n",
       "      <td>45</td>\n",
       "      <td>49</td>\n",
       "      <td>49</td>\n",
       "      <td>45</td>\n",
       "      <td>65</td>\n",
       "      <td>65</td>\n",
       "    </tr>\n",
       "    <tr>\n",
       "      <th>1</th>\n",
       "      <td>2</td>\n",
       "      <td>ivysaur</td>\n",
       "      <td>1</td>\n",
       "      <td>1.0</td>\n",
       "      <td>13.0</td>\n",
       "      <td>142</td>\n",
       "      <td>grass</td>\n",
       "      <td>poison</td>\n",
       "      <td>60</td>\n",
       "      <td>62</td>\n",
       "      <td>63</td>\n",
       "      <td>60</td>\n",
       "      <td>80</td>\n",
       "      <td>80</td>\n",
       "    </tr>\n",
       "    <tr>\n",
       "      <th>2</th>\n",
       "      <td>3</td>\n",
       "      <td>venusaur</td>\n",
       "      <td>1</td>\n",
       "      <td>2.0</td>\n",
       "      <td>100.0</td>\n",
       "      <td>236</td>\n",
       "      <td>grass</td>\n",
       "      <td>poison</td>\n",
       "      <td>80</td>\n",
       "      <td>82</td>\n",
       "      <td>83</td>\n",
       "      <td>80</td>\n",
       "      <td>100</td>\n",
       "      <td>100</td>\n",
       "    </tr>\n",
       "    <tr>\n",
       "      <th>3</th>\n",
       "      <td>4</td>\n",
       "      <td>charmander</td>\n",
       "      <td>1</td>\n",
       "      <td>0.6</td>\n",
       "      <td>8.5</td>\n",
       "      <td>62</td>\n",
       "      <td>fire</td>\n",
       "      <td>NaN</td>\n",
       "      <td>39</td>\n",
       "      <td>52</td>\n",
       "      <td>43</td>\n",
       "      <td>65</td>\n",
       "      <td>60</td>\n",
       "      <td>50</td>\n",
       "    </tr>\n",
       "    <tr>\n",
       "      <th>4</th>\n",
       "      <td>5</td>\n",
       "      <td>charmeleon</td>\n",
       "      <td>1</td>\n",
       "      <td>1.1</td>\n",
       "      <td>19.0</td>\n",
       "      <td>142</td>\n",
       "      <td>fire</td>\n",
       "      <td>NaN</td>\n",
       "      <td>58</td>\n",
       "      <td>64</td>\n",
       "      <td>58</td>\n",
       "      <td>80</td>\n",
       "      <td>80</td>\n",
       "      <td>65</td>\n",
       "    </tr>\n",
       "    <tr>\n",
       "      <th>5</th>\n",
       "      <td>6</td>\n",
       "      <td>charizard</td>\n",
       "      <td>1</td>\n",
       "      <td>1.7</td>\n",
       "      <td>90.5</td>\n",
       "      <td>240</td>\n",
       "      <td>fire</td>\n",
       "      <td>flying</td>\n",
       "      <td>78</td>\n",
       "      <td>84</td>\n",
       "      <td>78</td>\n",
       "      <td>100</td>\n",
       "      <td>109</td>\n",
       "      <td>85</td>\n",
       "    </tr>\n",
       "    <tr>\n",
       "      <th>6</th>\n",
       "      <td>7</td>\n",
       "      <td>squirtle</td>\n",
       "      <td>1</td>\n",
       "      <td>0.5</td>\n",
       "      <td>9.0</td>\n",
       "      <td>63</td>\n",
       "      <td>water</td>\n",
       "      <td>NaN</td>\n",
       "      <td>44</td>\n",
       "      <td>48</td>\n",
       "      <td>65</td>\n",
       "      <td>43</td>\n",
       "      <td>50</td>\n",
       "      <td>64</td>\n",
       "    </tr>\n",
       "    <tr>\n",
       "      <th>7</th>\n",
       "      <td>8</td>\n",
       "      <td>wartortle</td>\n",
       "      <td>1</td>\n",
       "      <td>1.0</td>\n",
       "      <td>22.5</td>\n",
       "      <td>142</td>\n",
       "      <td>water</td>\n",
       "      <td>NaN</td>\n",
       "      <td>59</td>\n",
       "      <td>63</td>\n",
       "      <td>80</td>\n",
       "      <td>58</td>\n",
       "      <td>65</td>\n",
       "      <td>80</td>\n",
       "    </tr>\n",
       "    <tr>\n",
       "      <th>8</th>\n",
       "      <td>9</td>\n",
       "      <td>blastoise</td>\n",
       "      <td>1</td>\n",
       "      <td>1.6</td>\n",
       "      <td>85.5</td>\n",
       "      <td>239</td>\n",
       "      <td>water</td>\n",
       "      <td>NaN</td>\n",
       "      <td>79</td>\n",
       "      <td>83</td>\n",
       "      <td>100</td>\n",
       "      <td>78</td>\n",
       "      <td>85</td>\n",
       "      <td>105</td>\n",
       "    </tr>\n",
       "    <tr>\n",
       "      <th>9</th>\n",
       "      <td>10</td>\n",
       "      <td>caterpie</td>\n",
       "      <td>1</td>\n",
       "      <td>0.3</td>\n",
       "      <td>2.9</td>\n",
       "      <td>39</td>\n",
       "      <td>bug</td>\n",
       "      <td>NaN</td>\n",
       "      <td>45</td>\n",
       "      <td>30</td>\n",
       "      <td>35</td>\n",
       "      <td>45</td>\n",
       "      <td>20</td>\n",
       "      <td>20</td>\n",
       "    </tr>\n",
       "  </tbody>\n",
       "</table>\n",
       "</div>"
      ]
     },
     "execution_count": 1,
     "metadata": {},
     "output_type": "execute_result"
    }
   ],
   "execution_count": 1
  },
  {
   "metadata": {
    "ExecuteTime": {
     "end_time": "2025-10-13T17:07:24.455546Z",
     "start_time": "2025-10-13T17:07:24.262499Z"
    }
   },
   "cell_type": "code",
   "source": [
    "# Intentionally omitting a semicolon to display the bar width\n",
    "plt.hist(data=pokemon, x='speed')"
   ],
   "id": "3fc8a2f69c40c80c",
   "outputs": [
    {
     "data": {
      "text/plain": [
       "(array([ 31.,  93., 163., 159., 128., 115.,  81.,  26.,   6.,   5.]),\n",
       " array([  5. ,  20.5,  36. ,  51.5,  67. ,  82.5,  98. , 113.5, 129. ,\n",
       "        144.5, 160. ]),\n",
       " <BarContainer object of 10 artists>)"
      ]
     },
     "execution_count": 2,
     "metadata": {},
     "output_type": "execute_result"
    },
    {
     "data": {
      "text/plain": [
       "<Figure size 640x480 with 1 Axes>"
      ],
      "image/png": "[encoded data removed]"
     },
     "metadata": {},
     "output_type": "display_data",
     "jetTransient": {
      "display_id": null
     }
    }
   ],
   "execution_count": 2
  },
  {
   "metadata": {
    "ExecuteTime": {
     "end_time": "2025-10-13T17:10:29.612710Z",
     "start_time": "2025-10-13T17:10:29.390662Z"
    }
   },
   "cell_type": "code",
   "source": [
    "# Plot a histogram with 20 bins\n",
    "plt.hist(data=pokemon, x='speed', bins=20)"
   ],
   "id": "b0a2b37533dc1a30",
   "outputs": [
    {
     "data": {
      "text/plain": [
       "(array([  6.,  25.,  21.,  72.,  66.,  97.,  53., 106.,  64.,  64.,  69.,\n",
       "         46.,  52.,  29.,  18.,   8.,   5.,   1.,   4.,   1.]),\n",
       " array([  5.  ,  12.75,  20.5 ,  28.25,  36.  ,  43.75,  51.5 ,  59.25,\n",
       "         67.  ,  74.75,  82.5 ,  90.25,  98.  , 105.75, 113.5 , 121.25,\n",
       "        129.  , 136.75, 144.5 , 152.25, 160.  ]),\n",
       " <BarContainer object of 20 artists>)"
      ]
     },
     "execution_count": 3,
     "metadata": {},
     "output_type": "execute_result"
    },
    {
     "data": {
      "text/plain": [
       "<Figure size 640x480 with 1 Axes>"
      ],
      "image/png": "[encoded data removed]"
     },
     "metadata": {},
     "output_type": "display_data",
     "jetTransient": {
      "display_id": null
     }
    }
   ],
   "execution_count": 3
  },
  {
   "metadata": {
    "ExecuteTime": {
     "end_time": "2025-10-13T17:10:47.489805Z",
     "start_time": "2025-10-13T17:10:47.247675Z"
    }
   },
   "cell_type": "code",
   "source": [
    "# Create bins with a step size of 5\n",
    "bins = np.arange(0, pokemon['speed'].max() + 5, 5)\n",
    "\n",
    "# Plot a histogram using the defined bins\n",
    "plt.hist(data=pokemon, x='speed', bins=bins)"
   ],
   "id": "d7bc85aa27841da8",
   "outputs": [
    {
     "data": {
      "text/plain": [
       "(array([ 0.,  3.,  4., 11., 19., 18., 43., 38., 57., 46., 53., 48., 62.,\n",
       "        55., 53., 27., 45., 32., 39., 42., 36., 22., 18., 12.,  8.,  5.,\n",
       "         5.,  0.,  1.,  1.,  3.,  1.]),\n",
       " array([  0.,   5.,  10.,  15.,  20.,  25.,  30.,  35.,  40.,  45.,  50.,\n",
       "         55.,  60.,  65.,  70.,  75.,  80.,  85.,  90.,  95., 100., 105.,\n",
       "        110., 115., 120., 125., 130., 135., 140., 145., 150., 155., 160.]),\n",
       " <BarContainer object of 32 artists>)"
      ]
     },
     "execution_count": 4,
     "metadata": {},
     "output_type": "execute_result"
    },
    {
     "data": {
      "text/plain": [
       "<Figure size 640x480 with 1 Axes>"
      ],
      "image/png": "[encoded data removed]"
     },
     "metadata": {},
     "output_type": "display_data",
     "jetTransient": {
      "display_id": null
     }
    }
   ],
   "execution_count": 4
  },
  {
   "metadata": {
    "ExecuteTime": {
     "end_time": "2025-10-13T17:11:28.793472Z",
     "start_time": "2025-10-13T17:11:28.471278Z"
    }
   },
   "cell_type": "code",
   "source": [
    "# Plot a histogram with KDE (Kernel Density Estimate) line\n",
    "sb.displot(data=pokemon, x='speed', kde=True, stat='density', bins=20)\n",
    "\n",
    "# Plot a histogram without the KDE line\n",
    "sb.histplot(data=pokemon, x='speed')"
   ],
   "id": "b3af7c4c07b6b81b",
   "outputs": [
    {
     "data": {
      "text/plain": [
       "<Axes: xlabel='speed', ylabel='Density'>"
      ]
     },
     "execution_count": 5,
     "metadata": {},
     "output_type": "execute_result"
    },
    {
     "data": {
      "text/plain": [
       "<Figure size 500x500 with 1 Axes>"
      ],
      "image/png": "[encoded data removed]"
     },
     "metadata": {},
     "output_type": "display_data",
     "jetTransient": {
      "display_id": null
     }
    }
   ],
   "execution_count": 5
  },
  {
   "metadata": {
    "ExecuteTime": {
     "end_time": "2025-10-13T17:12:35.112129Z",
     "start_time": "2025-10-13T17:12:34.766597Z"
    }
   },
   "cell_type": "code",
   "source": [
    "# Define bin edges for the histogram based on the 'speed' column\n",
    "bin_edges = np.arange(0, pokemon['speed'].max() + 1, 5)\n",
    "\n",
    "# Plot the distribution of the 'speed' column using seaborn\n",
    "sb.histplot(\n",
    "    data=pokemon,\n",
    "    x='speed',\n",
    "    bins=bin_edges,\n",
    "    alpha=1\n",
    ")"
   ],
   "id": "88cc26f89de44eb5",
   "outputs": [
    {
     "data": {
      "text/plain": [
       "<Axes: xlabel='speed', ylabel='Count'>"
      ]
     },
     "execution_count": 6,
     "metadata": {},
     "output_type": "execute_result"
    },
    {
     "data": {
      "text/plain": [
       "<Figure size 640x480 with 1 Axes>"
      ],
      "image/png": "[encoded data removed]"
     },
     "metadata": {},
     "output_type": "display_data",
     "jetTransient": {
      "display_id": null
     }
    }
   ],
   "execution_count": 6
  },
  {
   "metadata": {
    "ExecuteTime": {
     "end_time": "2025-10-13T17:12:52.355699Z",
     "start_time": "2025-10-13T17:12:51.278751Z"
    }
   },
   "cell_type": "code",
   "source": [
    "# Resize the chart, and have two plots side-by-side\n",
    "# Set a larger figure size for subplots\n",
    "plt.figure(figsize=[20, 5])\n",
    "\n",
    "# Histogram on the left: example of too-large bin size\n",
    "# 1 row, 2 columns, subplot 1\n",
    "plt.subplot(1, 2, 1)\n",
    "bins = np.arange(0, pokemon['speed'].max() + 4, 4)\n",
    "plt.hist(data=pokemon, x='speed', bins=bins)\n",
    "\n",
    "# Histogram on the right: example of too-small bin size\n",
    "# 1 row, 2 columns, subplot 2\n",
    "plt.subplot(1, 2, 2)\n",
    "bins = np.arange(0, pokemon['speed'].max() + 0.25, 0.25)\n",
    "plt.hist(data=pokemon, x='speed', bins=bins)"
   ],
   "id": "b4b24e3901a82c52",
   "outputs": [
    {
     "data": {
      "text/plain": [
       "(array([ 0.,  0.,  0.,  0.,  0.,  0.,  0.,  0.,  0.,  0.,  0.,  0.,  0.,\n",
       "         0.,  0.,  0.,  0.,  0.,  0.,  0.,  3.,  0.,  0.,  0.,  0.,  0.,\n",
       "         0.,  0.,  0.,  0.,  0.,  0.,  0.,  0.,  0.,  0.,  0.,  0.,  0.,\n",
       "         0.,  3.,  0.,  0.,  0.,  0.,  0.,  0.,  0.,  0.,  0.,  0.,  0.,\n",
       "         1.,  0.,  0.,  0.,  0.,  0.,  0.,  0., 11.,  0.,  0.,  0.,  0.,\n",
       "         0.,  0.,  0.,  0.,  0.,  0.,  0.,  0.,  0.,  0.,  0.,  0.,  0.,\n",
       "         0.,  0., 13.,  0.,  0.,  0.,  0.,  0.,  0.,  0.,  1.,  0.,  0.,\n",
       "         0.,  4.,  0.,  0.,  0.,  1.,  0.,  0.,  0., 10.,  0.,  0.,  0.,\n",
       "         0.,  0.,  0.,  0.,  1.,  0.,  0.,  0.,  4.,  0.,  0.,  0.,  3.,\n",
       "         0.,  0.,  0., 33.,  0.,  0.,  0.,  2.,  0.,  0.,  0.,  5.,  0.,\n",
       "         0.,  0.,  2.,  0.,  0.,  0.,  1.,  0.,  0.,  0., 26.,  0.,  0.,\n",
       "         0.,  6.,  0.,  0.,  0.,  2.,  0.,  0.,  0.,  3.,  0.,  0.,  0.,\n",
       "         1.,  0.,  0.,  0., 36.,  0.,  0.,  0.,  2.,  0.,  0.,  0.,  8.,\n",
       "         0.,  0.,  0.,  8.,  0.,  0.,  0.,  3.,  0.,  0.,  0., 34.,  0.,\n",
       "         0.,  0.,  3.,  0.,  0.,  0.,  2.,  0.,  0.,  0.,  6.,  0.,  0.,\n",
       "         0.,  1.,  0.,  0.,  0., 45.,  0.,  0.,  0.,  3.,  0.,  0.,  0.,\n",
       "         5.,  0.,  0.,  0.,  0.,  0.,  0.,  0.,  0.,  0.,  0.,  0., 29.,\n",
       "         0.,  0.,  0.,  4.,  0.,  0.,  0.,  4.,  0.,  0.,  0.,  8.,  0.,\n",
       "         0.,  0.,  3.,  0.,  0.,  0., 49.,  0.,  0.,  0.,  3.,  0.,  0.,\n",
       "         0.,  2.,  0.,  0.,  0.,  3.,  0.,  0.,  0.,  5.,  0.,  0.,  0.,\n",
       "        40.,  0.,  0.,  0.,  4.,  0.,  0.,  0.,  4.,  0.,  0.,  0.,  6.,\n",
       "         0.,  0.,  0.,  1.,  0.,  0.,  0., 37.,  0.,  0.,  0.,  5.,  0.,\n",
       "         0.,  0.,  5.,  0.,  0.,  0.,  3.,  0.,  0.,  0.,  3.,  0.,  0.,\n",
       "         0., 15.,  0.,  0.,  0.,  3.,  0.,  0.,  0.,  3.,  0.,  0.,  0.,\n",
       "         3.,  0.,  0.,  0.,  3.,  0.,  0.,  0., 33.,  0.,  0.,  0.,  3.,\n",
       "         0.,  0.,  0.,  1.,  0.,  0.,  0.,  4.,  0.,  0.,  0.,  4.,  0.,\n",
       "         0.,  0., 29.,  0.,  0.,  0.,  0.,  0.,  0.,  0.,  1.,  0.,  0.,\n",
       "         0.,  1.,  0.,  0.,  0.,  1.,  0.,  0.,  0., 29.,  0.,  0.,  0.,\n",
       "         4.,  0.,  0.,  0.,  3.,  0.,  0.,  0.,  3.,  0.,  0.,  0.,  0.,\n",
       "         0.,  0.,  0., 27.,  0.,  0.,  0.,  2.,  0.,  0.,  0.,  7.,  0.,\n",
       "         0.,  0.,  3.,  0.,  0.,  0.,  3.,  0.,  0.,  0., 24.,  0.,  0.,\n",
       "         0.,  6.,  0.,  0.,  0.,  2.,  0.,  0.,  0.,  2.,  0.,  0.,  0.,\n",
       "         2.,  0.,  0.,  0., 10.,  0.,  0.,  0.,  2.,  0.,  0.,  0.,  1.,\n",
       "         0.,  0.,  0.,  6.,  0.,  0.,  0.,  3.,  0.,  0.,  0., 11.,  0.,\n",
       "         0.,  0.,  2.,  0.,  0.,  0.,  3.,  0.,  0.,  0.,  1.,  0.,  0.,\n",
       "         0.,  1.,  0.,  0.,  0.,  8.,  0.,  0.,  0.,  2.,  0.,  0.,  0.,\n",
       "         1.,  0.,  0.,  0.,  1.,  0.,  0.,  0.,  0.,  0.,  0.,  0.,  4.,\n",
       "         0.,  0.,  0.,  1.,  0.,  0.,  0.,  1.,  0.,  0.,  0.,  1.,  0.,\n",
       "         0.,  0.,  1.,  0.,  0.,  0.,  4.,  0.,  0.,  0.,  1.,  0.,  0.,\n",
       "         0.,  0.,  0.,  0.,  0.,  0.,  0.,  0.,  0.,  0.,  0.,  0.,  0.,\n",
       "         5.,  0.,  0.,  0.,  0.,  0.,  0.,  0.,  0.,  0.,  0.,  0.,  0.,\n",
       "         0.,  0.,  0.,  0.,  0.,  0.,  0.,  0.,  0.,  0.,  0.,  0.,  0.,\n",
       "         0.,  0.,  0.,  0.,  0.,  0.,  0.,  0.,  0.,  0.,  0.,  0.,  0.,\n",
       "         0.,  0.,  0.,  0.,  0.,  0.,  0.,  0.,  0.,  0.,  0.,  0.,  0.,\n",
       "         1.,  0.,  0.,  0.,  0.,  0.,  0.,  0.,  1.,  0.,  0.,  0.,  0.,\n",
       "         0.,  0.,  0.,  0.,  0.,  0.,  0.,  0.,  0.,  0.,  0.,  0.,  0.,\n",
       "         0.,  0.,  2.,  0.,  0.,  0.,  1.,  0.,  0.,  0.,  0.,  0.,  0.,\n",
       "         0.,  0.,  0.,  0.,  0.,  0.,  0.,  0.,  0.,  0.,  0.,  0.,  0.,\n",
       "         0.,  0.,  0.,  0.,  0.,  0.,  0.,  0.,  0.,  0.,  0.,  0.,  0.,\n",
       "         0.,  0.,  1.]),\n",
       " array([  0.  ,   0.25,   0.5 ,   0.75,   1.  ,   1.25,   1.5 ,   1.75,\n",
       "          2.  ,   2.25,   2.5 ,   2.75,   3.  ,   3.25,   3.5 ,   3.75,\n",
       "          4.  ,   4.25,   4.5 ,   4.75,   5.  ,   5.25,   5.5 ,   5.75,\n",
       "          6.  ,   6.25,   6.5 ,   6.75,   7.  ,   7.25,   7.5 ,   7.75,\n",
       "          8.  ,   8.25,   8.5 ,   8.75,   9.  ,   9.25,   9.5 ,   9.75,\n",
       "         10.  ,  10.25,  10.5 ,  10.75,  11.  ,  11.25,  11.5 ,  11.75,\n",
       "         12.  ,  12.25,  12.5 ,  12.75,  13.  ,  13.25,  13.5 ,  13.75,\n",
       "         14.  ,  14.25,  14.5 ,  14.75,  15.  ,  15.25,  15.5 ,  15.75,\n",
       "         16.  ,  16.25,  16.5 ,  16.75,  17.  ,  17.25,  17.5 ,  17.75,\n",
       "         18.  ,  18.25,  18.5 ,  18.75,  19.  ,  19.25,  19.5 ,  19.75,\n",
       "         20.  ,  20.25,  20.5 ,  20.75,  21.  ,  21.25,  21.5 ,  21.75,\n",
       "         22.  ,  22.25,  22.5 ,  22.75,  23.  ,  23.25,  23.5 ,  23.75,\n",
       "         24.  ,  24.25,  24.5 ,  24.75,  25.  ,  25.25,  25.5 ,  25.75,\n",
       "         26.  ,  26.25,  26.5 ,  26.75,  27.  ,  27.25,  27.5 ,  27.75,\n",
       "         28.  ,  28.25,  28.5 ,  28.75,  29.  ,  29.25,  29.5 ,  29.75,\n",
       "         30.  ,  30.25,  30.5 ,  30.75,  31.  ,  31.25,  31.5 ,  31.75,\n",
       "         32.  ,  32.25,  32.5 ,  32.75,  33.  ,  33.25,  33.5 ,  33.75,\n",
       "         34.  ,  34.25,  34.5 ,  34.75,  35.  ,  35.25,  35.5 ,  35.75,\n",
       "         36.  ,  36.25,  36.5 ,  36.75,  37.  ,  37.25,  37.5 ,  37.75,\n",
       "         38.  ,  38.25,  38.5 ,  38.75,  39.  ,  39.25,  39.5 ,  39.75,\n",
       "         40.  ,  40.25,  40.5 ,  40.75,  41.  ,  41.25,  41.5 ,  41.75,\n",
       "         42.  ,  42.25,  42.5 ,  42.75,  43.  ,  43.25,  43.5 ,  43.75,\n",
       "         44.  ,  44.25,  44.5 ,  44.75,  45.  ,  45.25,  45.5 ,  45.75,\n",
       "         46.  ,  46.25,  46.5 ,  46.75,  47.  ,  47.25,  47.5 ,  47.75,\n",
       "         48.  ,  48.25,  48.5 ,  48.75,  49.  ,  49.25,  49.5 ,  49.75,\n",
       "         50.  ,  50.25,  50.5 ,  50.75,  51.  ,  51.25,  51.5 ,  51.75,\n",
       "         52.  ,  52.25,  52.5 ,  52.75,  53.  ,  53.25,  53.5 ,  53.75,\n",
       "         54.  ,  54.25,  54.5 ,  54.75,  55.  ,  55.25,  55.5 ,  55.75,\n",
       "         56.  ,  56.25,  56.5 ,  56.75,  57.  ,  57.25,  57.5 ,  57.75,\n",
       "         58.  ,  58.25,  58.5 ,  58.75,  59.  ,  59.25,  59.5 ,  59.75,\n",
       "         60.  ,  60.25,  60.5 ,  60.75,  61.  ,  61.25,  61.5 ,  61.75,\n",
       "         62.  ,  62.25,  62.5 ,  62.75,  63.  ,  63.25,  63.5 ,  63.75,\n",
       "         64.  ,  64.25,  64.5 ,  64.75,  65.  ,  65.25,  65.5 ,  65.75,\n",
       "         66.  ,  66.25,  66.5 ,  66.75,  67.  ,  67.25,  67.5 ,  67.75,\n",
       "         68.  ,  68.25,  68.5 ,  68.75,  69.  ,  69.25,  69.5 ,  69.75,\n",
       "         70.  ,  70.25,  70.5 ,  70.75,  71.  ,  71.25,  71.5 ,  71.75,\n",
       "         72.  ,  72.25,  72.5 ,  72.75,  73.  ,  73.25,  73.5 ,  73.75,\n",
       "         74.  ,  74.25,  74.5 ,  74.75,  75.  ,  75.25,  75.5 ,  75.75,\n",
       "         76.  ,  76.25,  76.5 ,  76.75,  77.  ,  77.25,  77.5 ,  77.75,\n",
       "         78.  ,  78.25,  78.5 ,  78.75,  79.  ,  79.25,  79.5 ,  79.75,\n",
       "         80.  ,  80.25,  80.5 ,  80.75,  81.  ,  81.25,  81.5 ,  81.75,\n",
       "         82.  ,  82.25,  82.5 ,  82.75,  83.  ,  83.25,  83.5 ,  83.75,\n",
       "         84.  ,  84.25,  84.5 ,  84.75,  85.  ,  85.25,  85.5 ,  85.75,\n",
       "         86.  ,  86.25,  86.5 ,  86.75,  87.  ,  87.25,  87.5 ,  87.75,\n",
       "         88.  ,  88.25,  88.5 ,  88.75,  89.  ,  89.25,  89.5 ,  89.75,\n",
       "         90.  ,  90.25,  90.5 ,  90.75,  91.  ,  91.25,  91.5 ,  91.75,\n",
       "         92.  ,  92.25,  92.5 ,  92.75,  93.  ,  93.25,  93.5 ,  93.75,\n",
       "         94.  ,  94.25,  94.5 ,  94.75,  95.  ,  95.25,  95.5 ,  95.75,\n",
       "         96.  ,  96.25,  96.5 ,  96.75,  97.  ,  97.25,  97.5 ,  97.75,\n",
       "         98.  ,  98.25,  98.5 ,  98.75,  99.  ,  99.25,  99.5 ,  99.75,\n",
       "        100.  , 100.25, 100.5 , 100.75, 101.  , 101.25, 101.5 , 101.75,\n",
       "        102.  , 102.25, 102.5 , 102.75, 103.  , 103.25, 103.5 , 103.75,\n",
       "        104.  , 104.25, 104.5 , 104.75, 105.  , 105.25, 105.5 , 105.75,\n",
       "        106.  , 106.25, 106.5 , 106.75, 107.  , 107.25, 107.5 , 107.75,\n",
       "        108.  , 108.25, 108.5 , 108.75, 109.  , 109.25, 109.5 , 109.75,\n",
       "        110.  , 110.25, 110.5 , 110.75, 111.  , 111.25, 111.5 , 111.75,\n",
       "        112.  , 112.25, 112.5 , 112.75, 113.  , 113.25, 113.5 , 113.75,\n",
       "        114.  , 114.25, 114.5 , 114.75, 115.  , 115.25, 115.5 , 115.75,\n",
       "        116.  , 116.25, 116.5 , 116.75, 117.  , 117.25, 117.5 , 117.75,\n",
       "        118.  , 118.25, 118.5 , 118.75, 119.  , 119.25, 119.5 , 119.75,\n",
       "        120.  , 120.25, 120.5 , 120.75, 121.  , 121.25, 121.5 , 121.75,\n",
       "        122.  , 122.25, 122.5 , 122.75, 123.  , 123.25, 123.5 , 123.75,\n",
       "        124.  , 124.25, 124.5 , 124.75, 125.  , 125.25, 125.5 , 125.75,\n",
       "        126.  , 126.25, 126.5 , 126.75, 127.  , 127.25, 127.5 , 127.75,\n",
       "        128.  , 128.25, 128.5 , 128.75, 129.  , 129.25, 129.5 , 129.75,\n",
       "        130.  , 130.25, 130.5 , 130.75, 131.  , 131.25, 131.5 , 131.75,\n",
       "        132.  , 132.25, 132.5 , 132.75, 133.  , 133.25, 133.5 , 133.75,\n",
       "        134.  , 134.25, 134.5 , 134.75, 135.  , 135.25, 135.5 , 135.75,\n",
       "        136.  , 136.25, 136.5 , 136.75, 137.  , 137.25, 137.5 , 137.75,\n",
       "        138.  , 138.25, 138.5 , 138.75, 139.  , 139.25, 139.5 , 139.75,\n",
       "        140.  , 140.25, 140.5 , 140.75, 141.  , 141.25, 141.5 , 141.75,\n",
       "        142.  , 142.25, 142.5 , 142.75, 143.  , 143.25, 143.5 , 143.75,\n",
       "        144.  , 144.25, 144.5 , 144.75, 145.  , 145.25, 145.5 , 145.75,\n",
       "        146.  , 146.25, 146.5 , 146.75, 147.  , 147.25, 147.5 , 147.75,\n",
       "        148.  , 148.25, 148.5 , 148.75, 149.  , 149.25, 149.5 , 149.75,\n",
       "        150.  , 150.25, 150.5 , 150.75, 151.  , 151.25, 151.5 , 151.75,\n",
       "        152.  , 152.25, 152.5 , 152.75, 153.  , 153.25, 153.5 , 153.75,\n",
       "        154.  , 154.25, 154.5 , 154.75, 155.  , 155.25, 155.5 , 155.75,\n",
       "        156.  , 156.25, 156.5 , 156.75, 157.  , 157.25, 157.5 , 157.75,\n",
       "        158.  , 158.25, 158.5 , 158.75, 159.  , 159.25, 159.5 , 159.75,\n",
       "        160.  ]),\n",
       " <BarContainer object of 640 artists>)"
      ]
     },
     "execution_count": 7,
     "metadata": {},
     "output_type": "execute_result"
    },
    {
     "data": {
      "text/plain": [
       "<Figure size 2000x500 with 2 Axes>"
      ],
      "image/png": "[encoded data removed]"
     },
     "metadata": {},
     "output_type": "display_data",
     "jetTransient": {
      "display_id": null
     }
    }
   ],
   "execution_count": 7
  },
  {
   "metadata": {},
   "cell_type": "code",
   "outputs": [],
   "execution_count": null,
   "source": "",
   "id": "8c59b975a2d6df5d"
  }
 ],
 "metadata": {
  "kernelspec": {
   "display_name": "Python 3",
   "language": "python",
   "name": "python3"
  },
  "language_info": {
   "codemirror_mode": {
    "name": "ipython",
    "version": 2
   },
   "file_extension": ".py",
   "mimetype": "text/x-python",
   "name": "python",
   "nbconvert_exporter": "python",
   "pygments_lexer": "ipython2",
   "version": "2.7.6"
  }
 },
 "nbformat": 4,
 "nbformat_minor": 5
}
