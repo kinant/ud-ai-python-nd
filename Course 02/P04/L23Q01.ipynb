{
 "cells": [
  {
   "cell_type": "markdown",
   "metadata": {},
   "source": [
    "### Exercise: Feature Summary for Tweet\n",
    "\n",
    "In this exercise, you'll concatenate model feature descriptions into a single string for a tweet, ensuring the final string does not exceed 140 characters.\n",
    "\n",
    "#### Problem Statement\n",
    "\n",
    "Given a list of model feature descriptions, concatenate them into a single string for a tweet. The final string should not exceed 140 characters.\n",
    "\n",
    "**Example Input**:\n",
    "```python\n",
    "features = [\n",
    "    \"Feature 1: High accuracy\",\n",
    "    \"Feature 2: Low latency\",\n",
    "    \"Feature 3: Scalability\",\n",
    "    \"Feature 4: Robustness\",\n",
    "    \"Feature 5: Interpretability\"\n",
    "]\n",
    "```\n",
    "\n",
    "**Instructions**:\n",
    "1. Initialize an empty string `feature_summary`.\n",
    "2. Iterate through the `features` list and concatenate each feature to `feature_summary` with a line break (`\\n`) in between.\n",
    "3. Ensure that the final `feature_summary` does not exceed 140 characters."
   ]
  },
  {
   "cell_type": "code",
   "metadata": {
    "ExecuteTime": {
     "end_time": "2025-05-21T17:16:50.572597Z",
     "start_time": "2025-05-21T17:16:50.568288Z"
    }
   },
   "source": [
    "features = [\n",
    "    \"Feature 1: High accuracy\",\n",
    "    \"Feature 2: Low latency\",\n",
    "    \"Feature 3: Scalability\",\n",
    "    \"Feature 4: Robustness\",\n",
    "    \"Feature 5: Interpretability\"\n",
    "]\n",
    "\n",
    "feature_summary = \"\"\n",
    "# Write your loop here\n",
    "i = 0\n",
    "\n",
    "while (len(feature_summary) <= 140) and (i < len(features)):\n",
    "    feature_summary += features[i] + \"\\n\"\n",
    "    i += 1\n",
    "\n",
    "feature_summary = feature_summary[:140]\n",
    "\n",
    "# Print the resulting summary\n",
    "print(feature_summary)\n",
    "\n",
    "### Notebook grading\n",
    "def get_solution(features):\n",
    "    feature_summary = \"\"\n",
    "    for feature in features:\n",
    "        if len(feature_summary) + len(feature) + 1 > 140:\n",
    "            if feature_summary:\n",
    "                feature_summary += \"\\n\"\n",
    "            feature_summary += feature[:140 - len(feature_summary)]\n",
    "            break\n",
    "        if feature_summary:\n",
    "            feature_summary += \"\\n\"\n",
    "        feature_summary += feature\n",
    "\n",
    "    return feature_summary\n",
    "\n",
    "correct_ans = get_solution(features)\n",
    "\n",
    "print(correct_ans)\n",
    "\n",
    "if feature_summary == correct_ans:\n",
    "    print(\"Well done!\")\n",
    "else:\n",
    "    print(\"Make sure you're inserting spaces between each feature, and that the summary is exactly 140 characters long.\")"
   ],
   "outputs": [
    {
     "name": "stdout",
     "output_type": "stream",
     "text": [
      "Feature 1: High accuracy\n",
      "Feature 2: Low latency\n",
      "Feature 3: Scalability\n",
      "Feature 4: Robustness\n",
      "Feature 5: Interpretability\n",
      "\n",
      "Feature 1: High accuracy\n",
      "Feature 2: Low latency\n",
      "Feature 3: Scalability\n",
      "Feature 4: Robustness\n",
      "Feature 5: Interpretability\n",
      "Make sure you're inserting spaces between each feature, and that the summary is exactly 140 characters long.\n"
     ]
    }
   ],
   "execution_count": 7
  }
 ],
 "metadata": {
  "kernelspec": {
   "display_name": "Python [conda env:base] *",
   "language": "python",
   "name": "conda-base-py"
  },
  "language_info": {
   "codemirror_mode": {
    "name": "ipython",
    "version": 3
   },
   "file_extension": ".py",
   "mimetype": "text/x-python",
   "name": "python",
   "nbconvert_exporter": "python",
   "pygments_lexer": "ipython3",
   "version": "3.10.13"
  }
 },
 "nbformat": 4,
 "nbformat_minor": 2
}
