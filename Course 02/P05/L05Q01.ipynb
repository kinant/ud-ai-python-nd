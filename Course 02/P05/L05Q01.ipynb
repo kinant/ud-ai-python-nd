{
 "cells": [
  {
   "cell_type": "markdown",
   "metadata": {},
   "source": [
    "### Exercise 1: Calculating Population Density of Data Centers\n",
    "#### Scenario:\n",
    "You are responsible for managing the storage capacities of data centers in various regions. To optimize resource allocation, you need to calculate the data storage density for each region. The storage density is defined as the amount of data (in TB) stored per square kilometer of land area.\n",
    "\n",
    "#### Task:\n",
    "Write a function named `data_storage_density` that takes two arguments, `data_amount` (in TB) and `land_area` (in square kilometers), and returns the data storage density calculated from those values."
   ]
  },
  {
   "cell_type": "code",
   "metadata": {
    "ExecuteTime": {
     "end_time": "2025-06-04T18:06:20.493214Z",
     "start_time": "2025-06-04T18:06:20.486218Z"
    }
   },
   "source": [
    "# Write your function here\n",
    "def data_storage_density(data_amount, land_area):\n",
    "    return data_amount / land_area\n",
    "\n",
    "### Notebook grading\n",
    "import types\n",
    "explanation_str = '''Your function produced the wrong result when called like this: {}\\t\n",
    "The expected output is: {}'''\n",
    "if 'data_storage_density' not in locals():\n",
    "    print(\"Your code doesn't define `data_storage_density`. Check your spelling.\")\n",
    "elif not isinstance(data_storage_density, types.FunctionType):\n",
    "    print(\"`data_storage_density` should be a function.\")\n",
    "elif data_storage_density(10, 1) != 10 / 1:\n",
    "    print(explanation_str.format('data_storage_density(10, 1)', 10. / 1))\n",
    "elif data_storage_density(864816, 121.4) != 864816 / 121.4:\n",
    "    print(explanation_str.format('data_storage_density(864816, 121.4)', 864816. / 121.4))\n",
    "elif data_storage_density(1234321, 42) != 1234321 / 42:\n",
    "    print(explanation_str.format('data_storage_density(1234321, 42)', 1234321. / 42))\n",
    "else:\n",
    "    print(\"Nicely done! You can view my solution on the next page.\")"
   ],
   "outputs": [
    {
     "name": "stdout",
     "output_type": "stream",
     "text": [
      "Nicely done! You can view my solution on the next page.\n"
     ]
    }
   ],
   "execution_count": 2
  },
  {
   "cell_type": "markdown",
   "metadata": {},
   "source": [
    "### Exercise 2: Readable Time for Data Processing\n",
    "#### Scenario:\n",
    "You are optimizing a machine learning pipeline, and you need to report the processing time of a dataset in a human-readable format. The time is provided in days, and you need to convert it to weeks and days to better communicate the processing schedule to the stakeholders.\n",
    "\n",
    "#### Task:\n",
    "Write a function named `readable_processing_time`. The function should take one argument, an integer `days`, and return a string that says how many weeks and days that is."
   ]
  },
  {
   "cell_type": "code",
   "metadata": {
    "ExecuteTime": {
     "end_time": "2025-06-04T18:09:06.991695Z",
     "start_time": "2025-06-04T18:09:06.983695Z"
    }
   },
   "source": [
    "# Write your function here\n",
    "def readable_processing_time(days):\n",
    "    n_weeks = days // 7\n",
    "    n_days = days % 7\n",
    "    return \"{} week(s) and {} day(s).\".format(n_weeks, n_days)\n",
    "\n",
    "### Notebook grading\n",
    "import random\n",
    "def readable_processing_time_soltn(days):\n",
    "    \"\"\"Print the number of weeks and days in a number of days.\"\"\"\n",
    "    weeks = days // 7\n",
    "    remainder = days % 7\n",
    "    return \"{} week(s) and {} day(s).\".format(weeks, remainder)\n",
    "\n",
    "explanation_str = '''Your function produced the wrong result when called like this: readable_processing_time({}). The expected output is: {}'''\n",
    "\n",
    "test_cases = [1, 6, 7, 9, random.randint(100, 10000)]\n",
    "test_failed = False\n",
    "\n",
    "if 'readable_processing_time' not in locals():\n",
    "    test_failed = True\n",
    "    print(\"Your code doesn't define `readable_processing_time`. Check your spelling.\")\n",
    "elif not isinstance(readable_processing_time, types.FunctionType):\n",
    "    test_failed = True\n",
    "    print(\"`readable_processing_time` should be a function.\")\n",
    "else:\n",
    "    for case in test_cases:\n",
    "        if readable_processing_time(case) != readable_processing_time_soltn(case):\n",
    "            test_failed = True\n",
    "            print(explanation_str.format(case, readable_processing_time_soltn(case)))\n",
    "            break\n",
    "\n",
    "    if not test_failed:\n",
    "        print(\"Nicely done! You can view my solution on the next page.\")"
   ],
   "outputs": [
    {
     "name": "stdout",
     "output_type": "stream",
     "text": [
      "Nicely done! You can view my solution on the next page.\n"
     ]
    }
   ],
   "execution_count": 4
  }
 ],
 "metadata": {
  "kernelspec": {
   "display_name": "Python [conda env:base] *",
   "language": "python",
   "name": "conda-base-py"
  },
  "language_info": {
   "codemirror_mode": {
    "name": "ipython",
    "version": 3
   },
   "file_extension": ".py",
   "mimetype": "text/x-python",
   "name": "python",
   "nbconvert_exporter": "python",
   "pygments_lexer": "ipython3",
   "version": "3.10.13"
  }
 },
 "nbformat": 4,
 "nbformat_minor": 2
}
