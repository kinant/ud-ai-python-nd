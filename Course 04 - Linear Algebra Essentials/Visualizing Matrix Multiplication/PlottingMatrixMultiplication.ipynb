{
 "cells": [
  {
   "cell_type": "markdown",
   "metadata": {},
   "source": [
    "# Visualizing Matrix Multiplication\n",
    "In the videos on *__Linear Transformation and Matrices__*, you learned how a vector can be decomposed into it's basis vectors $\\hat{i}$ and $\\hat{j}$. \n",
    "You also learned that you can tranform a vector by multiplying that vector's $x$ and $y$ values by the *transformed* basis vectors, $\\hat{i_T}$ and $\\hat{j_T}$, summing their results (see *Equation 1*).\n",
    "\n",
    "$\\hspace{1cm}\\textit{transformed } \\vec{v} = x\\mathbin{\\color{green}{\\hat{i_T}}} +\\, y\\, \\mathbin{\\color{red}{\\hat{j_T}}} $\n",
    "\n",
    "$\\hspace{2.3cm}$*Equation 1*\n",
    "\n",
    "\n",
    "You learned how this method of transforming a vector through use of the *transformed* basis vectors is the same as matrix multiplication (see *Equation 2*).\n",
    "\n",
    "$\\hspace{1cm} \\begin{bmatrix} \\mathbin{\\color{green}a} & \\mathbin{\\color{red}b}\\\\ \\mathbin{\\color{green}c} & \\mathbin{\\color{red}d} \\end{bmatrix} \\begin{bmatrix} x\\\\ y\\end{bmatrix} = x \\begin{bmatrix}\\mathbin{\\color{green}a}\\\\ \\mathbin{\\color{green}c} \\end{bmatrix} + y \\begin{bmatrix} \\mathbin{\\color{red}b}\\\\ \\mathbin{\\color{red}d} \\end{bmatrix} = \\begin{bmatrix} \\mathbin{\\color{green}a}x + \\mathbin{\\color{red}b}y\\\\ \\mathbin{\\color{green}c}x + \\mathbin{\\color{red}d}y\\end{bmatrix}$ \n",
    "\n",
    "$\\hspace{4.1cm}$*Equation 2*\n",
    "\n",
    "\n",
    "In this lab you will:\n",
    "- Graph a vector decomposed into it's basis vectors $\\hat{i}$ and $\\hat{j}$\n",
    "- Graph a vector transformation that uses *Equation 1* \n",
    "- Demonstrate that the same vector transformation can be achieved with matrix multiplication (*Equation 2*)"
   ]
  },
  {
   "cell_type": "markdown",
   "metadata": {},
   "source": [
    "## Graphing a Vector $\\vec{v}$ Decomposed into Basis Vectors $\\vec{\\hat{i}}$ and $\\vec{\\hat{j}}$\n",
    "\n",
    "For the first part of the lab, we will be defining vector $\\vec{v}$ as follows:\n",
    "   \n",
    "$\\hspace{1cm}\\vec{v} = \\begin{bmatrix} -1\\\\ 2\\end{bmatrix}$\n",
    "\n",
    "Below is an outline that describes what is included in the Python code *below* to plot vectors $\\vec{v}$, $\\vec{\\hat{i}}$, and $\\vec{\\hat{j}}$ .\n",
    "1. Make both NumPy and Matlibplot python packages available using the _import_ method   \n",
    "&nbsp;  \n",
    "2. Define vector $\\vec{v}$    \n",
    "&nbsp;    \n",
    "3. Define basis vector $\\vec{\\hat{i}}$    \n",
    "&nbsp;   \n",
    "4. Define basis vector $\\vec{\\hat{j}}$    \n",
    "&nbsp;   \n",
    "5. Define *__v_ihat__* as $x$ multiplied by basis vector $\\vec{\\hat{i}}$    \n",
    "&nbsp;   \n",
    "6. Define *__v_jhat__* as $y$ multiplied by basis vector $\\vec{\\hat{y}}$    \n",
    "&nbsp;   \n",
    "7. Plot vector $\\vec{v}$ decomposed into *__v_ihat__* and *__v_jhat__* using Matlibplot  \n",
    "    1. Create a variable *__ax__* to reference the axes of the plot \n",
    "    2. Plot the origin as a red dot at point 0,0 using *__ax__* and _plot_ method\n",
    "    3. Plot vector *__v_ihat__* as a green *dotted* arrow with origin at 0,0 using *__ax__* and _arrow_ method \n",
    "    4. Plot vector *__v_jhat__* as a red *dotted* arrow with origin at tip of *__v_ihat__* using *__ax__* and _arrow_ method \n",
    "    5. Plot vector $\\vec{v}$ as a blue arrow with origin at 0,0 using *__ax__* and _arrow_ method \n",
    "    6. Format x-axis \n",
    "        1. Set limits using _xlim_ method\n",
    "        2. Set major tick marks using *__ax__* and *set_xticks* method\n",
    "    7. Format y-axis \n",
    "        1. Set limits using _ylim_ method\n",
    "        2. Set major tick marks using *__ax__* and *set_yticks* method  \n",
    "    8. Create the gridlines using _grid_ method  \n",
    "    9. Display the plot using _show_ method "
   ]
  },
  {
   "cell_type": "code",
   "metadata": {
    "ExecuteTime": {
     "end_time": "2025-10-14T06:38:11.227889Z",
     "start_time": "2025-10-14T06:38:10.945890Z"
    }
   },
   "source": [
    "# Import NumPy and Matplotlib\n",
    "%matplotlib inline\n",
    "import numpy as np\n",
    "import matplotlib.pyplot as plt\n",
    "\n",
    "# Define vector v \n",
    "v = np.array([-1,2])\n",
    "\n",
    "# Define basis vector i_hat as unit vector\n",
    "i_hat = np.array([1,0])\n",
    "\n",
    "# Define basis vector j_hat as unit vector\n",
    "j_hat = np.array([0,1])\n",
    "\n",
    "# Define v_ihat - as v[0](x) multiplied by basis vector ihat\n",
    "v_ihat = v[0] * i_hat\n",
    "\n",
    "# Define v_jhat_t - as v[1](y) multiplied by basis vector jhat\n",
    "v_jhat = v[1] * j_hat\n",
    "\n",
    "# Plot that graphically shows vector v (color='b') - whose position can be  \n",
    "# decomposed into v_ihat and v_jhat \n",
    "\n",
    "# Creates axes of plot referenced 'ax'\n",
    "ax = plt.axes()\n",
    "\n",
    "# Plots red dot at origin (0,0)\n",
    "ax.plot(0,0,'or')\n",
    "\n",
    "\n",
    "# Plots vector v_ihat as dotted green arrow starting at origin 0,0\n",
    "ax.arrow(0, 0, *v_ihat, color='g', linestyle='dotted', linewidth=2.5, head_width=0.30,\n",
    "         head_length=0.35)\n",
    "\n",
    "# Plots vector v_jhat as dotted red arrow starting at origin defined by v_ihat\n",
    "ax.arrow(v_ihat[0], v_ihat[1], *v_jhat, color='r', linestyle='dotted', linewidth=2.5,\n",
    "         head_width=0.30, head_length=0.35)\n",
    "\n",
    "# Plots vector v as blue arrow starting at origin 0,0\n",
    "ax.arrow(0, 0, *v, color='b', linewidth=2.5, head_width=0.30, head_length=0.35)\n",
    "\n",
    "\n",
    "# Sets limit for plot for x-axis\n",
    "plt.xlim(-4, 2)\n",
    "\n",
    "# Set major ticks for x-axis\n",
    "major_xticks = np.arange(-4, 2)\n",
    "ax.set_xticks(major_xticks)\n",
    "\n",
    "\n",
    "# Sets limit for plot for y-axis\n",
    "plt.ylim(-2, 4)\n",
    "\n",
    "# Set major ticks for y-axis\n",
    "major_yticks = np.arange(-2, 4)\n",
    "ax.set_yticks(major_yticks)\n",
    "\n",
    "# Creates gridlines for only major tick marks\n",
    "plt.grid(visible=True, which='major')\n",
    "\n",
    "# Displays final plot\n",
    "plt.show()"
   ],
   "outputs": [
    {
     "data": {
      "text/plain": [
       "<Figure size 640x480 with 1 Axes>"
      ],
      "image/png": "[encoded data removed]"
     },
     "metadata": {},
     "output_type": "display_data",
     "jetTransient": {
      "display_id": null
     }
    }
   ],
   "execution_count": 1
  },
  {
   "cell_type": "markdown",
   "metadata": {},
   "source": [
    "## *Transforming* a Vector using *Transformed* Vectors $\\vec{\\hat{i_T}}$ and $\\vec{\\hat{j_T}}$\n",
    "For this part of the lab, we will plot the results of *transforming* vector $\\vec{v}$ using *transformed* vectors $\\vec{\\hat{i_T}}$ and $\\vec{\\hat{j_T}}$. Vectors $\\vec{v}$, $\\vec{\\hat{i_T}}$, and $\\vec{\\hat{j_T}}$ have been defined below.\n",
    "   \n",
    "\n",
    "$\\hspace{1cm}\\vec{v} = \\begin{bmatrix} -1\\\\ 2\\end{bmatrix}$\n",
    "\n",
    "$\\hspace{1cm}\\vec{\\mathbin{\\color{green}{\\hat{i_T}}}} = \\begin{bmatrix}\\mathbin{\\color{green}3}\\\\ \\mathbin{\\color{green}1} \\end{bmatrix}$\n",
    "\n",
    "$\\hspace{1cm}\\vec{\\mathbin{\\color{red}{\\hat{j_T}}}} = \\begin{bmatrix}\\mathbin{\\color{red}1}\\\\ \\mathbin{\\color{red}2} \\end{bmatrix}$\n",
    "\n",
    "### TODO: Computing and Plotting *Transformed* Vector $\\vec{v_T}$ using Vectors $\\vec{\\hat{i_T}}$ and $\\vec{\\hat{j_T}}$\n",
    "For this part of the lab you will be creating *transformed* vectors $\\vec{\\hat{i_T}}$ and $\\vec{\\hat{j_T}}$ and using them to *transform* vector $\\vec{v}$ using *Equation 1* above. \n",
    "\n",
    "1. Define vector $\\vec{\\hat{i_T}}$ by replacing $x$ and $y$ with $3$ and $1$ (see *__TODO 1.:__*).  \n",
    "&nbsp; \n",
    "\n",
    "2. Define vector $\\vec{\\hat{j_T}}$ by replacing $x$ and $y$ with $1$ and $2$ (see *__TODO 2.:__*).  \n",
    "&nbsp; \n",
    "\n",
    "3. Define vector $\\vec{v_T}$ by adding vectors $\\vec{\\hat{i_T}}$ and $\\vec{\\hat{j_T}}$ (see *__TODO 3.:__*).  \n",
    "&nbsp; \n",
    "\n",
    "4. Plot vector $\\vec{v_T}$ by copying the _ax.arrow(...)_ statement for vector $\\vec{v}$ and changing _color = 'b'_ in the _ax.arrow(...)_ statement to plot vector $\\vec{v_T}$ as blue colored vector (see *__TODO 4.:__*).  \n",
    "&nbsp; \n",
    "\n",
    "*__Notice that__*:\n",
    "\n",
    "- To *run* your code:\n",
    "    - Click on the Save icon (disk icon right under *'File'* in the menu bar above), to save your work.\n",
    "    - Select *'Kernel'* and *'Restart & Run All'*, to run your code.  \n"
   ]
  },
  {
   "cell_type": "code",
   "metadata": {
    "ExecuteTime": {
     "end_time": "2025-10-14T06:41:55.991216Z",
     "start_time": "2025-10-14T06:41:55.954923Z"
    }
   },
   "source": [
    "# Define vector v \n",
    "v = np.array([-1, 2])\n",
    "\n",
    "# TODO 1.: Define vector i_hat as transformed vector i_hat(ihat_t)\n",
    "# where x=3 and y=1 instead of x=1 and y=0\n",
    "ihat_t = np.array([3, 1])\n",
    "\n",
    "# TODO 2.: Define vector j_hat as transformed vector j_hat(jhat_t)\n",
    "# where x=1 and y=2 instead of x=0 and y=1\n",
    "jhat_t = np.array([1, 2])\n",
    "\n",
    "# Define v_ihat_t - as v[0](x) multiplied by transformed vector ihat\n",
    "v_ihat_t = v[0] * ihat_t\n",
    "\n",
    "# Define v_jhat_t - as v[1](y) multiplied by transformed vector jhat\n",
    "v_jhat_t = v[1] * jhat_t\n",
    "\n",
    "# TODO 3.: Define transformed vector v (v_t) as \n",
    "# vector v_ihat_t added to vector v_jhat_t\n",
    "v_t = v_ihat_t + v_jhat_t\n",
    "\n",
    "\n",
    "# Plot that graphically shows vector v (color='skyblue') can be transformed \n",
    "# into transformed vector v (v_trfm - color='b') by adding v[0]*transformed \n",
    "# vector ihat to v[0]*transformed vector jhat\n",
    "\n",
    "\n",
    "# Creates axes of plot referenced 'ax'\n",
    "ax = plt.axes()\n",
    "\n",
    "# Plots red dot at origin (0,0)\n",
    "ax.plot(0,0,'or')\n",
    "\n",
    "\n",
    "# Plots vector v_ihat_t as dotted green arrow starting at origin 0,0\n",
    "ax.arrow(0, 0, *v_ihat_t, color='g', linestyle='dotted', linewidth=2.5, head_width=0.30,\n",
    "         head_length=0.35)\n",
    "\n",
    "# Plots vector v_jhat_t as dotted red arrow starting at origin defined by v_ihat\n",
    "ax.arrow(v_ihat_t[0], v_ihat_t[1], *v_jhat_t, color='r', linestyle='dotted', linewidth=2.5,\n",
    "         head_width=0.30, head_length=0.35)\n",
    "\n",
    "# Plots vector v as blue arrow starting at origin 0,0\n",
    "ax.arrow(0, 0, *v, color='skyblue', linewidth=2.5, head_width=0.30, head_length=0.35)\n",
    "\n",
    "# TODO 4.: Plot transformed vector v (v_t) a blue colored vector(color='b') using \n",
    "# vector v's ax.arrow() statement above as template for the plot \n",
    "ax.arrow(0, 0, *v_t, color='b')\n",
    "\n",
    "\n",
    "# Sets limit for plot for x-axis\n",
    "plt.xlim(-4, 2)\n",
    "\n",
    "# Set major ticks for x-axis\n",
    "major_xticks = np.arange(-4, 2)\n",
    "ax.set_xticks(major_xticks)\n",
    "\n",
    "\n",
    "# Sets limit for plot for y-axis\n",
    "plt.ylim(-2, 4)\n",
    "\n",
    "# Set major ticks for y-axis\n",
    "major_yticks = np.arange(-2, 4)\n",
    "ax.set_yticks(major_yticks)\n",
    "\n",
    "# Creates gridlines for only major tick marks\n",
    "plt.grid(visible=True, which='major')\n",
    "\n",
    "# Displays final plot\n",
    "plt.show()"
   ],
   "outputs": [
    {
     "data": {
      "text/plain": [
       "<Figure size 640x480 with 1 Axes>"
      ],
      "image/png": "[encoded data removed]"
     },
     "metadata": {},
     "output_type": "display_data",
     "jetTransient": {
      "display_id": null
     }
    }
   ],
   "execution_count": 2
  },
  {
   "cell_type": "markdown",
   "metadata": {},
   "source": [
    "# Solution for Computing and Plotting *Transformed* Vector $\\vec{v_T}$ \n",
    "Your output from above should match the output below. If you need any help or want to check your answer, feel free to check out the solution notebook by clicking [here](PlottingMatrixMultiplicationSolution.ipynb#TODO:-Computing-and-Plotting-Transformed-Vector-$\\vec{v_T}$-using-Vectors-$\\vec{\\hat{i_T}}$-and-$\\vec{\\hat{j_T}}$). \n",
    "\n",
    "<img src=\"linearMappingLab_GraphingTransformedVector.png\" height=300 width=350 />\n",
    "\n",
    "\n",
    "### Solution Video for Computing and Plotting *Transformed* Vector $\\vec{v_T}$   \n",
    "The solution video can be found in the **Linear Mapping Lab Solution** section. You may want to open another browser window to allow you to easily toggle between the Vector's Lab Jupyter Notebook and the solution videos for this lab.    "
   ]
  },
  {
   "cell_type": "markdown",
   "metadata": {},
   "source": [
    "## Matrix Multiplication\n",
    "For this part of the lab, we will demonstrate that the same vector transformation from the section above can be achieved with matrix multiplication (*Equation 2*). Vectors $\\vec{v}$ and $\\vec{ij}$ have been defined below.\n",
    "   \n",
    "$\\hspace{1cm}\\vec{v} = \\begin{bmatrix} -1\\\\ 2\\end{bmatrix}$\n",
    "\n",
    "$\\hspace{1cm}\\vec{ij} = \\begin{bmatrix} \\mathbin{\\color{green}3} & \\mathbin{\\color{red}1}\\\\ \\mathbin{\\color{green}1} & \\mathbin{\\color{red}2}\\end{bmatrix}$\n",
    "\n",
    "### TODO: Matrix Multiplication\n",
    "For this part of the lab, define *__transformed__* vector **$\\vec{v_T}$** using the [function _**matmul**_](https://numpy.org/doc/stable/reference/generated/numpy.matmul.html) for multiplying 2x2 matrix **$\\vec{ij}$** and vector **$\\vec{v}$**.\n",
    "\n",
    "1. Replace **None** below with code that defines *__transformed__* vector **$\\vec{v_T}$** using the *__matmul__* function to multiply matrix **$\\vec{ij}$** and vector **$\\vec{v}$** (see *__TODO 1.__*)\n",
    "&nbsp; \n",
    "\n",
    "*__Notice that__*:\n",
    "\n",
    "- The alias _**np**_ was used to with the import of the Numpy package; therefore, use the _**np**_ alias when you call the _**matmul**_ function below.\n",
    "\n",
    "\n",
    "- To *run* your code:\n",
    "    - Click on the Save icon (disk icon right under *'File'* in the menu bar above), to save your work.\n",
    "    - Select *'Kernel'* and *'Restart & Run All'*, to run your code.  \n"
   ]
  },
  {
   "cell_type": "code",
   "metadata": {
    "ExecuteTime": {
     "end_time": "2025-10-14T06:43:12.535451Z",
     "start_time": "2025-10-14T06:43:12.532204Z"
    }
   },
   "source": [
    "# Define vector v \n",
    "v = np.array([-1,2])\n",
    "\n",
    "# Define 2x2 matrix ij\n",
    "ij = np.array([[3, 1],[1, 2]])\n",
    "\n",
    "# TODO 1.: Demonstrate getting v_trfm by matrix multiplication\n",
    "# by using matmul function to multiply 2x2 matrix ij by vector v\n",
    "# to compute the transformed vector v (v_t) \n",
    "v_t = np.matmul(ij, v)\n",
    "\n",
    "# Prints vectors v, ij, and v_t\n",
    "print(\"\\nMatrix ij:\", ij, \"\\nVector v:\", v, \"\\nTransformed Vector v_t:\", v_t, sep=\"\\n\")\n"
   ],
   "outputs": [
    {
     "name": "stdout",
     "output_type": "stream",
     "text": [
      "\n",
      "Matrix ij:\n",
      "[[3 1]\n",
      " [1 2]]\n",
      "\n",
      "Vector v:\n",
      "[-1  2]\n",
      "\n",
      "Transformed Vector v_t:\n",
      "[-1  3]\n"
     ]
    }
   ],
   "execution_count": 3
  },
  {
   "cell_type": "markdown",
   "metadata": {},
   "source": [
    "### Solution for Matrix Multiplication \n",
    "Your output from above for *transformed* vector $\\vec{v_T}$ should match the solution below. Notice that in NumPy vectors are written horizontally so that the *[-1  2]* from above is the way vector $\\vec{v}$ will be defined.\n",
    "If you need any help or want to check your answer, feel free to check out the solution notebook by clicking [here](PlottingMatrixMultiplicationSolution.ipynb#TODO:-Matrix-Multiplication). \n",
    "\n",
    "With this matrix multiplication you have completed the computation in *Equation 2* using *transformed* vectors $\\vec{\\hat{i_T}}$ and $\\vec{\\hat{j_T}}$ (see below).\n",
    "\n",
    "    \n",
    "$\\hspace{1cm} \\begin{bmatrix} \\mathbin{\\color{green}3} & \\mathbin{\\color{red}1}\\\\ \\mathbin{\\color{green}1} & \\mathbin{\\color{red}2}\\end{bmatrix} \\begin{bmatrix} -1\\\\ 2\\end{bmatrix} = -1 \\begin{bmatrix}\\mathbin{\\color{green}3}\\\\ \\mathbin{\\color{green}1} \\end{bmatrix} + 2 \\begin{bmatrix} \\mathbin{\\color{red}1}\\\\ \\mathbin{\\color{red}2} \\end{bmatrix} = \\begin{bmatrix} {-1}{*}\\mathbin{\\color{green}3} +\\,2{*}\\mathbin{\\color{red}1}\\\\ {-1}{*}\\mathbin{\\color{green}1} +\\, 2{*}\\mathbin{\\color{red}2}\\end{bmatrix} = \\begin{bmatrix} -1\\\\ 3\\end{bmatrix}$ \n",
    "\n",
    "\n",
    "You expect the following value for *transformed* $\\vec{v_T}$, it will be written by NumPy as *[-1  3]*:\n",
    "    \n",
    "$\\hspace{1cm}\\textit{tranformed }\\ \\vec{v_T} = \\begin{bmatrix} -1\\\\ 3\\end{bmatrix}$\n",
    "\n",
    "### Solution Video for Matrix Multiplication   \n",
    "The solution video can be found in the **Linear Mapping Lab Solution** section. You may want to open another browser window to allow you to easily toggle between the Vector's Lab Jupyter Notebook and the solution videos for this lab.                                                                                                                       "
   ]
  }
 ],
 "metadata": {
  "kernelspec": {
   "display_name": "Python 3",
   "language": "python",
   "name": "python3"
  },
  "language_info": {
   "codemirror_mode": {
    "name": "ipython",
    "version": 3
   },
   "file_extension": ".py",
   "mimetype": "text/x-python",
   "name": "python",
   "nbconvert_exporter": "python",
   "pygments_lexer": "ipython3",
   "version": "3.6.3"
  }
 },
 "nbformat": 4,
 "nbformat_minor": 2
}
