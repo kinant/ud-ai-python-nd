{
 "cells": [
  {
   "cell_type": "markdown",
   "metadata": {
    "collapsed": true
   },
   "source": [
    "# Vectors Lab Solutions\n",
    "\n",
    "Below you will find the solutions to the Vectors Lab for:\n",
    "    \n",
    "1. Multipling a 2D vector by a scalar and plotting the results.  \n",
    "&nbsp;    \n",
    "2. Adding two 2D vectors together and plotting the results.   \n",
    "  \n",
    "    "
   ]
  },
  {
   "cell_type": "markdown",
   "metadata": {},
   "source": [
    "## TODO: Multiply Vector by Scalar and Plot Results\n",
    "For this part of the lab you will be creating vector $\\vec{av}$ and then adding to the plot as a dotted <span style=\"color:cyan; font-weight: bold\">cyan</span> colored vector.\n",
    "\n",
    "\n",
    "1. Multiply vector $\\vec{v}$ by scalar $a$ in the code below (see *__TODO 1.:__*).  \n",
    "&nbsp; \n",
    "\n",
    "2. Use the _ax.arrow(...)_ statement in the code below to add vector $\\vec{av}$ to the plot (see **__TODO 2.:__*). Adding _linestyle = 'dotted'_ and changing _color = 'c'_ in the _ax.arrow(...)_ statement will make vector $\\vec{av}$ a dotted cyan colored vector.  \n",
    "   \n"
   ]
  },
  {
   "cell_type": "code",
   "execution_count": 1,
   "metadata": {},
   "outputs": [
    {
     "data": {
      "image/png": "[encoded data removed]",
      "text/plain": [
       "<matplotlib.figure.Figure at 0x107ae1470>"
      ]
     },
     "metadata": {},
     "output_type": "display_data"
    }
   ],
   "source": [
    "# Import NumPy and Matplotlib **Only needed for running code in solutions notebook**\n",
    "%matplotlib inline\n",
    "import numpy as np\n",
    "import matplotlib.pyplot as plt\n",
    "\n",
    "# Define vector v \n",
    "v = np.array([1,1])\n",
    "\n",
    "# Define scalar a\n",
    "a = 3\n",
    "\n",
    "# DONE 1.: Define vector av - as vector v multiplied by scalar a\n",
    "av = a*v\n",
    "\n",
    "# Plots vector v as blue arrow with red dot at origin (0,0) using Matplotlib\n",
    "\n",
    "# Creates axes of plot referenced 'ax'\n",
    "ax = plt.axes()\n",
    "\n",
    "# Plots red dot at origin (0,0)\n",
    "ax.plot(0,0,'or')\n",
    "\n",
    "# Plots vector v as blue arrow starting at origin 0,0\n",
    "ax.arrow(0, 0, *v, color='b', linewidth=2.5, head_width=0.30, head_length=0.35)\n",
    "\n",
    "# DONE 2.: Plot vector av as dotted (linestyle='dotted') vector of cyan color (color='c') \n",
    "# using ax.arrow() statement above as template for the plot \n",
    "ax.arrow(0, 0, *av, color='c', linestyle='dotted', linewidth=2.5, head_width=0.30, \n",
    "         head_length=0.35)\n",
    "\n",
    "\n",
    "# Sets limit for plot for x-axis\n",
    "plt.xlim(-2, 4)\n",
    "\n",
    "# Set major ticks for x-axis\n",
    "major_xticks = np.arange(-2, 4)\n",
    "ax.set_xticks(major_xticks)\n",
    "\n",
    "\n",
    "# Sets limit for plot for y-axis\n",
    "plt.ylim(-1, 4)\n",
    "\n",
    "# Set major ticks for y-axis\n",
    "major_yticks = np.arange(-1, 4)\n",
    "ax.set_yticks(major_yticks)\n",
    "\n",
    "# Creates gridlines for only major tick marks\n",
    "plt.grid(visible=True, which='major')\n",
    "\n",
    "# Displays final plot\n",
    "plt.show()\n"
   ]
  },
  {
   "cell_type": "markdown",
   "metadata": {},
   "source": [
    "## TODO: Adding Two Vectors and Plotting Results\n",
    "For this part of the lab you will be creating vector $\\vec{vw}$ and then adding it to the plot as a thicker width **black** colored vector.\n",
    "\n",
    "\n",
    "1. Create vector $\\vec{vw}$ by adding vector $\\vec{w}$ to vector $\\vec{v}$ in the code below (see *__TODO 1.:__*).  \n",
    "&nbsp; \n",
    "\n",
    "2. Use the _ax.arrow(...)_ statement in the code below to add vector $\\vec{vw}$ to the plot (see **__TODO 2.:__*). Changing _linewidth = 3.5_ and _color = 'k'_ in the _ax.arrow(...)_ statement will make vector $\\vec{vw}$ a thicker width black colored vector.  \n",
    "   "
   ]
  },
  {
   "cell_type": "code",
   "execution_count": 2,
   "metadata": {},
   "outputs": [
    {
     "data": {
      "image/png": "[encoded data removed]",
      "text/plain": [
       "<matplotlib.figure.Figure at 0x10cf3b198>"
      ]
     },
     "metadata": {},
     "output_type": "display_data"
    }
   ],
   "source": [
    "# Define vector v \n",
    "v = np.array([1,1])\n",
    "\n",
    "# Define vector w\n",
    "w = np.array([-2,2])\n",
    "\n",
    "# DONE 1.: Define vector vw by adding vectors v and w \n",
    "vw = v + w\n",
    "\n",
    "# Plot that graphically shows vector vw (color='b') - which is the result of \n",
    "# adding vector w(dotted cyan arrow) to vector v(blue arrow) using Matplotlib\n",
    "\n",
    "# Creates axes of plot referenced 'ax'\n",
    "ax = plt.axes()\n",
    "\n",
    "# Plots red dot at origin (0,0)\n",
    "ax.plot(0,0,'or')\n",
    "\n",
    "# Plots vector v as blue arrow starting at origin 0,0\n",
    "ax.arrow(0, 0, *v, color='b', linewidth=2.5, head_width=0.30, head_length=0.35)\n",
    "\n",
    "# Plots vector w as cyan arrow with origin defined by vector v\n",
    "ax.arrow(v[0], v[1], *w, linestyle='dotted', color='c', linewidth=2.5, \n",
    "         head_width=0.30, head_length=0.35)\n",
    "\n",
    "# DONE 2.: Plot vector vw as black arrow (color='k') with 3.5 linewidth (linewidth=3.5)\n",
    "# starting vector v's origin (0,0)\n",
    "ax.arrow(0, 0, *vw, color='k', linewidth=3.5, head_width=0.30, head_length=0.35)\n",
    "\n",
    "\n",
    "# Sets limit for plot for x-axis\n",
    "plt.xlim(-3, 2)\n",
    "\n",
    "# Set major ticks for x-axis\n",
    "major_xticks = np.arange(-3, 2)\n",
    "ax.set_xticks(major_xticks)\n",
    "\n",
    "\n",
    "# Sets limit for plot for y-axis\n",
    "plt.ylim(-1, 4)\n",
    "\n",
    "# Set major ticks for y-axis\n",
    "major_yticks = np.arange(-1, 4)\n",
    "ax.set_yticks(major_yticks)\n",
    "\n",
    "# Creates gridlines for only major tick marks\n",
    "plt.grid(visible=True, which='major')\n",
    "\n",
    "# Displays final plot\n",
    "plt.show()"
   ]
  }
 ],
 "metadata": {
  "kernelspec": {
   "display_name": "Python 3",
   "language": "python",
   "name": "python3"
  },
  "language_info": {
   "codemirror_mode": {
    "name": "ipython",
    "version": 3
   },
   "file_extension": ".py",
   "mimetype": "text/x-python",
   "name": "python",
   "nbconvert_exporter": "python",
   "pygments_lexer": "ipython3",
   "version": "3.6.3"
  }
 },
 "nbformat": 4,
 "nbformat_minor": 2
}
