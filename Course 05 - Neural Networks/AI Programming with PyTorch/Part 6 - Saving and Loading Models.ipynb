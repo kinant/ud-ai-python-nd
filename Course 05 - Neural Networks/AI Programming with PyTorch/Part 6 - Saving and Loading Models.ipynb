{
 "cells": [
  {
   "cell_type": "markdown",
   "metadata": {},
   "source": [
    "# Saving and Loading Models\n",
    "\n",
    "In this notebook, I'll show you how to save and load models with PyTorch. This is important because you'll often want to load previously trained models to use in making predictions or to continue training on new data."
   ]
  },
  {
   "cell_type": "code",
   "metadata": {
    "ExecuteTime": {
     "end_time": "2025-10-20T17:13:51.570492Z",
     "start_time": "2025-10-20T17:13:49.714942Z"
    }
   },
   "source": [
    "%matplotlib inline\n",
    "%config InlineBackend.figure_format = 'retina'\n",
    "\n",
    "import matplotlib.pyplot as plt\n",
    "\n",
    "import torch\n",
    "from torch import nn\n",
    "from torch import optim\n",
    "import torch.nn.functional as F\n",
    "from torchvision import datasets, transforms\n",
    "\n",
    "import helper\n",
    "import fc_model"
   ],
   "outputs": [],
   "execution_count": 1
  },
  {
   "cell_type": "code",
   "metadata": {
    "ExecuteTime": {
     "end_time": "2025-10-20T17:13:56.687691Z",
     "start_time": "2025-10-20T17:13:56.664274Z"
    }
   },
   "source": [
    "# Define a transform to normalize the data\n",
    "transform = transforms.Compose([transforms.ToTensor(),\n",
    "                                transforms.Normalize((0.5,), (0.5,))])\n",
    "# Download and load the training data\n",
    "trainset = datasets.FashionMNIST('~/.pytorch/F_MNIST_data/', download=True, train=True, transform=transform)\n",
    "trainloader = torch.utils.data.DataLoader(trainset, batch_size=64, shuffle=True)\n",
    "\n",
    "# Download and load the test data\n",
    "testset = datasets.FashionMNIST('~/.pytorch/F_MNIST_data/', download=True, train=False, transform=transform)\n",
    "testloader = torch.utils.data.DataLoader(testset, batch_size=64, shuffle=True)"
   ],
   "outputs": [],
   "execution_count": 2
  },
  {
   "cell_type": "markdown",
   "metadata": {},
   "source": [
    "Here we can see one of the images."
   ]
  },
  {
   "cell_type": "code",
   "metadata": {
    "ExecuteTime": {
     "end_time": "2025-10-20T17:14:00.604853Z",
     "start_time": "2025-10-20T17:14:00.540856Z"
    }
   },
   "source": [
    "image, label = next(iter(trainloader))\n",
    "helper.imshow(image[0,:]);"
   ],
   "outputs": [
    {
     "data": {
      "text/plain": [
       "<Figure size 640x480 with 1 Axes>"
      ],
      "image/png": "[encoded data removed]"
     },
     "metadata": {
      "image/png": {
       "width": 389,
       "height": 389
      }
     },
     "output_type": "display_data",
     "jetTransient": {
      "display_id": null
     }
    }
   ],
   "execution_count": 3
  },
  {
   "cell_type": "markdown",
   "metadata": {},
   "source": [
    "# Train a network\n",
    "\n",
    "To make things more concise here, I moved the model architecture and training code from the last part to a file called `fc_model`. Importing this, we can easily create a fully-connected network with `fc_model.Network`, and train the network using `fc_model.train`. I'll use this model (once it's trained) to demonstrate how we can save and load models."
   ]
  },
  {
   "cell_type": "code",
   "metadata": {
    "ExecuteTime": {
     "end_time": "2025-10-20T17:16:59.582786Z",
     "start_time": "2025-10-20T17:16:59.577735Z"
    }
   },
   "source": [
    "# Create the network, define the criterion and optimizer\n",
    "\n",
    "model = fc_model.Network(784, 10, [512, 256, 128])\n",
    "criterion = nn.NLLLoss()\n",
    "optimizer = optim.Adam(model.parameters(), lr=0.001)"
   ],
   "outputs": [],
   "execution_count": 4
  },
  {
   "cell_type": "code",
   "metadata": {
    "ExecuteTime": {
     "end_time": "2025-10-20T17:17:43.107604Z",
     "start_time": "2025-10-20T17:17:02.863128Z"
    }
   },
   "source": [
    "fc_model.train(model, trainloader, testloader, criterion, optimizer, epochs=2)"
   ],
   "outputs": [
    {
     "name": "stdout",
     "output_type": "stream",
     "text": [
      "Epoch: 1/2..  Training Loss: 1.748..  Test Loss: 1.000..  Test Accuracy: 0.646\n",
      "Epoch: 1/2..  Training Loss: 1.059..  Test Loss: 0.773..  Test Accuracy: 0.687\n",
      "Epoch: 1/2..  Training Loss: 0.879..  Test Loss: 0.697..  Test Accuracy: 0.735\n",
      "Epoch: 1/2..  Training Loss: 0.811..  Test Loss: 0.643..  Test Accuracy: 0.764\n",
      "Epoch: 1/2..  Training Loss: 0.709..  Test Loss: 0.656..  Test Accuracy: 0.743\n",
      "Epoch: 1/2..  Training Loss: 0.719..  Test Loss: 0.607..  Test Accuracy: 0.773\n",
      "Epoch: 1/2..  Training Loss: 0.712..  Test Loss: 0.602..  Test Accuracy: 0.780\n",
      "Epoch: 1/2..  Training Loss: 0.632..  Test Loss: 0.560..  Test Accuracy: 0.790\n",
      "Epoch: 1/2..  Training Loss: 0.663..  Test Loss: 0.549..  Test Accuracy: 0.801\n",
      "Epoch: 1/2..  Training Loss: 0.654..  Test Loss: 0.535..  Test Accuracy: 0.800\n",
      "Epoch: 1/2..  Training Loss: 0.610..  Test Loss: 0.555..  Test Accuracy: 0.796\n",
      "Epoch: 1/2..  Training Loss: 0.621..  Test Loss: 0.519..  Test Accuracy: 0.802\n",
      "Epoch: 1/2..  Training Loss: 0.627..  Test Loss: 0.516..  Test Accuracy: 0.811\n",
      "Epoch: 1/2..  Training Loss: 0.605..  Test Loss: 0.498..  Test Accuracy: 0.814\n",
      "Epoch: 1/2..  Training Loss: 0.618..  Test Loss: 0.511..  Test Accuracy: 0.813\n",
      "Epoch: 1/2..  Training Loss: 0.587..  Test Loss: 0.502..  Test Accuracy: 0.810\n",
      "Epoch: 1/2..  Training Loss: 0.551..  Test Loss: 0.519..  Test Accuracy: 0.815\n",
      "Epoch: 1/2..  Training Loss: 0.607..  Test Loss: 0.503..  Test Accuracy: 0.817\n",
      "Epoch: 1/2..  Training Loss: 0.561..  Test Loss: 0.503..  Test Accuracy: 0.813\n",
      "Epoch: 1/2..  Training Loss: 0.598..  Test Loss: 0.492..  Test Accuracy: 0.823\n",
      "Epoch: 1/2..  Training Loss: 0.553..  Test Loss: 0.500..  Test Accuracy: 0.819\n",
      "Epoch: 1/2..  Training Loss: 0.566..  Test Loss: 0.502..  Test Accuracy: 0.815\n",
      "Epoch: 1/2..  Training Loss: 0.592..  Test Loss: 0.472..  Test Accuracy: 0.829\n",
      "Epoch: 2/2..  Training Loss: 0.546..  Test Loss: 0.497..  Test Accuracy: 0.821\n",
      "Epoch: 2/2..  Training Loss: 0.580..  Test Loss: 0.478..  Test Accuracy: 0.826\n",
      "Epoch: 2/2..  Training Loss: 0.515..  Test Loss: 0.471..  Test Accuracy: 0.828\n",
      "Epoch: 2/2..  Training Loss: 0.541..  Test Loss: 0.462..  Test Accuracy: 0.828\n",
      "Epoch: 2/2..  Training Loss: 0.578..  Test Loss: 0.483..  Test Accuracy: 0.827\n",
      "Epoch: 2/2..  Training Loss: 0.554..  Test Loss: 0.484..  Test Accuracy: 0.826\n",
      "Epoch: 2/2..  Training Loss: 0.521..  Test Loss: 0.495..  Test Accuracy: 0.817\n",
      "Epoch: 2/2..  Training Loss: 0.541..  Test Loss: 0.465..  Test Accuracy: 0.828\n",
      "Epoch: 2/2..  Training Loss: 0.528..  Test Loss: 0.455..  Test Accuracy: 0.828\n",
      "Epoch: 2/2..  Training Loss: 0.504..  Test Loss: 0.474..  Test Accuracy: 0.834\n",
      "Epoch: 2/2..  Training Loss: 0.505..  Test Loss: 0.472..  Test Accuracy: 0.829\n",
      "Epoch: 2/2..  Training Loss: 0.522..  Test Loss: 0.468..  Test Accuracy: 0.828\n",
      "Epoch: 2/2..  Training Loss: 0.518..  Test Loss: 0.452..  Test Accuracy: 0.831\n",
      "Epoch: 2/2..  Training Loss: 0.585..  Test Loss: 0.460..  Test Accuracy: 0.835\n",
      "Epoch: 2/2..  Training Loss: 0.540..  Test Loss: 0.457..  Test Accuracy: 0.832\n",
      "Epoch: 2/2..  Training Loss: 0.531..  Test Loss: 0.477..  Test Accuracy: 0.824\n",
      "Epoch: 2/2..  Training Loss: 0.517..  Test Loss: 0.465..  Test Accuracy: 0.832\n",
      "Epoch: 2/2..  Training Loss: 0.534..  Test Loss: 0.456..  Test Accuracy: 0.840\n",
      "Epoch: 2/2..  Training Loss: 0.497..  Test Loss: 0.463..  Test Accuracy: 0.833\n",
      "Epoch: 2/2..  Training Loss: 0.494..  Test Loss: 0.452..  Test Accuracy: 0.837\n",
      "Epoch: 2/2..  Training Loss: 0.546..  Test Loss: 0.456..  Test Accuracy: 0.831\n",
      "Epoch: 2/2..  Training Loss: 0.502..  Test Loss: 0.447..  Test Accuracy: 0.840\n",
      "Epoch: 2/2..  Training Loss: 0.500..  Test Loss: 0.438..  Test Accuracy: 0.840\n"
     ]
    }
   ],
   "execution_count": 5
  },
  {
   "cell_type": "markdown",
   "metadata": {},
   "source": [
    "## Saving and loading networks\n",
    "\n",
    "As you can imagine, it's impractical to train a network every time you need to use it. Instead, we can save trained networks then load them later to train more or use them for predictions.\n",
    "\n",
    "The parameters for PyTorch networks are stored in a model's `state_dict`. We can see the state dict contains the weight and bias matrices for each of our layers."
   ]
  },
  {
   "cell_type": "code",
   "metadata": {
    "ExecuteTime": {
     "end_time": "2025-10-20T17:17:53.007199Z",
     "start_time": "2025-10-20T17:17:53.003726Z"
    }
   },
   "source": [
    "print(\"Our model: \\n\\n\", model, '\\n')\n",
    "print(\"The state dict keys: \\n\\n\", model.state_dict().keys())"
   ],
   "outputs": [
    {
     "name": "stdout",
     "output_type": "stream",
     "text": [
      "Our model: \n",
      "\n",
      " Network(\n",
      "  (hidden_layers): ModuleList(\n",
      "    (0): Linear(in_features=784, out_features=512, bias=True)\n",
      "    (1): Linear(in_features=512, out_features=256, bias=True)\n",
      "    (2): Linear(in_features=256, out_features=128, bias=True)\n",
      "  )\n",
      "  (output): Linear(in_features=128, out_features=10, bias=True)\n",
      "  (dropout): Dropout(p=0.5, inplace=False)\n",
      ") \n",
      "\n",
      "The state dict keys: \n",
      "\n",
      " odict_keys(['hidden_layers.0.weight', 'hidden_layers.0.bias', 'hidden_layers.1.weight', 'hidden_layers.1.bias', 'hidden_layers.2.weight', 'hidden_layers.2.bias', 'output.weight', 'output.bias'])\n"
     ]
    }
   ],
   "execution_count": 6
  },
  {
   "cell_type": "markdown",
   "metadata": {},
   "source": [
    "The simplest thing to do is simply save the state dict with `torch.save`. For example, we can save it to a file `'checkpoint.pth'`."
   ]
  },
  {
   "cell_type": "code",
   "metadata": {
    "ExecuteTime": {
     "end_time": "2025-10-20T17:18:23.201155Z",
     "start_time": "2025-10-20T17:18:23.193157Z"
    }
   },
   "source": [
    "torch.save(model.state_dict(), 'checkpoint.pth')"
   ],
   "outputs": [],
   "execution_count": 7
  },
  {
   "cell_type": "markdown",
   "metadata": {},
   "source": [
    "Then we can load the state dict with `torch.load`."
   ]
  },
  {
   "cell_type": "code",
   "metadata": {
    "ExecuteTime": {
     "end_time": "2025-10-20T17:18:45.858243Z",
     "start_time": "2025-10-20T17:18:45.850788Z"
    }
   },
   "source": [
    "state_dict = torch.load('checkpoint.pth')\n",
    "print(state_dict.keys())"
   ],
   "outputs": [
    {
     "name": "stdout",
     "output_type": "stream",
     "text": [
      "odict_keys(['hidden_layers.0.weight', 'hidden_layers.0.bias', 'hidden_layers.1.weight', 'hidden_layers.1.bias', 'hidden_layers.2.weight', 'hidden_layers.2.bias', 'output.weight', 'output.bias'])\n"
     ]
    }
   ],
   "execution_count": 8
  },
  {
   "cell_type": "markdown",
   "metadata": {},
   "source": [
    "And to load the state dict in to the network, you do `model.load_state_dict(state_dict)`."
   ]
  },
  {
   "cell_type": "code",
   "metadata": {
    "ExecuteTime": {
     "end_time": "2025-10-20T17:19:07.234489Z",
     "start_time": "2025-10-20T17:19:07.230457Z"
    }
   },
   "source": [
    "model.load_state_dict(state_dict)"
   ],
   "outputs": [
    {
     "data": {
      "text/plain": [
       "<All keys matched successfully>"
      ]
     },
     "execution_count": 9,
     "metadata": {},
     "output_type": "execute_result"
    }
   ],
   "execution_count": 9
  },
  {
   "cell_type": "markdown",
   "metadata": {},
   "source": [
    "Seems pretty straightforward, but as usual it's a bit more complicated. Loading the state dict works only if the model architecture is exactly the same as the checkpoint architecture. If I create a model with a different architecture, this fails."
   ]
  },
  {
   "cell_type": "code",
   "metadata": {
    "ExecuteTime": {
     "end_time": "2025-10-20T17:19:25.047498Z",
     "start_time": "2025-10-20T17:19:24.914994Z"
    }
   },
   "source": [
    "# Try this\n",
    "model = fc_model.Network(784, 10, [400, 200, 100])\n",
    "# This will throw an error because the tensor sizes are wrong!\n",
    "model.load_state_dict(state_dict)"
   ],
   "outputs": [
    {
     "ename": "RuntimeError",
     "evalue": "Error(s) in loading state_dict for Network:\n\tsize mismatch for hidden_layers.0.weight: copying a param with shape torch.Size([512, 784]) from checkpoint, the shape in current model is torch.Size([400, 784]).\n\tsize mismatch for hidden_layers.0.bias: copying a param with shape torch.Size([512]) from checkpoint, the shape in current model is torch.Size([400]).\n\tsize mismatch for hidden_layers.1.weight: copying a param with shape torch.Size([256, 512]) from checkpoint, the shape in current model is torch.Size([200, 400]).\n\tsize mismatch for hidden_layers.1.bias: copying a param with shape torch.Size([256]) from checkpoint, the shape in current model is torch.Size([200]).\n\tsize mismatch for hidden_layers.2.weight: copying a param with shape torch.Size([128, 256]) from checkpoint, the shape in current model is torch.Size([100, 200]).\n\tsize mismatch for hidden_layers.2.bias: copying a param with shape torch.Size([128]) from checkpoint, the shape in current model is torch.Size([100]).\n\tsize mismatch for output.weight: copying a param with shape torch.Size([10, 128]) from checkpoint, the shape in current model is torch.Size([10, 100]).",
     "output_type": "error",
     "traceback": [
      "\u001B[31m---------------------------------------------------------------------------\u001B[39m",
      "\u001B[31mRuntimeError\u001B[39m                              Traceback (most recent call last)",
      "\u001B[36mCell\u001B[39m\u001B[36m \u001B[39m\u001B[32mIn[10]\u001B[39m\u001B[32m, line 4\u001B[39m\n\u001B[32m      2\u001B[39m model = fc_model.Network(\u001B[32m784\u001B[39m, \u001B[32m10\u001B[39m, [\u001B[32m400\u001B[39m, \u001B[32m200\u001B[39m, \u001B[32m100\u001B[39m])\n\u001B[32m      3\u001B[39m \u001B[38;5;66;03m# This will throw an error because the tensor sizes are wrong!\u001B[39;00m\n\u001B[32m----> \u001B[39m\u001B[32m4\u001B[39m \u001B[43mmodel\u001B[49m\u001B[43m.\u001B[49m\u001B[43mload_state_dict\u001B[49m\u001B[43m(\u001B[49m\u001B[43mstate_dict\u001B[49m\u001B[43m)\u001B[49m\n",
      "\u001B[36mFile \u001B[39m\u001B[32mH:\\anaconda3\\envs\\ud-ai\\Lib\\site-packages\\torch\\nn\\modules\\module.py:2629\u001B[39m, in \u001B[36mModule.load_state_dict\u001B[39m\u001B[34m(self, state_dict, strict, assign)\u001B[39m\n\u001B[32m   2621\u001B[39m         error_msgs.insert(\n\u001B[32m   2622\u001B[39m             \u001B[32m0\u001B[39m,\n\u001B[32m   2623\u001B[39m             \u001B[33m\"\u001B[39m\u001B[33mMissing key(s) in state_dict: \u001B[39m\u001B[38;5;132;01m{}\u001B[39;00m\u001B[33m. \u001B[39m\u001B[33m\"\u001B[39m.format(\n\u001B[32m   2624\u001B[39m                 \u001B[33m\"\u001B[39m\u001B[33m, \u001B[39m\u001B[33m\"\u001B[39m.join(\u001B[33mf\u001B[39m\u001B[33m'\u001B[39m\u001B[33m\"\u001B[39m\u001B[38;5;132;01m{\u001B[39;00mk\u001B[38;5;132;01m}\u001B[39;00m\u001B[33m\"\u001B[39m\u001B[33m'\u001B[39m \u001B[38;5;28;01mfor\u001B[39;00m k \u001B[38;5;129;01min\u001B[39;00m missing_keys)\n\u001B[32m   2625\u001B[39m             ),\n\u001B[32m   2626\u001B[39m         )\n\u001B[32m   2628\u001B[39m \u001B[38;5;28;01mif\u001B[39;00m \u001B[38;5;28mlen\u001B[39m(error_msgs) > \u001B[32m0\u001B[39m:\n\u001B[32m-> \u001B[39m\u001B[32m2629\u001B[39m     \u001B[38;5;28;01mraise\u001B[39;00m \u001B[38;5;167;01mRuntimeError\u001B[39;00m(\n\u001B[32m   2630\u001B[39m         \u001B[33m\"\u001B[39m\u001B[33mError(s) in loading state_dict for \u001B[39m\u001B[38;5;132;01m{}\u001B[39;00m\u001B[33m:\u001B[39m\u001B[38;5;130;01m\\n\u001B[39;00m\u001B[38;5;130;01m\\t\u001B[39;00m\u001B[38;5;132;01m{}\u001B[39;00m\u001B[33m\"\u001B[39m.format(\n\u001B[32m   2631\u001B[39m             \u001B[38;5;28mself\u001B[39m.\u001B[34m__class__\u001B[39m.\u001B[34m__name__\u001B[39m, \u001B[33m\"\u001B[39m\u001B[38;5;130;01m\\n\u001B[39;00m\u001B[38;5;130;01m\\t\u001B[39;00m\u001B[33m\"\u001B[39m.join(error_msgs)\n\u001B[32m   2632\u001B[39m         )\n\u001B[32m   2633\u001B[39m     )\n\u001B[32m   2634\u001B[39m \u001B[38;5;28;01mreturn\u001B[39;00m _IncompatibleKeys(missing_keys, unexpected_keys)\n",
      "\u001B[31mRuntimeError\u001B[39m: Error(s) in loading state_dict for Network:\n\tsize mismatch for hidden_layers.0.weight: copying a param with shape torch.Size([512, 784]) from checkpoint, the shape in current model is torch.Size([400, 784]).\n\tsize mismatch for hidden_layers.0.bias: copying a param with shape torch.Size([512]) from checkpoint, the shape in current model is torch.Size([400]).\n\tsize mismatch for hidden_layers.1.weight: copying a param with shape torch.Size([256, 512]) from checkpoint, the shape in current model is torch.Size([200, 400]).\n\tsize mismatch for hidden_layers.1.bias: copying a param with shape torch.Size([256]) from checkpoint, the shape in current model is torch.Size([200]).\n\tsize mismatch for hidden_layers.2.weight: copying a param with shape torch.Size([128, 256]) from checkpoint, the shape in current model is torch.Size([100, 200]).\n\tsize mismatch for hidden_layers.2.bias: copying a param with shape torch.Size([128]) from checkpoint, the shape in current model is torch.Size([100]).\n\tsize mismatch for output.weight: copying a param with shape torch.Size([10, 128]) from checkpoint, the shape in current model is torch.Size([10, 100])."
     ]
    }
   ],
   "execution_count": 10
  },
  {
   "cell_type": "markdown",
   "metadata": {},
   "source": [
    "This means we need to rebuild the model exactly as it was when trained. Information about the model architecture needs to be saved in the checkpoint, along with the state dict. To do this, you build a dictionary with all the information you need to compeletely rebuild the model."
   ]
  },
  {
   "cell_type": "code",
   "metadata": {
    "ExecuteTime": {
     "end_time": "2025-10-20T17:19:42.492641Z",
     "start_time": "2025-10-20T17:19:42.486926Z"
    }
   },
   "source": [
    "checkpoint = {'input_size': 784,\n",
    "              'output_size': 10,\n",
    "              'hidden_layers': [each.out_features for each in model.hidden_layers],\n",
    "              'state_dict': model.state_dict()}\n",
    "\n",
    "torch.save(checkpoint, 'checkpoint.pth')"
   ],
   "outputs": [],
   "execution_count": 11
  },
  {
   "cell_type": "markdown",
   "metadata": {},
   "source": [
    "Now the checkpoint has all the necessary information to rebuild the trained model. You can easily make that a function if you want. Similarly, we can write a function to load checkpoints. "
   ]
  },
  {
   "cell_type": "code",
   "metadata": {
    "ExecuteTime": {
     "end_time": "2025-10-20T17:19:57.623414Z",
     "start_time": "2025-10-20T17:19:57.620390Z"
    }
   },
   "source": [
    "def load_checkpoint(filepath):\n",
    "    checkpoint = torch.load(filepath)\n",
    "    model = fc_model.Network(checkpoint['input_size'],\n",
    "                             checkpoint['output_size'],\n",
    "                             checkpoint['hidden_layers'])\n",
    "    model.load_state_dict(checkpoint['state_dict'])\n",
    "    \n",
    "    return model"
   ],
   "outputs": [],
   "execution_count": 12
  },
  {
   "cell_type": "code",
   "metadata": {
    "ExecuteTime": {
     "end_time": "2025-10-20T17:20:00.858450Z",
     "start_time": "2025-10-20T17:20:00.851450Z"
    }
   },
   "source": [
    "model = load_checkpoint('checkpoint.pth')\n",
    "print(model)"
   ],
   "outputs": [
    {
     "name": "stdout",
     "output_type": "stream",
     "text": [
      "Network(\n",
      "  (hidden_layers): ModuleList(\n",
      "    (0): Linear(in_features=784, out_features=400, bias=True)\n",
      "    (1): Linear(in_features=400, out_features=200, bias=True)\n",
      "    (2): Linear(in_features=200, out_features=100, bias=True)\n",
      "  )\n",
      "  (output): Linear(in_features=100, out_features=10, bias=True)\n",
      "  (dropout): Dropout(p=0.5, inplace=False)\n",
      ")\n"
     ]
    }
   ],
   "execution_count": 13
  },
  {
   "metadata": {},
   "cell_type": "code",
   "outputs": [],
   "execution_count": null,
   "source": ""
  }
 ],
 "metadata": {
  "kernelspec": {
   "display_name": "Python 3",
   "language": "python",
   "name": "python3"
  },
  "language_info": {
   "codemirror_mode": {
    "name": "ipython",
    "version": 3
   },
   "file_extension": ".py",
   "mimetype": "text/x-python",
   "name": "python",
   "nbconvert_exporter": "python",
   "pygments_lexer": "ipython3",
   "version": "3.6.6"
  }
 },
 "nbformat": 4,
 "nbformat_minor": 2
}
