{
 "cells": [
  {
   "cell_type": "markdown",
   "metadata": {},
   "source": [
    "# Neural networks with PyTorch\n",
    "\n",
    "Deep learning networks tend to be massive with dozens or hundreds of layers, that's where the term \"deep\" comes from. You can build one of these deep networks using only weight matrices as we did in the previous notebook, but in general it's very cumbersome and difficult to implement. PyTorch has a nice module `nn` that provides a nice way to efficiently build large neural networks."
   ]
  },
  {
   "cell_type": "code",
   "metadata": {
    "collapsed": true,
    "ExecuteTime": {
     "end_time": "2025-10-17T14:01:20.092048Z",
     "start_time": "2025-10-17T14:01:16.986673Z"
    }
   },
   "source": [
    "# Import necessary packages\n",
    "\n",
    "%matplotlib inline\n",
    "%config InlineBackend.figure_format = 'retina'\n",
    "\n",
    "import numpy as np\n",
    "import torch\n",
    "\n",
    "import helper\n",
    "\n",
    "import matplotlib.pyplot as plt"
   ],
   "outputs": [],
   "execution_count": 1
  },
  {
   "cell_type": "markdown",
   "metadata": {},
   "source": [
    "\n",
    "Now we're going to build a larger network that can solve a (formerly) difficult problem, identifying text in an image. Here we'll use the MNIST dataset which consists of greyscale handwritten digits. Each image is 28x28 pixels, you can see a sample below\n",
    "\n",
    "<img src='assets/mnist.png'>\n",
    "\n",
    "Our goal is to build a neural network that can take one of these images and predict the digit in the image.\n",
    "\n",
    "First up, we need to get our dataset. This is provided through the `torchvision` package. The code below will download the MNIST dataset, then create training and test datasets for us. Don't worry too much about the details here, you'll learn more about this later."
   ]
  },
  {
   "cell_type": "code",
   "metadata": {
    "ExecuteTime": {
     "end_time": "2025-10-17T14:01:24.267664Z",
     "start_time": "2025-10-17T14:01:24.227052Z"
    }
   },
   "source": [
    "# The MNIST datasets are hosted on yann.lecun.com that has moved under CloudFlare protection\n",
    "# Run this script to enable the datasets download\n",
    "# Reference: https://github.com/pytorch/vision/issues/1938\n",
    "\n",
    "from six.moves import urllib\n",
    "opener = urllib.request.build_opener()\n",
    "opener.addheaders = [('User-agent', 'Mozilla/5.0')]\n",
    "urllib.request.install_opener(opener)"
   ],
   "outputs": [],
   "execution_count": 2
  },
  {
   "cell_type": "code",
   "metadata": {
    "collapsed": true,
    "ExecuteTime": {
     "end_time": "2025-10-17T14:01:27.425011Z",
     "start_time": "2025-10-17T14:01:25.482016Z"
    }
   },
   "source": [
    "### Run this cell\n",
    "\n",
    "from torchvision import datasets, transforms\n",
    "\n",
    "# Define a transform to normalize the data\n",
    "transform = transforms.Compose([transforms.ToTensor(),\n",
    "                              transforms.Normalize((0.5,), (0.5,)),\n",
    "                              ])\n",
    "\n",
    "# Download and load the training data\n",
    "trainset = datasets.MNIST('~/.pytorch/MNIST_data/', download=True, train=True, transform=transform)\n",
    "trainloader = torch.utils.data.DataLoader(trainset, batch_size=64, shuffle=True)"
   ],
   "outputs": [],
   "execution_count": 3
  },
  {
   "cell_type": "markdown",
   "metadata": {},
   "source": [
    "We have the training data loaded into `trainloader` and we make that an iterator with `iter(trainloader)`. Later, we'll use this to loop through the dataset for training, like\n",
    "\n",
    "```python\n",
    "for image, label in trainloader:\n",
    "    ## do things with images and labels\n",
    "```\n",
    "\n",
    "You'll notice I created the `trainloader` with a batch size of 64, and `shuffle=True`. The batch size is the number of images we get in one iteration from the data loader and pass through our network, often called a *batch*. And `shuffle=True` tells it to shuffle the dataset every time we start going through the data loader again. But here I'm just grabbing the first batch so we can check out the data. We can see below that `images` is just a tensor with size `(64, 1, 28, 28)`. So, 64 images per batch, 1 color channel, and 28x28 images."
   ]
  },
  {
   "metadata": {
    "ExecuteTime": {
     "end_time": "2025-10-17T14:01:29.144621Z",
     "start_time": "2025-10-17T14:01:29.117115Z"
    }
   },
   "cell_type": "code",
   "source": [
    "dataiter = iter(trainloader)\n",
    "images, labels = next(dataiter)\n",
    "print(type(images))\n",
    "print(images.shape)\n",
    "print(labels.shape)"
   ],
   "outputs": [
    {
     "name": "stdout",
     "output_type": "stream",
     "text": [
      "<class 'torch.Tensor'>\n",
      "torch.Size([64, 1, 28, 28])\n",
      "torch.Size([64])\n"
     ]
    }
   ],
   "execution_count": 4
  },
  {
   "cell_type": "markdown",
   "metadata": {},
   "source": [
    "This is what one of the images looks like. "
   ]
  },
  {
   "cell_type": "code",
   "metadata": {
    "collapsed": true,
    "ExecuteTime": {
     "end_time": "2025-10-17T14:01:37.605883Z",
     "start_time": "2025-10-17T14:01:37.355226Z"
    }
   },
   "source": [
    "plt.imshow(images[1].numpy().squeeze(), cmap='Greys_r');"
   ],
   "outputs": [
    {
     "data": {
      "text/plain": [
       "<Figure size 640x480 with 1 Axes>"
      ],
      "image/png": "[encoded data removed]"
     },
     "metadata": {
      "image/png": {
       "width": 416,
       "height": 413
      }
     },
     "output_type": "display_data",
     "jetTransient": {
      "display_id": null
     }
    }
   ],
   "execution_count": 5
  },
  {
   "cell_type": "markdown",
   "metadata": {},
   "source": [
    "First, let's try to build a simple network for this dataset using weight matrices and matrix multiplications. Then, we'll see how to do it using PyTorch's `nn` module which provides a much more convenient and powerful method for defining network architectures.\n",
    "\n",
    "The networks you've seen so far are called *fully-connected* or *dense* networks. Each unit in one layer is connected to each unit in the next layer. In fully-connected networks, the input to each layer must be a one-dimensional vector (which can be stacked into a 2D tensor as a batch of multiple examples). However, our images are 28x28 2D tensors, so we need to convert them into 1D vectors. Thinking about sizes, we need to convert the batch of images with shape `(64, 1, 28, 28)` to a have a shape of `(64, 784)`, 784 is 28 times 28. This is typically called *flattening*, we flattened the 2D images into 1D vectors.\n",
    "\n",
    "Previously you built a network with one output unit. Here we need 10 output units, one for each digit. We want our network to predict the digit shown in an image, so what we'll do is calculate probabilities that the image is of any one digit or class. This ends up being a discrete probability distribution over the classes (digits) that tells us the most likely class for the image. That means we need 10 output units for the 10 classes (digits). We'll see how to convert the network output into a probability distribution next.\n",
    "\n",
    "> **Exercise:** Flatten the batch of images `images`. Then build a multi-layer network with 784 input units, 256 hidden units, and 10 output units using random tensors for the weights and biases. For now, use a sigmoid activation for the hidden layer. Leave the output layer without an activation, we'll add one that gives us a probability distribution next."
   ]
  },
  {
   "metadata": {
    "ExecuteTime": {
     "end_time": "2025-10-17T14:01:40.719359Z",
     "start_time": "2025-10-17T14:01:40.715052Z"
    }
   },
   "cell_type": "code",
   "source": [
    "def activation(x):\n",
    "    \"\"\" Sigmoid activation function\n",
    "\n",
    "        Arguments\n",
    "        ---------\n",
    "        x: torch.Tensor\n",
    "    \"\"\"\n",
    "    return 1/(1+torch.exp(-x))"
   ],
   "outputs": [],
   "execution_count": 6
  },
  {
   "metadata": {
    "ExecuteTime": {
     "end_time": "2025-10-17T14:15:52.350464Z",
     "start_time": "2025-10-17T14:15:52.329578Z"
    }
   },
   "cell_type": "code",
   "source": [
    "## Your solution\n",
    "torch.manual_seed(7)\n",
    "\n",
    "print(f\"Images Shape before flattening: {images.shape}\")\n",
    "inputs = images.view(images.shape[0], (images.shape[1]*images.shape[2]*images.shape[3]))\n",
    "print(f\"Inputs Shape after flattening: {inputs.shape}\")\n",
    "\n",
    "n_input = inputs.shape[1]   # Number of input units\n",
    "n_hidden = 256              # Number of hidden units\n",
    "n_outputs = 10              # Number of output units\n",
    "\n",
    "# Weights for inputs to hidden layer\n",
    "W1 = torch.randn(n_input, n_hidden)\n",
    "# Weights for hidden layer to output layer\n",
    "W2 = torch.randn(n_hidden, n_outputs)\n",
    "\n",
    "print(f\"W1 Shape: {W1.shape}\")\n",
    "print(f\"W2 Shape: {W2.shape}\")\n",
    "\n",
    "# Bias terms for hidden and output layers\n",
    "B1 = torch.randn((1, n_hidden))\n",
    "B2 = torch.randn((1, n_outputs))\n",
    "\n",
    "h = activation(torch.mm(inputs, W1) + B1)\n",
    "out = activation(torch.mm(h, W2) + B2)\n",
    "\n",
    "print(f\"Output: {output}\")\n",
    "print(f\"Output Shape: {output.shape}\")"
   ],
   "outputs": [
    {
     "name": "stdout",
     "output_type": "stream",
     "text": [
      "Images Shape before flattening: torch.Size([64, 1, 28, 28])\n",
      "Inputs Shape after flattening: torch.Size([64, 784])\n",
      "W1 Shape: torch.Size([784, 256])\n",
      "W2 Shape: torch.Size([256, 10])\n",
      "Output: tensor([[1.0548e-05, 3.4564e-05, 6.6320e-01, 9.4565e-05, 9.9999e-01, 9.9770e-01,\n",
      "         1.4321e-05, 7.8897e-03, 4.1157e-04, 7.8860e-03],\n",
      "        [7.2397e-08, 3.5109e-02, 4.7127e-03, 3.6692e-04, 9.9998e-01, 9.9996e-01,\n",
      "         1.7468e-08, 8.5724e-01, 3.4821e-06, 9.0512e-01],\n",
      "        [1.4698e-07, 9.4078e-03, 9.6464e-02, 1.5032e-06, 9.9979e-01, 9.6967e-01,\n",
      "         4.2322e-02, 9.9701e-01, 5.9282e-03, 1.6511e-03],\n",
      "        [1.4969e-09, 5.5800e-02, 9.9864e-01, 7.3732e-03, 3.6601e-04, 9.5367e-01,\n",
      "         1.9373e-01, 5.5760e-01, 1.1488e-04, 2.6706e-01],\n",
      "        [5.6912e-06, 2.1324e-06, 1.5673e-05, 6.0504e-04, 9.9999e-01, 9.9877e-01,\n",
      "         3.7573e-01, 7.0189e-01, 1.8331e-06, 6.9923e-04],\n",
      "        [1.4518e-05, 1.4874e-04, 1.6113e-02, 3.4832e-05, 1.0000e+00, 3.9699e-01,\n",
      "         1.5442e-06, 5.7262e-01, 2.7071e-06, 1.6643e-02],\n",
      "        [1.0859e-08, 5.7848e-05, 1.6862e-04, 9.7574e-03, 9.9925e-01, 9.9999e-01,\n",
      "         7.4650e-02, 1.3075e-04, 1.1062e-06, 7.6794e-01],\n",
      "        [1.4321e-05, 2.0371e-05, 2.2815e-01, 2.1236e-05, 9.9974e-01, 1.0000e+00,\n",
      "         1.3232e-04, 9.4216e-01, 2.7722e-03, 7.1506e-08],\n",
      "        [8.1893e-06, 2.1863e-02, 1.1398e-01, 5.9617e-03, 9.9242e-01, 7.0243e-01,\n",
      "         7.6469e-08, 9.9370e-01, 1.1711e-06, 6.6052e-05],\n",
      "        [1.6867e-06, 3.8334e-03, 9.5590e-01, 8.2408e-03, 9.9982e-01, 9.9937e-01,\n",
      "         7.4196e-04, 9.4694e-01, 4.4926e-03, 8.9482e-01],\n",
      "        [1.1667e-06, 1.8175e-03, 5.5173e-02, 2.9125e-05, 9.9932e-01, 1.4374e-01,\n",
      "         2.1582e-06, 1.1224e-02, 2.5324e-06, 3.8204e-01],\n",
      "        [2.6751e-06, 6.7053e-03, 1.0969e-01, 6.7392e-05, 9.9515e-01, 9.9921e-01,\n",
      "         4.1278e-06, 9.8330e-01, 4.5882e-03, 6.9810e-05],\n",
      "        [8.0545e-08, 1.9789e-03, 9.5776e-03, 2.3392e-02, 9.9998e-01, 9.3281e-01,\n",
      "         2.8751e-02, 3.8062e-01, 5.7189e-06, 6.7666e-01],\n",
      "        [6.7993e-06, 1.5395e-03, 3.6242e-02, 1.0303e-04, 9.9989e-01, 9.9982e-01,\n",
      "         9.7722e-01, 9.5615e-01, 5.8218e-06, 2.7667e-04],\n",
      "        [2.1043e-04, 2.2659e-02, 1.7261e-03, 2.1523e-01, 1.0000e+00, 9.9977e-01,\n",
      "         1.3697e-03, 4.5871e-01, 3.1780e-07, 5.5423e-06],\n",
      "        [3.0253e-05, 1.3875e-02, 9.4435e-01, 1.1122e-02, 9.7468e-01, 9.9967e-01,\n",
      "         5.0843e-03, 5.8103e-01, 5.8481e-06, 2.8804e-02],\n",
      "        [4.4148e-12, 1.8487e-03, 1.8349e-02, 7.9682e-10, 8.8883e-01, 9.9977e-01,\n",
      "         7.1335e-04, 4.6612e-02, 6.1530e-10, 9.7578e-01],\n",
      "        [4.3603e-05, 2.1990e-04, 4.2239e-03, 1.1387e-07, 8.4850e-01, 9.9381e-01,\n",
      "         4.2277e-06, 2.2955e-02, 1.5992e-03, 3.8225e-01],\n",
      "        [1.2590e-06, 6.4136e-07, 8.9909e-01, 2.7199e-04, 9.9909e-01, 9.9878e-01,\n",
      "         1.7226e-04, 4.4630e-01, 1.1840e-08, 2.3184e-06],\n",
      "        [4.1601e-04, 1.3114e-08, 7.2805e-06, 3.2847e-06, 9.9924e-01, 9.9998e-01,\n",
      "         9.4171e-01, 6.5360e-01, 4.5955e-07, 2.0138e-07],\n",
      "        [2.4677e-08, 1.9888e-02, 9.5464e-01, 2.4632e-03, 9.9985e-01, 9.9849e-01,\n",
      "         8.4057e-01, 8.9042e-01, 5.2277e-06, 6.4305e-04],\n",
      "        [4.3244e-10, 1.0202e-03, 6.1217e-01, 2.1858e-08, 9.9999e-01, 9.8136e-01,\n",
      "         9.7461e-01, 1.0000e+00, 1.2311e-03, 2.6335e-03],\n",
      "        [2.8813e-06, 1.0395e-02, 1.0990e-01, 2.9827e-06, 9.9997e-01, 9.9978e-01,\n",
      "         6.9761e-01, 9.9999e-01, 4.7378e-06, 4.3638e-02],\n",
      "        [8.1139e-06, 1.3951e-03, 9.4268e-06, 8.8990e-07, 3.5482e-01, 1.0000e+00,\n",
      "         1.3782e-07, 6.1578e-02, 2.7989e-07, 6.2193e-01],\n",
      "        [5.7054e-06, 8.0940e-06, 2.7352e-02, 9.8306e-01, 9.9999e-01, 9.9960e-01,\n",
      "         7.6189e-07, 1.0000e+00, 1.4450e-07, 2.4769e-04],\n",
      "        [1.4332e-09, 1.0398e-02, 8.4678e-01, 9.4735e-01, 1.0000e+00, 9.9999e-01,\n",
      "         5.4586e-08, 9.8693e-01, 2.6684e-05, 2.1416e-03],\n",
      "        [1.9326e-01, 3.2658e-07, 9.9976e-01, 2.4629e-05, 2.6556e-02, 9.9988e-01,\n",
      "         8.4722e-04, 9.9687e-01, 7.3885e-06, 1.1774e-01],\n",
      "        [1.6557e-05, 1.8760e-05, 5.0524e-01, 8.5251e-02, 9.9157e-01, 1.0000e+00,\n",
      "         9.9198e-01, 7.7240e-02, 1.7664e-08, 4.6265e-02],\n",
      "        [5.1907e-05, 3.9321e-07, 1.2857e-03, 1.2486e-06, 9.9998e-01, 9.9846e-01,\n",
      "         9.9999e-01, 9.9976e-01, 8.2160e-08, 5.1411e-03],\n",
      "        [2.2466e-06, 8.5233e-03, 1.7931e-03, 1.1944e-06, 8.7839e-01, 9.7023e-01,\n",
      "         2.3727e-02, 4.9565e-03, 8.8898e-08, 9.9239e-01],\n",
      "        [5.3679e-06, 8.4689e-02, 9.7295e-01, 1.3931e-05, 9.9983e-01, 9.9999e-01,\n",
      "         7.6297e-05, 8.9932e-01, 2.0768e-09, 6.2904e-03],\n",
      "        [3.5655e-08, 1.9592e-03, 9.7371e-01, 4.6063e-05, 9.5929e-01, 4.1648e-01,\n",
      "         1.9594e-03, 2.9924e-01, 5.6837e-04, 1.6231e-01],\n",
      "        [1.3173e-09, 1.0391e-04, 2.7783e-03, 1.1709e-06, 9.2092e-02, 9.9995e-01,\n",
      "         1.0145e-01, 1.0633e-03, 2.9704e-09, 1.4423e-04],\n",
      "        [1.9150e-07, 8.0058e-01, 9.8864e-01, 9.1125e-06, 6.6979e-02, 9.9988e-01,\n",
      "         2.9540e-02, 1.2492e-03, 1.2751e-09, 2.0715e-01],\n",
      "        [2.3281e-09, 6.5651e-09, 5.1367e-01, 9.9439e-07, 9.9478e-01, 9.9995e-01,\n",
      "         1.0005e-02, 9.4725e-01, 8.1162e-09, 9.5712e-01],\n",
      "        [3.4643e-03, 2.8765e-07, 3.4343e-05, 8.6923e-01, 1.0000e+00, 1.0000e+00,\n",
      "         7.2423e-02, 9.1665e-01, 1.1632e-09, 1.7117e-01],\n",
      "        [1.1933e-09, 2.3940e-04, 9.3242e-01, 2.3574e-06, 9.9930e-01, 8.7721e-01,\n",
      "         2.1684e-06, 4.4823e-04, 4.3085e-05, 1.3482e-01],\n",
      "        [4.6960e-08, 6.7460e-05, 5.6908e-03, 1.0065e-06, 9.9979e-01, 9.9592e-01,\n",
      "         8.4028e-01, 9.9999e-01, 2.0566e-05, 1.4798e-02],\n",
      "        [2.2777e-02, 2.2920e-03, 9.9926e-01, 1.6464e-05, 9.5551e-02, 5.0579e-01,\n",
      "         2.3304e-03, 1.0603e-02, 6.5187e-05, 9.7147e-03],\n",
      "        [7.5754e-07, 1.9756e-03, 9.2915e-01, 1.7956e-03, 9.9928e-01, 9.5814e-01,\n",
      "         3.2639e-03, 9.9558e-01, 2.1254e-04, 8.5600e-02],\n",
      "        [1.6170e-07, 7.7688e-08, 1.4767e-01, 2.6875e-03, 9.0555e-01, 1.0000e+00,\n",
      "         9.9301e-01, 9.1604e-02, 1.5035e-08, 2.1818e-01],\n",
      "        [2.8633e-08, 2.1379e-02, 5.3461e-02, 6.3129e-04, 9.9987e-01, 9.9205e-01,\n",
      "         9.6207e-01, 1.0765e-02, 7.2857e-04, 1.2845e-03],\n",
      "        [2.8986e-01, 1.2558e-03, 1.3332e-01, 7.7355e-07, 6.6424e-01, 9.9576e-01,\n",
      "         1.9446e-03, 4.6805e-03, 3.6676e-07, 1.4539e-01],\n",
      "        [1.2760e-06, 5.8307e-03, 4.2441e-02, 9.0646e-08, 9.9888e-01, 9.8755e-01,\n",
      "         1.7535e-02, 9.9995e-01, 2.3791e-06, 2.4613e-04],\n",
      "        [3.2601e-07, 4.5416e-02, 7.3171e-01, 7.8993e-04, 1.0000e+00, 5.2408e-01,\n",
      "         1.5529e-04, 5.1227e-01, 4.2137e-07, 2.9443e-03],\n",
      "        [2.5725e-09, 3.1309e-04, 5.2760e-01, 1.0325e-06, 9.9998e-01, 1.0000e+00,\n",
      "         3.3246e-07, 9.9989e-01, 1.1309e-06, 7.0165e-01],\n",
      "        [9.4487e-09, 1.5519e-02, 9.6816e-01, 4.7737e-05, 1.0000e+00, 1.0000e+00,\n",
      "         9.1561e-04, 9.9998e-01, 3.4525e-06, 6.4289e-04],\n",
      "        [6.5997e-05, 2.6257e-02, 2.0981e-02, 2.4722e-03, 9.9999e-01, 9.9609e-01,\n",
      "         3.3682e-03, 8.6667e-01, 3.0408e-05, 1.5348e-02],\n",
      "        [4.3315e-11, 4.1676e-01, 6.2396e-01, 7.6768e-02, 9.9999e-01, 9.9967e-01,\n",
      "         4.8544e-05, 3.0501e-01, 1.9261e-04, 7.8787e-01],\n",
      "        [1.7741e-06, 3.1599e-06, 5.7428e-01, 6.9018e-01, 9.3871e-01, 1.0000e+00,\n",
      "         6.9971e-01, 1.3825e-02, 2.9604e-07, 9.9988e-01],\n",
      "        [9.7039e-08, 2.7738e-05, 7.3311e-01, 1.8705e-05, 5.7838e-01, 9.9959e-01,\n",
      "         2.4156e-04, 9.9142e-01, 3.2711e-07, 2.8761e-01],\n",
      "        [1.3096e-10, 6.0542e-01, 9.9841e-01, 5.5185e-01, 9.9992e-01, 9.8999e-01,\n",
      "         6.0021e-03, 1.3350e-02, 9.9403e-01, 2.4521e-01],\n",
      "        [6.8088e-08, 9.9572e-06, 2.6351e-01, 4.8117e-06, 9.9811e-01, 1.0000e+00,\n",
      "         8.7074e-03, 9.8557e-01, 1.7034e-07, 1.1046e-02],\n",
      "        [4.9326e-06, 3.4956e-05, 9.7944e-01, 2.8438e-06, 1.0000e+00, 9.9999e-01,\n",
      "         6.8914e-02, 9.9997e-01, 1.6683e-06, 9.9063e-01],\n",
      "        [8.0866e-12, 2.1532e-04, 9.6508e-01, 6.9199e-06, 9.4722e-01, 2.8908e-01,\n",
      "         5.2638e-08, 1.4272e-01, 4.2716e-05, 5.8524e-01],\n",
      "        [1.5481e-05, 5.3752e-05, 8.8019e-01, 2.4555e-07, 9.9829e-01, 9.9437e-01,\n",
      "         1.9488e-03, 9.8015e-01, 6.9784e-04, 8.1325e-02],\n",
      "        [6.9971e-06, 7.1524e-03, 9.4493e-01, 4.6808e-02, 1.0000e+00, 9.9605e-01,\n",
      "         4.9545e-07, 5.0651e-01, 4.8618e-06, 8.9479e-04],\n",
      "        [2.4908e-05, 2.4329e-05, 3.0998e-02, 1.7513e-08, 9.9669e-01, 9.9235e-01,\n",
      "         7.6989e-03, 7.3391e-01, 3.2291e-06, 5.4768e-04],\n",
      "        [6.0532e-10, 9.6982e-01, 8.6656e-01, 1.0685e-02, 1.0000e+00, 9.9785e-01,\n",
      "         6.0508e-05, 9.1230e-01, 3.5395e-04, 2.6850e-02],\n",
      "        [3.0441e-08, 1.4998e-07, 1.9469e-01, 4.6946e-07, 9.9976e-01, 1.0000e+00,\n",
      "         5.8554e-05, 9.4432e-01, 8.6095e-06, 8.3696e-01],\n",
      "        [3.3493e-07, 3.0913e-07, 2.7740e-06, 1.3828e-06, 9.9996e-01, 1.0000e+00,\n",
      "         2.7354e-06, 9.8067e-01, 5.2206e-06, 4.2209e-05],\n",
      "        [3.8764e-06, 4.0146e-06, 3.5162e-01, 2.2468e-05, 9.9996e-01, 8.8441e-01,\n",
      "         3.9712e-02, 8.0489e-01, 1.3456e-04, 1.7526e-05],\n",
      "        [3.2154e-07, 2.4330e-04, 6.4986e-01, 1.4574e-04, 9.9922e-01, 9.8609e-01,\n",
      "         8.2050e-03, 8.7613e-01, 2.3882e-06, 5.1981e-03],\n",
      "        [5.2598e-05, 3.1835e-05, 9.2594e-01, 9.4128e-07, 9.9983e-01, 9.9994e-01,\n",
      "         9.9957e-01, 9.9702e-01, 5.7145e-10, 9.8042e-01]])\n",
      "Output Shape: torch.Size([64, 10])\n"
     ]
    }
   ],
   "execution_count": 14
  },
  {
   "metadata": {},
   "cell_type": "markdown",
   "source": [
    "Now we have 10 outputs for our network. We want to pass in an image to our network and get out a probability distribution over the classes that tells us the likely class(es) the image belongs to. Something that looks like this:\n",
    "<img src='assets/image_distribution.png' width=500px>\n",
    "\n",
    "Here we see that the probability for each class is roughly the same. This is representing an untrained network, it hasn't seen any data yet so it just returns a uniform distribution with equal probabilities for each class.\n",
    "\n",
    "To calculate this probability distribution, we often use the [**softmax** function](https://en.wikipedia.org/wiki/Softmax_function). Mathematically this looks like\n",
    "\n",
    "$$\n",
    "\\Large \\sigma(x_i) = \\cfrac{e^{x_i}}{\\sum_k^K{e^{x_k}}}\n",
    "$$\n",
    "\n",
    "What this does is squish each input $x_i$ between 0 and 1 and normalizes the values to give you a proper probability distribution where the probabilites sum up to one.\n",
    "\n",
    "> **Exercise:** Implement a function `softmax` that performs the softmax calculation and returns probability distributions for each example in the batch. Note that you'll need to pay attention to the shapes when doing this. If you have a tensor `a` with shape `(64, 10)` and a tensor `b` with shape `(64,)`, doing `a/b` will give you an error because PyTorch will try to do the division across the columns (called broadcasting) but you'll get a size mismatch. The way to think about this is for each of the 64 examples, you only want to divide by one value, the sum in the denominator. So you need `b` to have a shape of `(64, 1)`. This way PyTorch will divide the 10 values in each row of `a` by the one value in each row of `b`. Pay attention to how you take the sum as well. You'll need to define the `dim` keyword in `torch.sum`. Setting `dim=0` takes the sum across the rows while `dim=1` takes the sum across the columns."
   ]
  },
  {
   "metadata": {
    "ExecuteTime": {
     "end_time": "2025-10-17T14:19:56.810437Z",
     "start_time": "2025-10-17T14:19:56.802932Z"
    }
   },
   "cell_type": "code",
   "source": [
    "def softmax(x):\n",
    "    ## TODO: Implement the softmax function here\n",
    "    a = torch.exp(x)\n",
    "    b = torch.sum(torch.exp(x), dim=1)\n",
    "    print(f\"a shape: {a.shape}\")\n",
    "    print(f\"b shape: {b.view(b.shape[0], 1).shape}\")\n",
    "    return a / b.view(b.shape[0], 1)\n",
    "\n",
    "# Here, out should be the output of the network in the previous excercise with shape (64,10)\n",
    "probabilities = softmax(out)\n",
    "\n",
    "# Does it have the right shape? Should be (64, 10)\n",
    "print(probabilities.shape)\n",
    "# Does it sum to 1?\n",
    "print(probabilities.sum(dim=1))"
   ],
   "outputs": [
    {
     "name": "stdout",
     "output_type": "stream",
     "text": [
      "a shape: torch.Size([64, 10])\n",
      "b shape: torch.Size([64, 1])\n",
      "torch.Size([64, 10])\n",
      "tensor([1.0000, 1.0000, 1.0000, 1.0000, 1.0000, 1.0000, 1.0000, 1.0000, 1.0000,\n",
      "        1.0000, 1.0000, 1.0000, 1.0000, 1.0000, 1.0000, 1.0000, 1.0000, 1.0000,\n",
      "        1.0000, 1.0000, 1.0000, 1.0000, 1.0000, 1.0000, 1.0000, 1.0000, 1.0000,\n",
      "        1.0000, 1.0000, 1.0000, 1.0000, 1.0000, 1.0000, 1.0000, 1.0000, 1.0000,\n",
      "        1.0000, 1.0000, 1.0000, 1.0000, 1.0000, 1.0000, 1.0000, 1.0000, 1.0000,\n",
      "        1.0000, 1.0000, 1.0000, 1.0000, 1.0000, 1.0000, 1.0000, 1.0000, 1.0000,\n",
      "        1.0000, 1.0000, 1.0000, 1.0000, 1.0000, 1.0000, 1.0000, 1.0000, 1.0000,\n",
      "        1.0000])\n"
     ]
    }
   ],
   "execution_count": 18
  },
  {
   "cell_type": "markdown",
   "metadata": {},
   "source": [
    "## Building networks with PyTorch\n",
    "\n",
    "PyTorch provides a module `nn` that makes building networks much simpler. Here I'll show you how to build the same one as above with 784 inputs, 256 hidden units, 10 output units and a softmax output."
   ]
  },
  {
   "cell_type": "code",
   "metadata": {
    "collapsed": true,
    "ExecuteTime": {
     "end_time": "2025-10-17T14:20:25.132858Z",
     "start_time": "2025-10-17T14:20:25.129375Z"
    }
   },
   "source": [
    "from torch import nn"
   ],
   "outputs": [],
   "execution_count": 19
  },
  {
   "cell_type": "code",
   "metadata": {
    "collapsed": true,
    "ExecuteTime": {
     "end_time": "2025-10-17T14:20:45.648240Z",
     "start_time": "2025-10-17T14:20:45.642239Z"
    }
   },
   "source": [
    "class Network(nn.Module):\n",
    "    def __init__(self):\n",
    "        super().__init__()\n",
    "        \n",
    "        # Inputs to hidden layer linear transformation\n",
    "        self.hidden = nn.Linear(784, 256)\n",
    "        # Output layer, 10 units - one for each digit\n",
    "        self.output = nn.Linear(256, 10)\n",
    "        \n",
    "        # Define sigmoid activation and softmax output \n",
    "        self.sigmoid = nn.Sigmoid()\n",
    "        self.softmax = nn.Softmax(dim=1)\n",
    "        \n",
    "    def forward(self, x):\n",
    "        # Pass the input tensor through each of our operations\n",
    "        x = self.hidden(x)\n",
    "        x = self.sigmoid(x)\n",
    "        x = self.output(x)\n",
    "        x = self.softmax(x)\n",
    "        \n",
    "        return x"
   ],
   "outputs": [],
   "execution_count": 20
  },
  {
   "cell_type": "markdown",
   "metadata": {},
   "source": [
    "Let's go through this bit by bit.\n",
    "\n",
    "```python\n",
    "class Network(nn.Module):\n",
    "```\n",
    "\n",
    "Here we're inheriting from `nn.Module`. Combined with `super().__init__()` this creates a class that tracks the architecture and provides a lot of useful methods and attributes. It is mandatory to inherit from `nn.Module` when you're creating a class for your network. The name of the class itself can be anything.\n",
    "\n",
    "```python\n",
    "self.hidden = nn.Linear(784, 256)\n",
    "```\n",
    "\n",
    "This line creates a module for a linear transformation, $x\\mathbf{W} + b$, with 784 inputs and 256 outputs and assigns it to `self.hidden`. The module automatically creates the weight and bias tensors which we'll use in the `forward` method. You can access the weight and bias tensors once the network (`net`) is created with `net.hidden.weight` and `net.hidden.bias`.\n",
    "\n",
    "```python\n",
    "self.output = nn.Linear(256, 10)\n",
    "```\n",
    "\n",
    "Similarly, this creates another linear transformation with 256 inputs and 10 outputs.\n",
    "\n",
    "```python\n",
    "self.sigmoid = nn.Sigmoid()\n",
    "self.softmax = nn.Softmax(dim=1)\n",
    "```\n",
    "\n",
    "Here I defined operations for the sigmoid activation and softmax output. Setting `dim=1` in `nn.Softmax(dim=1)` calculates softmax across the columns.\n",
    "\n",
    "```python\n",
    "def forward(self, x):\n",
    "```\n",
    "\n",
    "PyTorch networks created with `nn.Module` must have a `forward` method defined. It takes in a tensor `x` and passes it through the operations you defined in the `__init__` method.\n",
    "\n",
    "```python\n",
    "x = self.hidden(x)\n",
    "x = self.sigmoid(x)\n",
    "x = self.output(x)\n",
    "x = self.softmax(x)\n",
    "```\n",
    "\n",
    "Here the input tensor `x` is passed through each operation and reassigned to `x`. We can see that the input tensor goes through the hidden layer, then a sigmoid function, then the output layer, and finally the softmax function. It doesn't matter what you name the variables here, as long as the inputs and outputs of the operations match the network architecture you want to build. The order in which you define things in the `__init__` method doesn't matter, but you'll need to sequence the operations correctly in the `forward` method.\n",
    "\n",
    "Now we can create a `Network` object."
   ]
  },
  {
   "cell_type": "code",
   "metadata": {
    "collapsed": true,
    "ExecuteTime": {
     "end_time": "2025-10-17T14:23:14.296440Z",
     "start_time": "2025-10-17T14:23:14.288051Z"
    }
   },
   "source": [
    "# Create the network and look at it's text representation\n",
    "model = Network()\n",
    "model"
   ],
   "outputs": [
    {
     "data": {
      "text/plain": [
       "Network(\n",
       "  (hidden): Linear(in_features=784, out_features=256, bias=True)\n",
       "  (output): Linear(in_features=256, out_features=10, bias=True)\n",
       "  (sigmoid): Sigmoid()\n",
       "  (softmax): Softmax(dim=1)\n",
       ")"
      ]
     },
     "execution_count": 21,
     "metadata": {},
     "output_type": "execute_result"
    }
   ],
   "execution_count": 21
  },
  {
   "cell_type": "markdown",
   "metadata": {},
   "source": [
    "You can define the network somewhat more concisely and clearly using the `torch.nn.functional` module. This is the most common way you'll see networks defined as many operations are simple element-wise functions. We normally import this module as `F`, `import torch.nn.functional as F`."
   ]
  },
  {
   "cell_type": "code",
   "metadata": {
    "collapsed": true,
    "ExecuteTime": {
     "end_time": "2025-10-17T14:25:00.173553Z",
     "start_time": "2025-10-17T14:25:00.167691Z"
    }
   },
   "source": [
    "import torch.nn.functional as F\n",
    "\n",
    "class Network(nn.Module):\n",
    "    def __init__(self):\n",
    "        super().__init__()\n",
    "        # Inputs to hidden layer linear transformation\n",
    "        self.hidden = nn.Linear(784, 256)\n",
    "        # Output layer, 10 units - one for each digit\n",
    "        self.output = nn.Linear(256, 10)\n",
    "        \n",
    "    def forward(self, x):\n",
    "        # Hidden layer with sigmoid activation\n",
    "        x = F.sigmoid(self.hidden(x))\n",
    "        # Output layer with softmax activation\n",
    "        x = F.softmax(self.output(x), dim=1)\n",
    "        \n",
    "        return x"
   ],
   "outputs": [],
   "execution_count": 22
  },
  {
   "cell_type": "markdown",
   "metadata": {},
   "source": [
    "### Activation functions\n",
    "\n",
    "So far we've only been looking at the sigmoid activation function, but in general any function can be used as an activation function. The only requirement is that for a network to approximate a non-linear function, the activation functions must be non-linear. Here are a few more examples of common activation functions: Tanh (hyperbolic tangent), and ReLU (rectified linear unit).\n",
    "\n",
    "<img src=\"assets/activation.png\" width=700px>\n",
    "\n",
    "In practice, the ReLU function is used almost exclusively as the activation function for hidden layers."
   ]
  },
  {
   "cell_type": "markdown",
   "metadata": {},
   "source": [
    "### Your Turn to Build a Network\n",
    "\n",
    "<img src=\"assets/mlp_mnist.png\" width=600px>\n",
    "\n",
    "> **Exercise:** Create a network with 784 input units, a hidden layer with 128 units and a ReLU activation, then a hidden layer with 64 units and a ReLU activation, and finally an output layer with a softmax activation as shown above. You can use a ReLU activation with the `nn.ReLU` module or `F.relu` function.\n",
    "\n",
    "It's good practice to name your layers by their type of network, for instance 'fc' to represent a fully-connected layer. As you code your solution, use `fc1`, `fc2`, and `fc3` as your layer names."
   ]
  },
  {
   "metadata": {
    "ExecuteTime": {
     "end_time": "2025-10-17T14:31:44.165123Z",
     "start_time": "2025-10-17T14:31:44.156115Z"
    }
   },
   "cell_type": "code",
   "source": [
    "## Your solution here\n",
    "class Network(nn.Module):\n",
    "    def __init__(self):\n",
    "        super().__init__()\n",
    "\n",
    "        self.fc1 = nn.Linear(784, 128)\n",
    "        self.fc2 = nn.Linear(128, 64)\n",
    "        self.fc3 = nn.Linear(64, 10)\n",
    "\n",
    "    def forward(self, x):\n",
    "        # Hidden layers with sigmoid activation\n",
    "        x = F.sigmoid(self.fc1(x))\n",
    "        x = F.sigmoid(self.fc2(x))\n",
    "        # Output layer with softmax activation\n",
    "        x = F.softmax(self.fc3(x), dim=1)\n",
    "\n",
    "        return x\n",
    "\n",
    "model = Network()\n",
    "model"
   ],
   "outputs": [
    {
     "data": {
      "text/plain": [
       "Network(\n",
       "  (fc1): Linear(in_features=784, out_features=128, bias=True)\n",
       "  (fc2): Linear(in_features=128, out_features=64, bias=True)\n",
       "  (fc3): Linear(in_features=64, out_features=10, bias=True)\n",
       ")"
      ]
     },
     "execution_count": 33,
     "metadata": {},
     "output_type": "execute_result"
    }
   ],
   "execution_count": 33
  },
  {
   "metadata": {},
   "cell_type": "markdown",
   "source": [
    "### Initializing weights and biases\n",
    "\n",
    "The weights and such are automatically initialized for you, but it's possible to customize how they are initialized. The weights and biases are tensors attached to the layer you defined, you can get them with `model.fc1.weight` for instance."
   ]
  },
  {
   "metadata": {
    "ExecuteTime": {
     "end_time": "2025-10-17T14:31:45.815185Z",
     "start_time": "2025-10-17T14:31:45.807726Z"
    }
   },
   "cell_type": "code",
   "source": [
    "print(model.fc1.weight)\n",
    "print(model.fc1.bias)"
   ],
   "outputs": [
    {
     "name": "stdout",
     "output_type": "stream",
     "text": [
      "Parameter containing:\n",
      "tensor([[ 0.0344,  0.0054, -0.0004,  ..., -0.0286, -0.0300, -0.0328],\n",
      "        [ 0.0240,  0.0024,  0.0235,  ..., -0.0063,  0.0203,  0.0024],\n",
      "        [-0.0226, -0.0333,  0.0034,  ..., -0.0134,  0.0258,  0.0293],\n",
      "        ...,\n",
      "        [ 0.0300,  0.0127, -0.0111,  ..., -0.0064, -0.0247,  0.0095],\n",
      "        [-0.0162,  0.0303,  0.0221,  ..., -0.0143, -0.0063, -0.0177],\n",
      "        [-0.0241,  0.0302,  0.0114,  ...,  0.0301, -0.0126, -0.0315]],\n",
      "       requires_grad=True)\n",
      "Parameter containing:\n",
      "tensor([-2.6693e-02,  5.7953e-03, -7.6120e-03,  3.4146e-02,  1.1655e-02,\n",
      "        -1.8138e-02,  2.9291e-02,  2.6215e-02,  3.8917e-03, -3.0553e-02,\n",
      "         5.4777e-03,  1.3017e-02, -1.1077e-02,  2.6639e-02,  1.1247e-02,\n",
      "        -2.2913e-02,  8.0801e-03, -1.1623e-02,  2.6911e-02,  6.9189e-03,\n",
      "         1.0351e-02, -1.1690e-02,  1.5924e-02, -2.5638e-02, -8.5161e-03,\n",
      "         2.0276e-02,  1.0482e-02,  4.5824e-03,  1.6437e-02, -5.8956e-03,\n",
      "         1.8982e-02,  1.0135e-02, -3.1186e-02, -2.7821e-02,  1.2253e-02,\n",
      "         2.4860e-02, -7.5551e-03,  3.1250e-02, -2.5253e-03,  2.6978e-02,\n",
      "         1.4440e-03,  1.7447e-02,  5.4453e-05, -2.8880e-02, -6.2343e-03,\n",
      "         2.6672e-02, -2.9534e-02, -2.0480e-02,  3.4026e-02,  1.4954e-02,\n",
      "        -3.0430e-02, -2.1391e-02,  5.9367e-03,  3.3417e-02, -3.5005e-02,\n",
      "        -1.2546e-02,  1.0208e-02,  7.9943e-03, -9.3113e-03, -6.0160e-03,\n",
      "         2.9531e-02, -3.2850e-02, -1.2112e-02, -3.0587e-02,  1.1796e-02,\n",
      "         3.2917e-02, -3.3115e-02, -2.6425e-03, -1.6305e-02, -2.8993e-02,\n",
      "        -1.8898e-02,  2.0110e-02,  7.3145e-03,  1.5992e-02, -3.4013e-02,\n",
      "        -1.6495e-02, -2.2391e-02,  2.4340e-02, -2.5183e-02, -2.1387e-02,\n",
      "         4.7973e-03,  6.9384e-03, -2.8333e-02, -3.0176e-02, -9.9291e-03,\n",
      "        -2.0988e-02, -2.2325e-02,  1.3628e-02,  2.4058e-02, -1.7209e-02,\n",
      "        -2.5047e-02,  2.4270e-02, -7.1025e-03, -1.9856e-02,  9.5556e-03,\n",
      "        -3.1866e-02, -1.5742e-02,  1.8587e-02,  3.4555e-02, -1.3899e-02,\n",
      "         1.1607e-02,  1.4475e-03, -2.6062e-02,  5.7163e-03, -8.0149e-03,\n",
      "         3.3519e-02, -2.9408e-02, -1.5588e-02,  1.4662e-02,  2.5797e-03,\n",
      "         3.0733e-02,  6.5189e-03,  3.3321e-02,  2.4657e-02, -3.2408e-02,\n",
      "        -5.3361e-04, -1.5534e-02,  1.4118e-02,  3.9447e-03, -2.6852e-02,\n",
      "         1.4123e-02,  1.5324e-02, -3.1673e-02,  1.6309e-02,  3.4720e-02,\n",
      "         2.9535e-02, -2.6395e-02,  1.7150e-02], requires_grad=True)\n"
     ]
    }
   ],
   "execution_count": 34
  },
  {
   "cell_type": "markdown",
   "metadata": {},
   "source": [
    "For custom initialization, we want to modify these tensors in place. These are actually autograd *Variables*, so we need to get back the actual tensors with `model.fc1.weight.data`. Once we have the tensors, we can fill them with zeros (for biases) or random normal values."
   ]
  },
  {
   "cell_type": "code",
   "metadata": {
    "collapsed": true,
    "ExecuteTime": {
     "end_time": "2025-10-17T14:32:20.377783Z",
     "start_time": "2025-10-17T14:32:20.371323Z"
    }
   },
   "source": [
    "# Set biases to all zeros\n",
    "model.fc1.bias.data.fill_(0)"
   ],
   "outputs": [
    {
     "data": {
      "text/plain": [
       "tensor([0., 0., 0., 0., 0., 0., 0., 0., 0., 0., 0., 0., 0., 0., 0., 0., 0., 0., 0., 0., 0., 0., 0., 0.,\n",
       "        0., 0., 0., 0., 0., 0., 0., 0., 0., 0., 0., 0., 0., 0., 0., 0., 0., 0., 0., 0., 0., 0., 0., 0.,\n",
       "        0., 0., 0., 0., 0., 0., 0., 0., 0., 0., 0., 0., 0., 0., 0., 0., 0., 0., 0., 0., 0., 0., 0., 0.,\n",
       "        0., 0., 0., 0., 0., 0., 0., 0., 0., 0., 0., 0., 0., 0., 0., 0., 0., 0., 0., 0., 0., 0., 0., 0.,\n",
       "        0., 0., 0., 0., 0., 0., 0., 0., 0., 0., 0., 0., 0., 0., 0., 0., 0., 0., 0., 0., 0., 0., 0., 0.,\n",
       "        0., 0., 0., 0., 0., 0., 0., 0.])"
      ]
     },
     "execution_count": 35,
     "metadata": {},
     "output_type": "execute_result"
    }
   ],
   "execution_count": 35
  },
  {
   "cell_type": "code",
   "metadata": {
    "collapsed": true,
    "ExecuteTime": {
     "end_time": "2025-10-17T14:32:21.212265Z",
     "start_time": "2025-10-17T14:32:21.205110Z"
    }
   },
   "source": [
    "# sample from random normal with standard dev = 0.01\n",
    "model.fc1.weight.data.normal_(std=0.01)"
   ],
   "outputs": [
    {
     "data": {
      "text/plain": [
       "tensor([[-1.3543e-02, -2.0713e-03,  6.4680e-04,  ...,  1.4009e-02,\n",
       "          9.1996e-03, -5.2667e-03],\n",
       "        [ 1.3643e-02, -3.9734e-03, -3.0168e-03,  ..., -4.9107e-04,\n",
       "          3.8654e-03,  1.2674e-02],\n",
       "        [-8.6151e-03, -9.5464e-03, -1.2107e-02,  ..., -1.4235e-02,\n",
       "         -7.3531e-03, -8.0721e-03],\n",
       "        ...,\n",
       "        [-5.6007e-03,  5.8805e-03, -1.5649e-02,  ...,  9.7104e-03,\n",
       "          3.2252e-03,  4.1797e-03],\n",
       "        [ 5.9918e-03,  4.8478e-03,  3.0305e-05,  ..., -1.5835e-03,\n",
       "          8.9845e-03, -1.2169e-02],\n",
       "        [ 3.8502e-03, -4.2247e-04, -4.2548e-03,  ..., -4.5543e-04,\n",
       "         -4.6173e-03, -6.2869e-03]])"
      ]
     },
     "execution_count": 36,
     "metadata": {},
     "output_type": "execute_result"
    }
   ],
   "execution_count": 36
  },
  {
   "cell_type": "markdown",
   "metadata": {},
   "source": [
    "### Forward pass\n",
    "\n",
    "Now that we have a network, let's see what happens when we pass in an image."
   ]
  },
  {
   "metadata": {
    "ExecuteTime": {
     "end_time": "2025-10-17T14:33:27.032736Z",
     "start_time": "2025-10-17T14:33:26.700057Z"
    }
   },
   "cell_type": "code",
   "source": [
    "# Grab some data \n",
    "dataiter = iter(trainloader)\n",
    "images, labels = next(dataiter)\n",
    "\n",
    "# Resize images into a 1D vector, new shape is (batch size, color channels, image pixels) \n",
    "images.resize_(64, 1, 784)\n",
    "# or images.resize_(images.shape[0], 1, 784) to automatically get batch size\n",
    "\n",
    "# Forward pass through the network\n",
    "img_idx = 0\n",
    "ps = model.forward(images[img_idx,:])\n",
    "\n",
    "img = images[img_idx]\n",
    "helper.view_classify(img.view(1, 28, 28), ps)"
   ],
   "outputs": [
    {
     "data": {
      "text/plain": [
       "<Figure size 600x900 with 2 Axes>"
      ],
      "image/png": "[encoded data removed]"
     },
     "metadata": {
      "image/png": {
       "width": 589,
       "height": 327
      }
     },
     "output_type": "display_data",
     "jetTransient": {
      "display_id": null
     }
    }
   ],
   "execution_count": 37
  },
  {
   "cell_type": "markdown",
   "metadata": {},
   "source": [
    "As you can see above, our network has basically no idea what this digit is. It's because we haven't trained it yet, all the weights are random!\n",
    "\n",
    "### Using `nn.Sequential`\n",
    "\n",
    "PyTorch provides a convenient way to build networks like this where a tensor is passed sequentially through operations, `nn.Sequential` ([documentation](https://pytorch.org/docs/master/nn.html#torch.nn.Sequential)). Using this to build the equivalent network:"
   ]
  },
  {
   "cell_type": "code",
   "metadata": {
    "collapsed": true,
    "ExecuteTime": {
     "end_time": "2025-10-17T14:34:08.450929Z",
     "start_time": "2025-10-17T14:34:08.136355Z"
    }
   },
   "source": [
    "# Hyperparameters for our network\n",
    "input_size = 784\n",
    "hidden_sizes = [128, 64]\n",
    "output_size = 10\n",
    "\n",
    "# Build a feed-forward network\n",
    "model = nn.Sequential(nn.Linear(input_size, hidden_sizes[0]),\n",
    "                      nn.ReLU(),\n",
    "                      nn.Linear(hidden_sizes[0], hidden_sizes[1]),\n",
    "                      nn.ReLU(),\n",
    "                      nn.Linear(hidden_sizes[1], output_size),\n",
    "                      nn.Softmax(dim=1))\n",
    "print(model)\n",
    "\n",
    "# Forward pass through the network and display output\n",
    "images, labels = next(iter(trainloader))\n",
    "images.resize_(images.shape[0], 1, 784)\n",
    "ps = model.forward(images[0,:])\n",
    "helper.view_classify(images[0].view(1, 28, 28), ps)"
   ],
   "outputs": [
    {
     "name": "stdout",
     "output_type": "stream",
     "text": [
      "Sequential(\n",
      "  (0): Linear(in_features=784, out_features=128, bias=True)\n",
      "  (1): ReLU()\n",
      "  (2): Linear(in_features=128, out_features=64, bias=True)\n",
      "  (3): ReLU()\n",
      "  (4): Linear(in_features=64, out_features=10, bias=True)\n",
      "  (5): Softmax(dim=1)\n",
      ")\n"
     ]
    },
    {
     "data": {
      "text/plain": [
       "<Figure size 600x900 with 2 Axes>"
      ],
      "image/png": "[encoded data removed]"
     },
     "metadata": {
      "image/png": {
       "width": 589,
       "height": 327
      }
     },
     "output_type": "display_data",
     "jetTransient": {
      "display_id": null
     }
    }
   ],
   "execution_count": 38
  },
  {
   "cell_type": "markdown",
   "metadata": {},
   "source": [
    "Here our model is the same as before: 784 input units, a hidden layer with 128 units, ReLU activation, 64 unit hidden layer, another ReLU, then the output layer with 10 units, and the softmax output.\n",
    "\n",
    "The operations are available by passing in the appropriate index. For example, if you want to get first Linear operation and look at the weights, you'd use `model[0]`."
   ]
  },
  {
   "cell_type": "code",
   "metadata": {
    "collapsed": true,
    "ExecuteTime": {
     "end_time": "2025-10-17T14:34:54.595752Z",
     "start_time": "2025-10-17T14:34:54.587745Z"
    }
   },
   "source": [
    "print(model[0])\n",
    "model[0].weight"
   ],
   "outputs": [
    {
     "name": "stdout",
     "output_type": "stream",
     "text": [
      "Linear(in_features=784, out_features=128, bias=True)\n"
     ]
    },
    {
     "data": {
      "text/plain": [
       "Parameter containing:\n",
       "tensor([[ 1.5176e-02,  3.4858e-02, -3.1907e-02,  ..., -5.3220e-03,\n",
       "         -5.1491e-05, -3.0065e-02],\n",
       "        [ 8.7117e-03,  3.1150e-02,  1.7944e-02,  ...,  3.1435e-02,\n",
       "         -2.6165e-02, -2.0734e-02],\n",
       "        [ 3.2045e-02, -2.5903e-02, -3.8640e-03,  ..., -2.9380e-02,\n",
       "         -6.9302e-03, -2.0950e-02],\n",
       "        ...,\n",
       "        [ 4.6893e-03,  3.0824e-02,  3.0414e-02,  ...,  2.0744e-02,\n",
       "         -3.2313e-02, -2.4413e-02],\n",
       "        [-8.8278e-03,  1.9732e-02, -3.3185e-02,  ...,  8.5345e-03,\n",
       "          1.5052e-02,  1.2451e-02],\n",
       "        [-9.2879e-03, -2.7729e-02,  2.4611e-02,  ...,  2.7452e-02,\n",
       "         -1.8407e-02, -1.7618e-02]], requires_grad=True)"
      ]
     },
     "execution_count": 39,
     "metadata": {},
     "output_type": "execute_result"
    }
   ],
   "execution_count": 39
  },
  {
   "cell_type": "markdown",
   "metadata": {},
   "source": [
    "You can also pass in an `OrderedDict` to name the individual layers and operations, instead of using incremental integers. Note that dictionary keys must be unique, so _each operation must have a different name_."
   ]
  },
  {
   "cell_type": "code",
   "metadata": {
    "collapsed": true,
    "ExecuteTime": {
     "end_time": "2025-10-17T14:35:22.775714Z",
     "start_time": "2025-10-17T14:35:22.767327Z"
    }
   },
   "source": [
    "from collections import OrderedDict\n",
    "model = nn.Sequential(OrderedDict([\n",
    "                      ('fc1', nn.Linear(input_size, hidden_sizes[0])),\n",
    "                      ('relu1', nn.ReLU()),\n",
    "                      ('fc2', nn.Linear(hidden_sizes[0], hidden_sizes[1])),\n",
    "                      ('relu2', nn.ReLU()),\n",
    "                      ('output', nn.Linear(hidden_sizes[1], output_size)),\n",
    "                      ('softmax', nn.Softmax(dim=1))]))\n",
    "model"
   ],
   "outputs": [
    {
     "data": {
      "text/plain": [
       "Sequential(\n",
       "  (fc1): Linear(in_features=784, out_features=128, bias=True)\n",
       "  (relu1): ReLU()\n",
       "  (fc2): Linear(in_features=128, out_features=64, bias=True)\n",
       "  (relu2): ReLU()\n",
       "  (output): Linear(in_features=64, out_features=10, bias=True)\n",
       "  (softmax): Softmax(dim=1)\n",
       ")"
      ]
     },
     "execution_count": 40,
     "metadata": {},
     "output_type": "execute_result"
    }
   ],
   "execution_count": 40
  },
  {
   "cell_type": "markdown",
   "metadata": {},
   "source": [
    "Now you can access layers either by integer or the name"
   ]
  },
  {
   "cell_type": "code",
   "metadata": {
    "collapsed": true,
    "ExecuteTime": {
     "end_time": "2025-10-17T14:35:29.692907Z",
     "start_time": "2025-10-17T14:35:29.688548Z"
    }
   },
   "source": [
    "print(model[0])\n",
    "print(model.fc1)"
   ],
   "outputs": [
    {
     "name": "stdout",
     "output_type": "stream",
     "text": [
      "Linear(in_features=784, out_features=128, bias=True)\n",
      "Linear(in_features=784, out_features=128, bias=True)\n"
     ]
    }
   ],
   "execution_count": 41
  },
  {
   "cell_type": "markdown",
   "metadata": {},
   "source": [
    "In the next notebook, we'll see how we can train a neural network to accuractly predict the numbers appearing in the MNIST images."
   ]
  }
 ],
 "metadata": {
  "kernelspec": {
   "display_name": "Python [default]",
   "language": "python",
   "name": "python3"
  },
  "language_info": {
   "codemirror_mode": {
    "name": "ipython",
    "version": 3
   },
   "file_extension": ".py",
   "mimetype": "text/x-python",
   "name": "python",
   "nbconvert_exporter": "python",
   "pygments_lexer": "ipython3",
   "version": "3.6.4"
  }
 },
 "nbformat": 4,
 "nbformat_minor": 2
}
