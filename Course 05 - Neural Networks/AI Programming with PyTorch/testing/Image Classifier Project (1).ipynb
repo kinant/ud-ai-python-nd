{
 "cells": [
  {
   "cell_type": "markdown",
   "metadata": {},
   "source": [
    "# Developing an AI application\n",
    "\n",
    "Going forward, AI algorithms will be incorporated into more and more everyday applications. For example, you might want to include an image classifier in a smart phone app. To do this, you'd use a deep learning model trained on hundreds of thousands of images as part of the overall application architecture. A large part of software development in the future will be using these types of models as common parts of applications. \n",
    "\n",
    "In this project, you'll train an image classifier to recognize different species of flowers. You can imagine using something like this in a phone app that tells you the name of the flower your camera is looking at. In practice you'd train this classifier, then export it for use in your application. We'll be using [this dataset](http://www.robots.ox.ac.uk/~vgg/data/flowers/102/index.html) of 102 flower categories, you can see a few examples below. \n",
    "\n",
    "<img src='assets/Flowers.png' width=500px>\n",
    "\n",
    "The project is broken down into multiple steps:\n",
    "\n",
    "* Load and preprocess the image dataset\n",
    "* Train the image classifier on your dataset\n",
    "* Use the trained classifier to predict image content\n",
    "\n",
    "We'll lead you through each part which you'll implement in Python.\n",
    "\n",
    "When you've completed this project, you'll have an application that can be trained on any set of labeled images. Here your network will be learning about flowers and end up as a command line application. But, what you do with your new skills depends on your imagination and effort in building a dataset. For example, imagine an app where you take a picture of a car, it tells you what the make and model is, then looks up information about it. Go build your own dataset and make something new.\n",
    "\n",
    "First up is importing the packages you'll need. It's good practice to keep all the imports at the beginning of your code. As you work through this notebook and find you need to import a package, make sure to add the import up here."
   ]
  },
  {
   "cell_type": "code",
   "metadata": {
    "ExecuteTime": {
     "end_time": "2025-10-17T09:31:50.665459Z",
     "start_time": "2025-10-17T09:31:50.647001Z"
    }
   },
   "source": [
    "# Imports here\n",
    "%matplotlib inline\n",
    "%config InlineBackend.figure_format = 'retina'\n",
    "\n",
    "import matplotlib.pyplot as plt\n",
    "import matplotlib.image as mpimg\n",
    "\n",
    "import numpy as np\n",
    "\n",
    "import torch\n",
    "from torch import nn\n",
    "from torch import optim\n",
    "import torch.nn.functional as F\n",
    "import torchvision\n",
    "from torchvision import datasets, transforms, models, utils\n",
    "\n",
    "import time\n",
    "import os\n",
    "import copy\n",
    "from collections import OrderedDict\n",
    "import json\n",
    "\n",
    "from math import floor\n",
    "import random\n",
    "from random import randint\n",
    "from PIL import Image"
   ],
   "outputs": [],
   "execution_count": 42
  },
  {
   "cell_type": "markdown",
   "metadata": {},
   "source": [
    "## Load the data\n",
    "\n",
    "Here you'll use `torchvision` to load the data ([documentation](http://pytorch.org/docs/0.3.0/torchvision/index.html)). The data should be included alongside this notebook, otherwise you can [download it here](https://s3.amazonaws.com/content.udacity-data.com/nd089/flower_data.tar.gz). The dataset is split into three parts, training, validation, and testing. For the training, you'll want to apply transformations such as random scaling, cropping, and flipping. This will help the network generalize leading to better performance. You'll also need to make sure the input data is resized to 224x224 pixels as required by the pre-trained networks.\n",
    "\n",
    "The validation and testing sets are used to measure the model's performance on data it hasn't seen yet. For this you don't want any scaling or rotation transformations, but you'll need to resize then crop the images to the appropriate size.\n",
    "\n",
    "The pre-trained networks you'll use were trained on the ImageNet dataset where each color channel was normalized separately. For all three sets you'll need to normalize the means and standard deviations of the images to what the network expects. For the means, it's `[0.485, 0.456, 0.406]` and for the standard deviations `[0.229, 0.224, 0.225]`, calculated from the ImageNet images.  These values will shift each color channel to be centered at 0 and range from -1 to 1.\n",
    " "
   ]
  },
  {
   "cell_type": "code",
   "metadata": {
    "ExecuteTime": {
     "end_time": "2025-10-17T09:31:53.938592Z",
     "start_time": "2025-10-17T09:31:53.935510Z"
    }
   },
   "source": [
    "# I do not like to hard code stuff, so that I can re-use it, so I will define constants here:\n",
    "batch_size = 64\n",
    "\n",
    "# The following will be used for the comand line application also\n",
    "archs = ['vgg','alexnet','densenet'] # choice of model architecture\n",
    "c_arch = archs[0]\n",
    "num_epochs = 8\n",
    "learning_rate = 0.01\n",
    "hidden_units = 1024\n",
    "use_gpu = True # whether we want to use the gpu or not\n",
    "c_drop = 0.4 # droupout choice\n",
    "\n",
    "# in order to match the normalization used when the models were trained, we we need to use the ImageNet standars\n",
    "# these will be used for our transforms for training, validating and testing data\n",
    "# these will also be used in the section were we process images\n",
    "mean = [0.485, 0.456, 0.406]\n",
    "std = [0.229, 0.224, 0.225]\n",
    "\n",
    "# Image information: In this case, we are using 224x224 images, since it is required by the model.\n",
    "# I leave it here just in case I ever want to change that\n",
    "img_px = 224"
   ],
   "outputs": [],
   "execution_count": 43
  },
  {
   "cell_type": "code",
   "metadata": {
    "ExecuteTime": {
     "end_time": "2025-10-17T09:31:55.167861Z",
     "start_time": "2025-10-17T09:31:55.163862Z"
    }
   },
   "source": [
    "# Detect if we have a GPU available and use it if we chose to in the\n",
    "# hyperparameters up top. \n",
    "device = torch.device(\"cuda:1\" if torch.cuda.is_available() and use_gpu else \"cpu\")\n",
    "device"
   ],
   "outputs": [
    {
     "data": {
      "text/plain": [
       "device(type='cuda', index=1)"
      ]
     },
     "execution_count": 44,
     "metadata": {},
     "output_type": "execute_result"
    }
   ],
   "execution_count": 44
  },
  {
   "cell_type": "code",
   "metadata": {
    "ExecuteTime": {
     "end_time": "2025-10-17T09:33:59.277966Z",
     "start_time": "2025-10-17T09:33:59.275798Z"
    }
   },
   "source": [
    "# directories for the data (Not really used...)\n",
    "data_dir = '../../../../PR02/flowers'\n",
    "train_dir = data_dir + '/train'\n",
    "valid_dir = data_dir + '/valid'\n",
    "test_dir = data_dir + '/test'"
   ],
   "outputs": [],
   "execution_count": 51
  },
  {
   "cell_type": "code",
   "metadata": {
    "ExecuteTime": {
     "end_time": "2025-10-17T09:33:59.746015Z",
     "start_time": "2025-10-17T09:33:59.706551Z"
    }
   },
   "source": [
    "# TODO: Define your transforms for the training, validation, and testing sets\n",
    "\n",
    "# I defined my transforms with the help of a PyTorch official tutorial\n",
    "# Link: https://pytorch.org/tutorials/beginner/transfer_learning_tutorial.html\n",
    "\n",
    "# Note that for the training, we randomize. Also note that we are using our constants from above\n",
    "data_transforms = {\n",
    "    'train': transforms.Compose([\n",
    "        transforms.RandomResizedCrop(img_px),\n",
    "        transforms.RandomHorizontalFlip(),\n",
    "        transforms.ToTensor(),\n",
    "        transforms.Normalize(mean, std)\n",
    "    ]),\n",
    "    'valid': transforms.Compose([\n",
    "        transforms.Resize(img_px + 1),\n",
    "        transforms.CenterCrop(img_px),\n",
    "        transforms.ToTensor(),\n",
    "        transforms.Normalize(mean, std)\n",
    "    ]),\n",
    "    'test': transforms.Compose([\n",
    "        transforms.Resize(img_px + 1),\n",
    "        transforms.CenterCrop(img_px),\n",
    "        transforms.ToTensor(),\n",
    "        transforms.Normalize(mean, std)\n",
    "    ])\n",
    "}\n",
    "\n",
    "# I defined my transforms with the help of a PyTorch official tutorial\n",
    "# Link: https://pytorch.org/tutorials/beginner/transfer_learning_tutorial.html\n",
    "image_datasets = {x: datasets.ImageFolder(os.path.join(data_dir, x),\n",
    "                                          data_transforms[x])\n",
    "                  for x in ['train', 'valid', 'test']}\n",
    "\n",
    "# TODO: Using the image datasets and the trainforms, define the dataloaders\n",
    "dataloaders = {x: torch.utils.data.DataLoader(image_datasets[x], batch_size = batch_size,\n",
    "                                             shuffle=True, num_workers=0)\n",
    "              for x in ['train', 'valid', 'test']}"
   ],
   "outputs": [
    {
     "ename": "FileNotFoundError",
     "evalue": "[WinError 3] The system cannot find the path specified: '../../../../PR02/flowers\\\\train'",
     "output_type": "error",
     "traceback": [
      "\u001B[31m---------------------------------------------------------------------------\u001B[39m",
      "\u001B[31mFileNotFoundError\u001B[39m                         Traceback (most recent call last)",
      "\u001B[36mCell\u001B[39m\u001B[36m \u001B[39m\u001B[32mIn[52]\u001B[39m\u001B[32m, line 30\u001B[39m\n\u001B[32m      7\u001B[39m data_transforms = {\n\u001B[32m      8\u001B[39m     \u001B[33m'\u001B[39m\u001B[33mtrain\u001B[39m\u001B[33m'\u001B[39m: transforms.Compose([\n\u001B[32m      9\u001B[39m         transforms.RandomResizedCrop(img_px),\n\u001B[32m   (...)\u001B[39m\u001B[32m     25\u001B[39m     ])\n\u001B[32m     26\u001B[39m }\n\u001B[32m     28\u001B[39m \u001B[38;5;66;03m# I defined my transforms with the help of a PyTorch official tutorial\u001B[39;00m\n\u001B[32m     29\u001B[39m \u001B[38;5;66;03m# Link: https://pytorch.org/tutorials/beginner/transfer_learning_tutorial.html\u001B[39;00m\n\u001B[32m---> \u001B[39m\u001B[32m30\u001B[39m image_datasets = {x: \u001B[43mdatasets\u001B[49m\u001B[43m.\u001B[49m\u001B[43mImageFolder\u001B[49m\u001B[43m(\u001B[49m\u001B[43mos\u001B[49m\u001B[43m.\u001B[49m\u001B[43mpath\u001B[49m\u001B[43m.\u001B[49m\u001B[43mjoin\u001B[49m\u001B[43m(\u001B[49m\u001B[43mdata_dir\u001B[49m\u001B[43m,\u001B[49m\u001B[43m \u001B[49m\u001B[43mx\u001B[49m\u001B[43m)\u001B[49m\u001B[43m,\u001B[49m\n\u001B[32m     31\u001B[39m \u001B[43m                                          \u001B[49m\u001B[43mdata_transforms\u001B[49m\u001B[43m[\u001B[49m\u001B[43mx\u001B[49m\u001B[43m]\u001B[49m\u001B[43m)\u001B[49m\n\u001B[32m     32\u001B[39m                   \u001B[38;5;28;01mfor\u001B[39;00m x \u001B[38;5;129;01min\u001B[39;00m [\u001B[33m'\u001B[39m\u001B[33mtrain\u001B[39m\u001B[33m'\u001B[39m, \u001B[33m'\u001B[39m\u001B[33mvalid\u001B[39m\u001B[33m'\u001B[39m, \u001B[33m'\u001B[39m\u001B[33mtest\u001B[39m\u001B[33m'\u001B[39m]}\n\u001B[32m     34\u001B[39m \u001B[38;5;66;03m# TODO: Using the image datasets and the trainforms, define the dataloaders\u001B[39;00m\n\u001B[32m     35\u001B[39m dataloaders = {x: torch.utils.data.DataLoader(image_datasets[x], batch_size = batch_size,\n\u001B[32m     36\u001B[39m                                              shuffle=\u001B[38;5;28;01mTrue\u001B[39;00m, num_workers=\u001B[32m0\u001B[39m)\n\u001B[32m     37\u001B[39m               \u001B[38;5;28;01mfor\u001B[39;00m x \u001B[38;5;129;01min\u001B[39;00m [\u001B[33m'\u001B[39m\u001B[33mtrain\u001B[39m\u001B[33m'\u001B[39m, \u001B[33m'\u001B[39m\u001B[33mvalid\u001B[39m\u001B[33m'\u001B[39m, \u001B[33m'\u001B[39m\u001B[33mtest\u001B[39m\u001B[33m'\u001B[39m]}\n",
      "\u001B[36mFile \u001B[39m\u001B[32mH:\\anaconda3\\envs\\ud-ai\\Lib\\site-packages\\torchvision\\datasets\\folder.py:328\u001B[39m, in \u001B[36mImageFolder.__init__\u001B[39m\u001B[34m(self, root, transform, target_transform, loader, is_valid_file, allow_empty)\u001B[39m\n\u001B[32m    319\u001B[39m \u001B[38;5;28;01mdef\u001B[39;00m\u001B[38;5;250m \u001B[39m\u001B[34m__init__\u001B[39m(\n\u001B[32m    320\u001B[39m     \u001B[38;5;28mself\u001B[39m,\n\u001B[32m    321\u001B[39m     root: Union[\u001B[38;5;28mstr\u001B[39m, Path],\n\u001B[32m   (...)\u001B[39m\u001B[32m    326\u001B[39m     allow_empty: \u001B[38;5;28mbool\u001B[39m = \u001B[38;5;28;01mFalse\u001B[39;00m,\n\u001B[32m    327\u001B[39m ):\n\u001B[32m--> \u001B[39m\u001B[32m328\u001B[39m     \u001B[38;5;28;43msuper\u001B[39;49m\u001B[43m(\u001B[49m\u001B[43m)\u001B[49m\u001B[43m.\u001B[49m\u001B[34;43m__init__\u001B[39;49m\u001B[43m(\u001B[49m\n\u001B[32m    329\u001B[39m \u001B[43m        \u001B[49m\u001B[43mroot\u001B[49m\u001B[43m,\u001B[49m\n\u001B[32m    330\u001B[39m \u001B[43m        \u001B[49m\u001B[43mloader\u001B[49m\u001B[43m,\u001B[49m\n\u001B[32m    331\u001B[39m \u001B[43m        \u001B[49m\u001B[43mIMG_EXTENSIONS\u001B[49m\u001B[43m \u001B[49m\u001B[38;5;28;43;01mif\u001B[39;49;00m\u001B[43m \u001B[49m\u001B[43mis_valid_file\u001B[49m\u001B[43m \u001B[49m\u001B[38;5;129;43;01mis\u001B[39;49;00m\u001B[43m \u001B[49m\u001B[38;5;28;43;01mNone\u001B[39;49;00m\u001B[43m \u001B[49m\u001B[38;5;28;43;01melse\u001B[39;49;00m\u001B[43m \u001B[49m\u001B[38;5;28;43;01mNone\u001B[39;49;00m\u001B[43m,\u001B[49m\n\u001B[32m    332\u001B[39m \u001B[43m        \u001B[49m\u001B[43mtransform\u001B[49m\u001B[43m=\u001B[49m\u001B[43mtransform\u001B[49m\u001B[43m,\u001B[49m\n\u001B[32m    333\u001B[39m \u001B[43m        \u001B[49m\u001B[43mtarget_transform\u001B[49m\u001B[43m=\u001B[49m\u001B[43mtarget_transform\u001B[49m\u001B[43m,\u001B[49m\n\u001B[32m    334\u001B[39m \u001B[43m        \u001B[49m\u001B[43mis_valid_file\u001B[49m\u001B[43m=\u001B[49m\u001B[43mis_valid_file\u001B[49m\u001B[43m,\u001B[49m\n\u001B[32m    335\u001B[39m \u001B[43m        \u001B[49m\u001B[43mallow_empty\u001B[49m\u001B[43m=\u001B[49m\u001B[43mallow_empty\u001B[49m\u001B[43m,\u001B[49m\n\u001B[32m    336\u001B[39m \u001B[43m    \u001B[49m\u001B[43m)\u001B[49m\n\u001B[32m    337\u001B[39m     \u001B[38;5;28mself\u001B[39m.imgs = \u001B[38;5;28mself\u001B[39m.samples\n",
      "\u001B[36mFile \u001B[39m\u001B[32mH:\\anaconda3\\envs\\ud-ai\\Lib\\site-packages\\torchvision\\datasets\\folder.py:149\u001B[39m, in \u001B[36mDatasetFolder.__init__\u001B[39m\u001B[34m(self, root, loader, extensions, transform, target_transform, is_valid_file, allow_empty)\u001B[39m\n\u001B[32m    138\u001B[39m \u001B[38;5;28;01mdef\u001B[39;00m\u001B[38;5;250m \u001B[39m\u001B[34m__init__\u001B[39m(\n\u001B[32m    139\u001B[39m     \u001B[38;5;28mself\u001B[39m,\n\u001B[32m    140\u001B[39m     root: Union[\u001B[38;5;28mstr\u001B[39m, Path],\n\u001B[32m   (...)\u001B[39m\u001B[32m    146\u001B[39m     allow_empty: \u001B[38;5;28mbool\u001B[39m = \u001B[38;5;28;01mFalse\u001B[39;00m,\n\u001B[32m    147\u001B[39m ) -> \u001B[38;5;28;01mNone\u001B[39;00m:\n\u001B[32m    148\u001B[39m     \u001B[38;5;28msuper\u001B[39m().\u001B[34m__init__\u001B[39m(root, transform=transform, target_transform=target_transform)\n\u001B[32m--> \u001B[39m\u001B[32m149\u001B[39m     classes, class_to_idx = \u001B[38;5;28;43mself\u001B[39;49m\u001B[43m.\u001B[49m\u001B[43mfind_classes\u001B[49m\u001B[43m(\u001B[49m\u001B[38;5;28;43mself\u001B[39;49m\u001B[43m.\u001B[49m\u001B[43mroot\u001B[49m\u001B[43m)\u001B[49m\n\u001B[32m    150\u001B[39m     samples = \u001B[38;5;28mself\u001B[39m.make_dataset(\n\u001B[32m    151\u001B[39m         \u001B[38;5;28mself\u001B[39m.root,\n\u001B[32m    152\u001B[39m         class_to_idx=class_to_idx,\n\u001B[32m   (...)\u001B[39m\u001B[32m    155\u001B[39m         allow_empty=allow_empty,\n\u001B[32m    156\u001B[39m     )\n\u001B[32m    158\u001B[39m     \u001B[38;5;28mself\u001B[39m.loader = loader\n",
      "\u001B[36mFile \u001B[39m\u001B[32mH:\\anaconda3\\envs\\ud-ai\\Lib\\site-packages\\torchvision\\datasets\\folder.py:234\u001B[39m, in \u001B[36mDatasetFolder.find_classes\u001B[39m\u001B[34m(self, directory)\u001B[39m\n\u001B[32m    207\u001B[39m \u001B[38;5;28;01mdef\u001B[39;00m\u001B[38;5;250m \u001B[39m\u001B[34mfind_classes\u001B[39m(\u001B[38;5;28mself\u001B[39m, directory: Union[\u001B[38;5;28mstr\u001B[39m, Path]) -> \u001B[38;5;28mtuple\u001B[39m[\u001B[38;5;28mlist\u001B[39m[\u001B[38;5;28mstr\u001B[39m], \u001B[38;5;28mdict\u001B[39m[\u001B[38;5;28mstr\u001B[39m, \u001B[38;5;28mint\u001B[39m]]:\n\u001B[32m    208\u001B[39m \u001B[38;5;250m    \u001B[39m\u001B[33;03m\"\"\"Find the class folders in a dataset structured as follows::\u001B[39;00m\n\u001B[32m    209\u001B[39m \n\u001B[32m    210\u001B[39m \u001B[33;03m        directory/\u001B[39;00m\n\u001B[32m   (...)\u001B[39m\u001B[32m    232\u001B[39m \u001B[33;03m        (Tuple[List[str], Dict[str, int]]): List of all classes and dictionary mapping each class to an index.\u001B[39;00m\n\u001B[32m    233\u001B[39m \u001B[33;03m    \"\"\"\u001B[39;00m\n\u001B[32m--> \u001B[39m\u001B[32m234\u001B[39m     \u001B[38;5;28;01mreturn\u001B[39;00m \u001B[43mfind_classes\u001B[49m\u001B[43m(\u001B[49m\u001B[43mdirectory\u001B[49m\u001B[43m)\u001B[49m\n",
      "\u001B[36mFile \u001B[39m\u001B[32mH:\\anaconda3\\envs\\ud-ai\\Lib\\site-packages\\torchvision\\datasets\\folder.py:41\u001B[39m, in \u001B[36mfind_classes\u001B[39m\u001B[34m(directory)\u001B[39m\n\u001B[32m     36\u001B[39m \u001B[38;5;28;01mdef\u001B[39;00m\u001B[38;5;250m \u001B[39m\u001B[34mfind_classes\u001B[39m(directory: Union[\u001B[38;5;28mstr\u001B[39m, Path]) -> \u001B[38;5;28mtuple\u001B[39m[\u001B[38;5;28mlist\u001B[39m[\u001B[38;5;28mstr\u001B[39m], \u001B[38;5;28mdict\u001B[39m[\u001B[38;5;28mstr\u001B[39m, \u001B[38;5;28mint\u001B[39m]]:\n\u001B[32m     37\u001B[39m \u001B[38;5;250m    \u001B[39m\u001B[33;03m\"\"\"Finds the class folders in a dataset.\u001B[39;00m\n\u001B[32m     38\u001B[39m \n\u001B[32m     39\u001B[39m \u001B[33;03m    See :class:`DatasetFolder` for details.\u001B[39;00m\n\u001B[32m     40\u001B[39m \u001B[33;03m    \"\"\"\u001B[39;00m\n\u001B[32m---> \u001B[39m\u001B[32m41\u001B[39m     classes = \u001B[38;5;28msorted\u001B[39m(entry.name \u001B[38;5;28;01mfor\u001B[39;00m entry \u001B[38;5;129;01min\u001B[39;00m \u001B[43mos\u001B[49m\u001B[43m.\u001B[49m\u001B[43mscandir\u001B[49m\u001B[43m(\u001B[49m\u001B[43mdirectory\u001B[49m\u001B[43m)\u001B[49m \u001B[38;5;28;01mif\u001B[39;00m entry.is_dir())\n\u001B[32m     42\u001B[39m     \u001B[38;5;28;01mif\u001B[39;00m \u001B[38;5;129;01mnot\u001B[39;00m classes:\n\u001B[32m     43\u001B[39m         \u001B[38;5;28;01mraise\u001B[39;00m \u001B[38;5;167;01mFileNotFoundError\u001B[39;00m(\u001B[33mf\u001B[39m\u001B[33m\"\u001B[39m\u001B[33mCouldn\u001B[39m\u001B[33m'\u001B[39m\u001B[33mt find any class folder in \u001B[39m\u001B[38;5;132;01m{\u001B[39;00mdirectory\u001B[38;5;132;01m}\u001B[39;00m\u001B[33m.\u001B[39m\u001B[33m\"\u001B[39m)\n",
      "\u001B[31mFileNotFoundError\u001B[39m: [WinError 3] The system cannot find the path specified: '../../../../PR02/flowers\\\\train'"
     ]
    }
   ],
   "execution_count": 52
  },
  {
   "cell_type": "markdown",
   "metadata": {},
   "source": [
    "## Sanity Check #1:\n",
    "\n",
    "I want to do this project step by step, so first I want to make sure the data was loaded correctly and I also want to display useful information."
   ]
  },
  {
   "cell_type": "code",
   "metadata": {},
   "source": [
    "# Get the data set sizes:\n",
    "dataset_sizes = {x: len(image_datasets[x]) for x in ['train', 'valid', 'test']}\n",
    "print(\"Dataset Sizes: \", dataset_sizes)\n",
    "print()\n",
    "\n",
    "# Get the class names from the training dataset:\n",
    "class_names = image_datasets['train'].classes\n",
    "print(\"Class Names\", class_names);\n",
    "print()\n",
    "\n",
    "# Get the # of classes (Useful to figure out what the output size for our last layer in the network should be)\n",
    "# By inspecting the folder, we can see that it should be 102, but I do not want to hard code this\n",
    "num_classes = len(class_names)\n",
    "print(\"Number of classes: \", num_classes);"
   ],
   "outputs": [],
   "execution_count": null
  },
  {
   "cell_type": "markdown",
   "metadata": {},
   "source": [
    "## Sanity Check #2:\n",
    "\n",
    "I want to make sure the images were loaded correctly, so I will display some below (will display an actual batch of 64 images):"
   ]
  },
  {
   "cell_type": "code",
   "metadata": {},
   "source": [
    "# Again, I used code from the PyTorch.org tutorial on transfer learning\n",
    "# Link: https://pytorch.org/tutorials/beginner/transfer_learning_tutorial.html\n",
    "def imshow(inp, title=None):\n",
    "    \"\"\"Imshow for Tensor.\"\"\"\n",
    "    inp = inp.numpy().transpose((1, 2, 0))\n",
    "    mean = np.array([0.485, 0.456, 0.406])\n",
    "    std = np.array([0.229, 0.224, 0.225])\n",
    "    inp = std * inp + mean\n",
    "    inp = np.clip(inp, 0, 1)\n",
    "    plt.imshow(inp)\n",
    "    if title is not None:\n",
    "        plt.title(title)\n",
    "    plt.pause(0.001)  # pause a bit so that plots are updated\n",
    "\n",
    "\n",
    "# Get a batch of training data\n",
    "inputs, classes = next(iter(dataloaders['train']))\n",
    "\n",
    "# Make a grid from batch\n",
    "out = utils.make_grid(inputs)\n",
    "imshow(out, title='Sample Batch')"
   ],
   "outputs": [],
   "execution_count": null
  },
  {
   "cell_type": "markdown",
   "metadata": {},
   "source": [
    "As we can see, we are displaying flower images, so we are doing good so far. We can move on."
   ]
  },
  {
   "cell_type": "markdown",
   "metadata": {},
   "source": [
    "### Label mapping\n",
    "\n",
    "You'll also need to load in a mapping from category label to category name. You can find this in the file `cat_to_name.json`. It's a JSON object which you can read in with the [`json` module](https://docs.python.org/2/library/json.html). This will give you a dictionary mapping the integer encoded categories to the actual names of the flowers."
   ]
  },
  {
   "cell_type": "code",
   "metadata": {},
   "source": [
    "with open('../../../PR02/cat_to_name.json', 'r') as f:\n",
    "    cat_to_name = json.load(f)\n",
    "    \n",
    "# just for fun (and to verify that all is well, I want to print the contents of cat_to_name)\n",
    "print(\"Cat to name: \", cat_to_name);\n",
    "print()\n",
    "print('Example mapping for cat 70:', cat_to_name['70'])"
   ],
   "outputs": [],
   "execution_count": null
  },
  {
   "cell_type": "markdown",
   "metadata": {},
   "source": [
    "# Building and training the classifier\n",
    "\n",
    "Now that the data is ready, it's time to build and train the classifier. As usual, you should use one of the pretrained models from `torchvision.models` to get the image features. Build and train a new feed-forward classifier using those features.\n",
    "\n",
    "We're going to leave this part up to you. If you want to talk through it with someone, chat with your fellow students! You can also ask questions on the forums or join the instructors in office hours.\n",
    "\n",
    "Refer to [the rubric](https://review.udacity.com/#!/rubrics/1663/view) for guidance on successfully completing this section. Things you'll need to do:\n",
    "\n",
    "* Load a [pre-trained network](http://pytorch.org/docs/master/torchvision/models.html) (If you need a starting point, the VGG networks work great and are straightforward to use)\n",
    "* Define a new, untrained feed-forward network as a classifier, using ReLU activations and dropout\n",
    "* Train the classifier layers using backpropagation using the pre-trained network to get the features\n",
    "* Track the loss and accuracy on the validation set to determine the best hyperparameters\n",
    "\n",
    "We've left a cell open for you below, but use as many as you need. Our advice is to break the problem up into smaller parts you can run separately. Check that each part is doing what you expect, then move on to the next. You'll likely find that as you work through each part, you'll need to go back and modify your previous code. This is totally normal!\n",
    "\n",
    "When training make sure you're updating only the weights of the feed-forward network. You should be able to get the validation accuracy above 70% if you build everything right. Make sure to try different hyperparameters (learning rate, units in the classifier, epochs, etc) to find the best model. Save those hyperparameters to use as default values in the next part of the project."
   ]
  },
  {
   "cell_type": "markdown",
   "metadata": {},
   "source": [
    "The model is built from two parts, the features and the classifier. The classifier layer was trained on the ImageNet data set, so it will not work for this project. So we will replace the classifier on our model with our own."
   ]
  },
  {
   "cell_type": "markdown",
   "metadata": {},
   "source": [
    "The function below is modified from the PyTorch.org tutorial at:\n",
    "https://pytorch.org/tutorials/beginner/finetuning_torchvision_models_tutorial.html#set-model-parameters-requires-grad-attribute\n",
    "\n",
    "It is just a simpler way to set the .requires_grad attriute of the parameters of a model to false, without having to do using a for loop\n",
    "for each model in the initialize_model() function that is defined below.\n"
   ]
  },
  {
   "cell_type": "code",
   "metadata": {},
   "source": [
    "def set_parameter_requires_grad(model):\n",
    "    \"\"\"\n",
    "    This simple function just sets the .requires_grad\n",
    "    attribute for each model parameter to false.\n",
    "    We do this since we are feature extracting.\n",
    "    \"\"\"\n",
    "    for param in model.parameters():\n",
    "        param.requires_grad = False"
   ],
   "outputs": [],
   "execution_count": null
  },
  {
   "cell_type": "markdown",
   "metadata": {},
   "source": [
    "For this portion of the project, I used what we learned in class along with the following tutorial:\n",
    "\n",
    "https://pytorch.org/tutorials/beginner/finetuning_torchvision_models_tutorial.html#initialize-and-reshape-the-networks\n",
    "\n",
    "The main difference between what is shown in the tutorial and what I implement is that in the tutorial they only replace certain layers of the classifier for some of the models, whereas I replace the entire classifier\n",
    "for the pre-trained model. "
   ]
  },
  {
   "cell_type": "code",
   "metadata": {},
   "source": [
    "def initialize_model(model_name, num_classes):\n",
    "    \"\"\"Initialize our model.\"\"\"\n",
    "    \n",
    "    model_ft = None\n",
    "    \n",
    "    # use if and elif statements to check which one of the pre-trained\n",
    "    # models we want to use\n",
    "    if model_name == \"alexnet\":\n",
    "\n",
    "        model_ft = models.alexnet(pretrained=True)\n",
    "        set_parameter_requires_grad(model_ft)\n",
    "        \n",
    "        # get the number of input features from the 1st layer\n",
    "        # of the 'original' classifier\n",
    "        num_ftrs = model_ft.classifier[1].in_features\n",
    "        \n",
    "        # replace the entire classifier\n",
    "        model_ft.classifier = nn.Sequential(OrderedDict([\n",
    "                          ('fc1', nn.Linear(num_ftrs, hidden_units)),\n",
    "                          ('drop', nn.Dropout(c_drop)),\n",
    "                          ('relu', nn.ReLU()),\n",
    "                          ('fc2', nn.Linear(hidden_units, num_classes)),\n",
    "                          ('output', nn.LogSoftmax(dim=1))\n",
    "                          ]))\n",
    "        \n",
    "    elif model_name == \"vgg\":\n",
    "\n",
    "        model_ft = models.vgg19(weights=models.VGG19_Weights.DEFAULT)\n",
    "        set_parameter_requires_grad(model_ft)\n",
    "        \n",
    "        # get the number of input features from the 0th layer\n",
    "        # of the 'original' classifier\n",
    "        num_ftrs = model_ft.classifier[0].in_features\n",
    "        \n",
    "        # replace the entire classifier\n",
    "        model_ft.classifier = nn.Sequential(OrderedDict([\n",
    "                          ('fc1', nn.Linear(num_ftrs, hidden_units)),\n",
    "                          ('drop', nn.Dropout(c_drop)),\n",
    "                          ('relu', nn.ReLU()),\n",
    "                          ('fc2', nn.Linear(hidden_units, num_classes)),\n",
    "                          ('output', nn.LogSoftmax(dim=1))\n",
    "                          ]))\n",
    "        \n",
    "    elif model_name == \"densenet\":\n",
    "\n",
    "        model_ft = models.densenet121(pretrained=True)\n",
    "        set_parameter_requires_grad(model_ft)\n",
    "        \n",
    "        # get the number of input features from\n",
    "        # of the 'original' classifier\n",
    "        num_ftrs = model_ft.classifier.in_features\n",
    "        \n",
    "        # replace the entire classifier\n",
    "        model_ft.classifier =  nn.Sequential(OrderedDict([\n",
    "                          ('fc1', nn.Linear(num_ftrs, hidden_units)),\n",
    "                          ('drop', nn.Dropout(c_drop)),\n",
    "                          ('relu', nn.ReLU()),\n",
    "                          ('fc2', nn.Linear(hidden_units, num_classes)),\n",
    "                          ('output', nn.LogSoftmax(dim=1))\n",
    "                          ]))\n",
    "            \n",
    "    else:\n",
    "        print(\"Invalid model name, exiting...\")\n",
    "        exit()\n",
    "\n",
    "    return model_ft"
   ],
   "outputs": [],
   "execution_count": null
  },
  {
   "cell_type": "code",
   "metadata": {},
   "source": [
    "# Initialize the model\n",
    "model_ft = initialize_model(c_arch, num_classes)\n",
    "\n",
    "# Print the model\n",
    "print(model_ft)"
   ],
   "outputs": [],
   "execution_count": null
  },
  {
   "metadata": {},
   "cell_type": "code",
   "source": [
    "try:\n",
    "    from torchinfo import summary\n",
    "    summary(model_ft, input_size=[1, 3, img_px, img_px])\n",
    "except:\n",
    "    print(f\"torchinfo package not installed. Will not print summary\")"
   ],
   "outputs": [],
   "execution_count": null
  },
  {
   "cell_type": "markdown",
   "metadata": {},
   "source": [
    "For training our network, I used a combination of what we learned in class, as well as code from the following PyTorch.org tutorials:\n",
    "\n",
    "Class repo: https://github.com/udacity/DL_PyTorch\n",
    "\n",
    "https://pytorch.org/tutorials/beginner/finetuning_torchvision_models_tutorial.html#model-training-and-validation-code\n",
    "\n",
    "https://pytorch.org/tutorials/beginner/transfer_learning_tutorial.html#training-the-model\n"
   ]
  },
  {
   "cell_type": "code",
   "metadata": {},
   "source": [
    "def train_model(model, device, dataloaders, criterion, optimizer, num_epochs):\n",
    "    \"\"\"Train the network.\"\"\"    \n",
    "    since = time.time()\n",
    "\n",
    "    model.to(device)\n",
    "    \n",
    "    best_model_wts = copy.deepcopy(model.state_dict())\n",
    "    best_acc = 0.0\n",
    "\n",
    "    for epoch in range(num_epochs):\n",
    "        print('Epoch {}/{}'.format(epoch + 1, num_epochs))\n",
    "        print('-' * 10)\n",
    "\n",
    "        # For each epoch, we will go through a training and \n",
    "        # validating phase. We will display the loss and\n",
    "        # accuracy for each.\n",
    "        for phase in ['train', 'valid']:\n",
    "            \n",
    "            # check what phase we are in and set\n",
    "            # the model to training or evaluate mode\n",
    "            if phase == 'train':\n",
    "                model.train()\n",
    "            else:\n",
    "                model.eval()\n",
    "\n",
    "            # reset running loss and running corrects\n",
    "            running_loss = 0.0\n",
    "            running_corrects = 0\n",
    "\n",
    "            # Iterate over train or valid data (depends on\n",
    "            # the phase that we are in)\n",
    "            for inputs, labels in dataloaders[phase]:\n",
    "                inputs = inputs.to(device)\n",
    "                labels = labels.to(device)\n",
    "\n",
    "                # clear the gradients, since they are\n",
    "                # accumulated\n",
    "                optimizer.zero_grad()\n",
    "\n",
    "                # forward pass through the network\n",
    "                # turn gradients on only for the training phase\n",
    "                with torch.set_grad_enabled(phase == 'train'):\n",
    "                    # Get model outputs and calculate loss\n",
    "                    outputs = model(inputs)\n",
    "                    loss = criterion(outputs, labels)\n",
    "\n",
    "                    _, preds = torch.max(outputs, 1)\n",
    "\n",
    "                    # backpropagation and optimize \n",
    "                    # only if in training phase\n",
    "                    if phase == 'train':\n",
    "                        loss.backward()\n",
    "                        # update the weights\n",
    "                        optimizer.step()\n",
    "\n",
    "                # get statistics\n",
    "                running_loss += loss.item() * inputs.size(0)\n",
    "                running_corrects += torch.sum(preds == labels.data)\n",
    "            \n",
    "            # calculate the loss and accuracy for current epoch phase\n",
    "            epoch_loss = running_loss / len(dataloaders[phase].dataset)\n",
    "            epoch_acc = running_corrects.double() / len(dataloaders[phase].dataset)\n",
    "\n",
    "            print('{} Loss: {:.4f} Acc: {:.4f}'.format(phase, epoch_loss, epoch_acc))\n",
    "\n",
    "            # deep copy the model\n",
    "            # in other words, we store the best model\n",
    "            # only if we get a better validation accuracy\n",
    "            # than in the previous epoch\n",
    "            if phase == 'valid' and epoch_acc > best_acc:\n",
    "                best_acc = epoch_acc\n",
    "                best_model_wts = copy.deepcopy(model.state_dict())\n",
    "\n",
    "        print()\n",
    "\n",
    "    # print training complete stats\n",
    "    time_elapsed = time.time() - since\n",
    "    print('Training complete in {:.0f}m {:.0f}s'.format(time_elapsed // 60, time_elapsed % 60))\n",
    "    print('Best val Acc: {:4f}'.format(best_acc))\n",
    "\n",
    "    # load best model weights\n",
    "    model.load_state_dict(best_model_wts)\n",
    "    return model"
   ],
   "outputs": [],
   "execution_count": null
  },
  {
   "cell_type": "code",
   "metadata": {},
   "source": [
    "# Setup the criterion and optimizer\n",
    "criterion = nn.CrossEntropyLoss()\n",
    "optimizer = optim.SGD(model_ft.classifier.parameters(), lr=learning_rate)\n",
    "\n",
    "# Train and evaluate\n",
    "model_ft = train_model(model_ft, device, dataloaders, criterion, optimizer, num_epochs)"
   ],
   "outputs": [],
   "execution_count": null
  },
  {
   "cell_type": "markdown",
   "metadata": {},
   "source": [
    "## Testing your network\n",
    "\n",
    "It's good practice to test your trained network on test data, images the network has never seen either in training or validation. This will give you a good estimate for the model's performance on completely new images. Run the test images through the network and measure the accuracy, the same way you did validation. You should be able to reach around 70% accuracy on the test set if the model has been trained well."
   ]
  },
  {
   "cell_type": "markdown",
   "metadata": {},
   "source": [
    "The code for checking the accuracy on the test set was found in the\n",
    "Part8-TransferLearningSolution Jupyter Notebook included with the class."
   ]
  },
  {
   "cell_type": "code",
   "metadata": {},
   "source": [
    "def check_accuracy_on_test(model, testloader, device):    \n",
    "    \"\"\"Checks the accuracy of our network on the test set.\"\"\"\n",
    "    correct = 0\n",
    "    total = 0\n",
    "    model.to(device)\n",
    "    with torch.no_grad():\n",
    "        for data in testloader:\n",
    "            images, labels = data\n",
    "            images, labels = images.to(device), labels.to(device)\n",
    "            outputs = model(images)\n",
    "            _, predicted = torch.max(outputs.data, 1)\n",
    "            total += labels.size(0)\n",
    "            correct += (predicted == labels).sum().item()\n",
    "\n",
    "    print('Accuracy of the network on the {} test images:{}%'.format(dataset_sizes['test'], 100 * correct / total))"
   ],
   "outputs": [],
   "execution_count": null
  },
  {
   "cell_type": "code",
   "metadata": {},
   "source": [
    "check_accuracy_on_test(model_ft, dataloaders['test'], device)"
   ],
   "outputs": [],
   "execution_count": null
  },
  {
   "cell_type": "code",
   "metadata": {},
   "source": [
    "# Just an aside, to get 70%+ accuracy, I ran the training on \n",
    "# each of the models with the following hyperparameters:\n",
    "\n",
    "# VGG - LR: 0.01, Epochs: 8, Hidden Units: 1024 - Accuracy: 82.0512%\n",
    "# Alexnet: LR: 0.01, Epochs: 8, Hidden Units: 1024 - Accuracy: 83.3943%\n",
    "# Densenet: LR: 0.01, Epochs: 14, Hidden Units: 512 - Accuracy: 77.6556%"
   ],
   "outputs": [],
   "execution_count": null
  },
  {
   "cell_type": "markdown",
   "metadata": {},
   "source": [
    "## Save the checkpoint\n",
    "\n",
    "Now that your network is trained, save the model so you can load it later for making predictions. You probably want to save other things such as the mapping of classes to indices which you get from one of the image datasets: `image_datasets['train'].class_to_idx`. You can attach this to the model as an attribute which makes inference easier later on.\n",
    "\n",
    "```model.class_to_idx = image_datasets['train'].class_to_idx```\n",
    "\n",
    "Remember that you'll want to completely rebuild the model later so you can use it for inference. Make sure to include any information you need in the checkpoint. If you want to load the model and keep training, you'll want to save the number of epochs as well as the optimizer state, `optimizer.state_dict`. You'll likely want to use this trained model in the next part of the project, so best to save it now."
   ]
  },
  {
   "cell_type": "code",
   "metadata": {},
   "source": [
    "def save_model(model, class_to_idx_mapping, path):\n",
    "    \"\"\"Saves the checkpoint\"\"\"\n",
    "    model.class_to_idx = class_to_idx_mapping\n",
    "    m_state_dict = model.state_dict()\n",
    "    \n",
    "    checkpoint = {'output_size': num_classes,\n",
    "                  'choice_model': c_arch,\n",
    "                  'hidden_unit' : hidden_units,\n",
    "                  'learning_rate': learning_rate,\n",
    "                  'model_state_dict': m_state_dict,\n",
    "                  'class_to_idx': model.class_to_idx}\n",
    "    \n",
    "    torch.save(checkpoint, path)\n",
    "    print('Model saved!')"
   ],
   "outputs": [],
   "execution_count": null
  },
  {
   "cell_type": "code",
   "metadata": {},
   "source": "save_model(model_ft, image_datasets['train'].class_to_idx, '../../../PR02/checkpoint.pth')",
   "outputs": [],
   "execution_count": null
  },
  {
   "cell_type": "markdown",
   "metadata": {},
   "source": [
    "## Loading the checkpoint\n",
    "\n",
    "At this point it's good to write a function that can load a checkpoint and rebuild the model. That way you can come back to this project and keep working on it without having to retrain the network."
   ]
  },
  {
   "cell_type": "code",
   "metadata": {},
   "source": [
    "# TODO: Write a function that loads a checkpoint and rebuilds the model\n",
    "def load_checkpoint(filename):\n",
    "    \"\"\"Loads the checkpoint.\"\"\"    \n",
    "    # load parameters\n",
    "    checkpoint = torch.load(filename)\n",
    "    arch = checkpoint['choice_model']\n",
    "    num_classes = checkpoint['output_size']\n",
    "    hidden_unit = checkpoint['hidden_unit']\n",
    "    learning_rate = checkpoint['learning_rate']\n",
    "    # load the model\n",
    "    model = initialize_model(arch, num_classes)\n",
    "    # load model state and class idx\n",
    "    model.load_state_dict(checkpoint['model_state_dict'])\n",
    "    model.class_to_idx = checkpoint['class_to_idx']  \n",
    "    \n",
    "    # print(\"model.class_idx\", model.class_to_idx)\n",
    "    \n",
    "    return model"
   ],
   "outputs": [],
   "execution_count": null
  },
  {
   "cell_type": "code",
   "metadata": {},
   "source": [
    "# Load the checkpoint:\n",
    "checkpoint_filename = '../../../PR02/checkpoint.pth'\n",
    "model_ft = load_checkpoint(checkpoint_filename)\n",
    "\n",
    "print(model_ft)"
   ],
   "outputs": [],
   "execution_count": null
  },
  {
   "cell_type": "markdown",
   "metadata": {},
   "source": [
    "# Inference for classification\n",
    "\n",
    "Now you'll write a function to use a trained network for inference. That is, you'll pass an image into the network and predict the class of the flower in the image. Write a function called `predict` that takes an image and a model, then returns the top $K$ most likely classes along with the probabilities. It should look like \n",
    "\n",
    "```python\n",
    "probs, classes = predict(image_path, model)\n",
    "print(probs)\n",
    "print(classes)\n",
    "> [ 0.01558163  0.01541934  0.01452626  0.01443549  0.01407339]\n",
    "> ['70', '3', '45', '62', '55']\n",
    "```\n",
    "\n",
    "First you'll need to handle processing the input image such that it can be used in your network. \n",
    "\n",
    "## Image Preprocessing\n",
    "\n",
    "You'll want to use `PIL` to load the image ([documentation](https://pillow.readthedocs.io/en/latest/reference/Image.html)). It's best to write a function that preprocesses the image so it can be used as input for the model. This function should process the images in the same manner used for training. \n",
    "\n",
    "First, resize the images where the shortest side is 256 pixels, keeping the aspect ratio. This can be done with the [`thumbnail`](http://pillow.readthedocs.io/en/3.1.x/reference/Image.html#PIL.Image.Image.thumbnail) or [`resize`](http://pillow.readthedocs.io/en/3.1.x/reference/Image.html#PIL.Image.Image.thumbnail) methods. Then you'll need to crop out the center 224x224 portion of the image.\n",
    "\n",
    "Color channels of images are typically encoded as integers 0-255, but the model expected floats 0-1. You'll need to convert the values. It's easiest with a Numpy array, which you can get from a PIL image like so `np_image = np.array(pil_image)`.\n",
    "\n",
    "As before, the network expects the images to be normalized in a specific way. For the means, it's `[0.485, 0.456, 0.406]` and for the standard deviations `[0.229, 0.224, 0.225]`. You'll want to subtract the means from each color channel, then divide by the standard deviation. \n",
    "\n",
    "And finally, PyTorch expects the color channel to be the first dimension but it's the third dimension in the PIL image and Numpy array. You can reorder dimensions using [`ndarray.transpose`](https://docs.scipy.org/doc/numpy-1.13.0/reference/generated/numpy.ndarray.transpose.html). The color channel needs to be first and retain the order of the other two dimensions."
   ]
  },
  {
   "cell_type": "code",
   "metadata": {},
   "source": [
    "def process_image(image_path):\n",
    "    \"\"\"Process an image path into a PyTorch tensor\"\"\"\n",
    "\n",
    "    # open the image\n",
    "    image = Image.open(image_path)\n",
    "    \n",
    "    print(\"Original Image size: \", image.size)\n",
    "    \n",
    "    # first resize the images where the shortest side is 256 px\n",
    "    width, height = image.size\n",
    "    size = 256, 256\n",
    "    \n",
    "    newwidth, newheight = None, None\n",
    "    \n",
    "    # if the height is the shorter side\n",
    "    if height < width:\n",
    "        # find ratio between larger and smaller side\n",
    "        ratio = float(width) / float(height)\n",
    "        # resize smaller side to 256\n",
    "        newheight = 256\n",
    "        # resize larger side to 256 * ratio\n",
    "        newwidth = int(floor(ratio * size[0]))  \n",
    "    # else, the width is the shorter side\n",
    "    else:\n",
    "        # find ratio between larger and smaller side\n",
    "        ratio = float(height)/float(width)\n",
    "        # resize smaller side to 256\n",
    "        newwidth = 256\n",
    "        # resize larger side to 256 * ratio\n",
    "        newheight = int(floor(ratio * size[1]))\n",
    "    \n",
    "    \n",
    "    print(\"W: {}, H: {}\".format(newwidth, newheight))\n",
    "    \n",
    "    # resize the image\n",
    "    image = image.resize((newwidth, newheight))\n",
    "\n",
    "    print(\"Resized Image (keep aspect ratio): \", image.size)\n",
    "    \n",
    "    # perform center crop\n",
    "    # https://stackoverflow.com/questions/16646183/crop-an-image-in-the-centre-using-pil\n",
    "    width, height = image.size   # Get dimensions\n",
    "    new_height, new_width = 224, 224\n",
    "    \n",
    "    left = (width - new_width)/2\n",
    "    top = (height - new_height)/2\n",
    "    right = (width + new_width)/2\n",
    "    bottom = (height + new_height)/2\n",
    "\n",
    "    image = image.crop((left, top, right, bottom))\n",
    "    print(\"cropped image size: \", image.size)\n",
    "    \n",
    "    # convert encoded color channels and convert to floats (divide by 255)\n",
    "    np_image = np.array(image) / 255\n",
    "    # print(np_image)\n",
    "    \n",
    "    # normalize\n",
    "    np_image = (np_image - mean) / std\n",
    "    \n",
    "    # finally, transpose\n",
    "    # print(\"shape 1: \", np_image.shape)\n",
    "    np_image = np_image.transpose((2, 0, 1))\n",
    "    # print(\"transposed shape: \", np_image.shape)\n",
    "    \n",
    "    # Originally, I was returning a numpy array, as I thought these were the instructions, but\n",
    "    # when trying to test, it would not work. \n",
    "    # Found solution at: https://knowledge.udacity.com/questions/29173\n",
    "    # We have to convert to a tensor before we return it\n",
    "    return torch.Tensor(np_image)"
   ],
   "outputs": [],
   "execution_count": null
  },
  {
   "cell_type": "markdown",
   "metadata": {},
   "source": [
    "To check your work, the function below converts a PyTorch tensor and displays it in the notebook. If your `process_image` function works, running the output through this function should return the original image (except for the cropped out portions)."
   ]
  },
  {
   "cell_type": "code",
   "metadata": {},
   "source": [
    "def imshow(image, ax=None, title=None):\n",
    "    \"\"\"Imshow for Tensor.\"\"\"\n",
    "    if ax is None:\n",
    "        fig, ax = plt.subplots()\n",
    "    \n",
    "    # PyTorch tensors assume the color channel is the first dimension\n",
    "    # but matplotlib assumes is the third dimension\n",
    "    image = image.numpy().transpose((1, 2, 0))\n",
    "    \n",
    "    # Undo preprocessing\n",
    "    mean = np.array([0.485, 0.456, 0.406])\n",
    "    std = np.array([0.229, 0.224, 0.225])\n",
    "    image = std * image + mean\n",
    "    \n",
    "    # Image needs to be clipped between 0 and 1 or it looks like noise when displayed\n",
    "    image = np.clip(image, 0, 1)\n",
    "    \n",
    "    ax.imshow(image)\n",
    "    \n",
    "    return ax"
   ],
   "outputs": [],
   "execution_count": null
  },
  {
   "cell_type": "code",
   "metadata": {},
   "source": [
    "def get_random_image_path():\n",
    "    \"\"\" \n",
    "    Get a random image path from the flowers\n",
    "    Test Folder. I will use this function to\n",
    "    use the predict function on any random image\n",
    "    in that folder. \n",
    "    \"\"\"\n",
    "    \n",
    "    # get a random index for the folder (there are 102)\n",
    "    rand_folder_idx = randint(1, 102)\n",
    "    # print(rand_folder_idx)\n",
    "\n",
    "    # get a random image\n",
    "    # build the dir/path\n",
    "    rand_dir = 'flowers/test/' + str(rand_folder_idx) + '/' \n",
    "\n",
    "    # get a random file from the dir\n",
    "    # https://stackoverflow.com/questions/701402/best-way-to-choose-a-random-file-from-a-directory\n",
    "    rand_img = random.choice(os.listdir(rand_dir))\n",
    "\n",
    "    # build fuild image path\n",
    "    rand_img_path = rand_dir + rand_img\n",
    "    \n",
    "    return rand_img_path"
   ],
   "outputs": [],
   "execution_count": null
  },
  {
   "cell_type": "code",
   "metadata": {},
   "source": [
    "# test random image function\n",
    "rand_img_path = get_random_image_path()\n",
    "img = process_image(rand_img_path)\n",
    "imshow(img)"
   ],
   "outputs": [],
   "execution_count": null
  },
  {
   "cell_type": "markdown",
   "metadata": {},
   "source": [
    "## Class Prediction\n",
    "\n",
    "Once you can get images in the correct format, it's time to write a function for making predictions with your model. A common practice is to predict the top 5 or so (usually called top-$K$) most probable classes. You'll want to calculate the class probabilities then find the $K$ largest values.\n",
    "\n",
    "To get the top $K$ largest values in a tensor use [`x.topk(k)`](http://pytorch.org/docs/master/torch.html#torch.topk). This method returns both the highest `k` probabilities and the indices of those probabilities corresponding to the classes. You need to convert from these indices to the actual class labels using `class_to_idx` which hopefully you added to the model or from an `ImageFolder` you used to load the data ([see here](#Save-the-checkpoint)). Make sure to invert the dictionary so you get a mapping from index to class as well.\n",
    "\n",
    "Again, this method should take a path to an image and a model checkpoint, then return the probabilities and classes.\n",
    "\n",
    "```python\n",
    "probs, classes = predict(image_path, model)\n",
    "print(probs)\n",
    "print(classes)\n",
    "> [ 0.01558163  0.01541934  0.01452626  0.01443549  0.01407339]\n",
    "> ['70', '3', '45', '62', '55']\n",
    "```"
   ]
  },
  {
   "cell_type": "code",
   "metadata": {},
   "source": [
    "def predict(image_path, model, device, topk=5):\n",
    "    ''' Predict the class (or classes) of an image using a trained deep learning model.\n",
    "    '''\n",
    "    # set the mode for inference\n",
    "    model.eval()\n",
    "    \n",
    "    # set the device\n",
    "    model.to(device)\n",
    "    \n",
    "    # process the image\n",
    "    image = process_image(image_path);\n",
    "    image = np.expand_dims(image, 0)\n",
    "    \n",
    "    img_to_fwd = torch.from_numpy(image)\n",
    "    img_to_fwd = img_to_fwd.to(device)\n",
    "    \n",
    "    # Turn off gradients to speed up this part\n",
    "    with torch.no_grad():\n",
    "        # fwd pass get logits\n",
    "        output = model.forward(img_to_fwd)\n",
    "\n",
    "    # Calculate the class probabilities for img\n",
    "    # ps = torch.exp(output)\n",
    "    # Calculate the class probabilities (softmax) for img\n",
    "    ps = F.softmax(output, dim=1)\n",
    "    # get the top K largest values\n",
    "    probs, classes = ps.topk(topk)\n",
    "    \n",
    "    # probs and classes are tensors, so we convert to lists so we return\n",
    "    # as is required\n",
    "    top_probs = probs.cpu().detach().numpy().tolist()[0]\n",
    "    top_classes = classes.cpu().detach().numpy().tolist()[0]\n",
    "    \n",
    "    # I was getting the wrong class labels when converting,\n",
    "    # the solution in the following helped me:\n",
    "    # https://knowledge.udacity.com/questions/31597\n",
    "    idx_to_class = {val: key for key, val in model.class_to_idx.items()}\n",
    "    \n",
    "    classes = []\n",
    "    \n",
    "    # convert the classes using idx_to_class\n",
    "    for cls in top_classes:\n",
    "        c = idx_to_class[cls]\n",
    "        classes.append(c)\n",
    "    \n",
    "    # return the \n",
    "    return top_probs, classes"
   ],
   "outputs": [],
   "execution_count": null
  },
  {
   "cell_type": "markdown",
   "metadata": {},
   "source": [
    "## Sanity Checking\n",
    "\n",
    "Now that you can use a trained model for predictions, check to make sure it makes sense. Even if the testing accuracy is high, it's always good to check that there aren't obvious bugs. Use `matplotlib` to plot the probabilities for the top 5 classes as a bar graph, along with the input image. It should look like this:\n",
    "\n",
    "<img src='assets/inference_example.png' width=300px>\n",
    "\n",
    "You can convert from the class integer encoding to actual flower names with the `cat_to_name.json` file (should have been loaded earlier in the notebook). To show a PyTorch tensor as an image, use the `imshow` function defined above."
   ]
  },
  {
   "cell_type": "markdown",
   "metadata": {},
   "source": [
    "For this part, especially for plotting more than one plot, I used the code from the view_classify() function in the helper.py file from the class repo: https://github.com/udacity/DL_PyTorch"
   ]
  },
  {
   "cell_type": "code",
   "metadata": {},
   "source": [
    "# get a random image from a random path\n",
    "random_image = get_random_image_path()\n",
    "print(\"predicting image: \", random_image)\n",
    "\n",
    "# predict, and get probabilities and classes\n",
    "probabilities, classes = predict(random_image, model_ft, device, 5)\n",
    "print(\"Probs: \", probabilities)\n",
    "print()\n",
    "print(\"Classes: \", classes)\n",
    "\n",
    "# To plot more than one sublot\n",
    "# I used https://github.com/udacity/DL_PyTorch/blob/master/helper.py\n",
    "# As a starting point.\n",
    "fig, (ax1, ax2) = plt.subplots(figsize=(6,8), nrows=2)\n",
    "\n",
    "fig.subplots_adjust(hspace=0.1, wspace=0.1)\n",
    "\n",
    "# get the index of the maximum probability\n",
    "# https://docs.scipy.org/doc/numpy/reference/generated/numpy.argmax.html\n",
    "max_index = np.argmax(probabilities)\n",
    "\n",
    "# get the label for the class with the max probability\n",
    "max_index_label = cat_to_name[classes[max_index]]\n",
    "\n",
    "# We 'plot' the image\n",
    "# open the image\n",
    "image = Image.open(random_image)\n",
    "\n",
    "# turn axis off, set the title and show the image\n",
    "ax1.axis('off')\n",
    "ax1.set_title(max_index_label)\n",
    "ax1.imshow(image)\n",
    "\n",
    "# create all the labels by converting using the cat_to_name\n",
    "# mapping\n",
    "labels = []\n",
    "for cls in classes:\n",
    "    labels.append(cat_to_name[cls])\n",
    "\n",
    "# show the bar graph    \n",
    "y_pos = np.arange(len(labels))\n",
    "ax2.barh(y_pos, probabilities)\n",
    "ax2.set_yticks(y_pos)\n",
    "ax2.set_yticklabels(labels)\n",
    "ax2.set_xlim(0, 1.0)\n",
    "\n",
    "plt.tight_layout()"
   ],
   "outputs": [],
   "execution_count": null
  },
  {
   "cell_type": "code",
   "metadata": {},
   "source": [],
   "outputs": [],
   "execution_count": null
  }
 ],
 "metadata": {
  "kernelspec": {
   "display_name": "Python 3",
   "language": "python",
   "name": "python3"
  },
  "language_info": {
   "codemirror_mode": {
    "name": "ipython",
    "version": 3
   },
   "file_extension": ".py",
   "mimetype": "text/x-python",
   "name": "python",
   "nbconvert_exporter": "python",
   "pygments_lexer": "ipython3",
   "version": "3.6.8"
  }
 },
 "nbformat": 4,
 "nbformat_minor": 2
}
