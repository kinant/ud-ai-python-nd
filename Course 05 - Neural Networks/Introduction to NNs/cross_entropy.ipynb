{
 "cells": [
  {
   "cell_type": "code",
   "metadata": {
    "ExecuteTime": {
     "end_time": "2025-10-15T17:09:19.507524Z",
     "start_time": "2025-10-15T17:09:19.392896Z"
    }
   },
   "source": [
    "import numpy as np\n",
    "# TODO: complete the function\n",
    "def cross_entropy(Y, P):\n",
    "    \"\"\"\n",
    "    This function takes as input two lists Y and P, and returns the float\n",
    "    corresponding to their cross-entropy.\n",
    "    \"\"\"\n",
    "    return -1 * np.sum(Y * np.log(P) + (1 - Y) * np.log(1 - P))"
   ],
   "outputs": [],
   "execution_count": 1
  },
  {
   "cell_type": "code",
   "execution_count": null,
   "metadata": {},
   "outputs": [],
   "source": []
  }
 ],
 "metadata": {
  "kernelspec": {
   "display_name": "Python 3 (ipykernel)",
   "language": "python",
   "name": "python3"
  },
  "language_info": {
   "codemirror_mode": {
    "name": "ipython",
    "version": 3
   },
   "file_extension": ".py",
   "mimetype": "text/x-python",
   "name": "python",
   "nbconvert_exporter": "python",
   "pygments_lexer": "ipython3",
   "version": "3.10.13"
  }
 },
 "nbformat": 4,
 "nbformat_minor": 2
}
