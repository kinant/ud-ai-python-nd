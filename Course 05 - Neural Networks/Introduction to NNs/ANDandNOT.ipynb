{
 "cells": [
  {
   "cell_type": "markdown",
   "metadata": {
    "grader_id": "0zbarnk7zt6c"
   },
   "source": [
    "## What are the weights and bias for the AND perceptron?\n",
    "\n",
    "Set the weights (`and_weight1`, `and_weight2`) and bias (`and_bias`) to values that will correctly determine the AND operation as shown above.\n",
    "More than one set of values will work!"
   ]
  },
  {
   "cell_type": "code",
   "metadata": {
    "grader_id": "6ffohlffms4",
    "ExecuteTime": {
     "end_time": "2025-10-14T22:15:30.259217Z",
     "start_time": "2025-10-14T22:15:30.251219Z"
    }
   },
   "source": [
    "# TODO: Set and_weight1, and_weight2, and and_bias\n",
    "and_weight1 = 1\n",
    "and_weight2 = 1\n",
    "and_bias = -1.5\n",
    "\n",
    "### Notebook grading\n",
    "\n",
    "# Inputs and outputs (only 1 AND 1 should result in True)\n",
    "and_test_inputs = [(0, 0), (0, 1), (1, 0), (1, 1)]\n",
    "and_correct_outputs = [False, False, False, True]\n",
    "and_outputs = []\n",
    "# Generate output\n",
    "for test_input in and_test_inputs:\n",
    "    linear_combination = and_weight1 * test_input[0] \\\n",
    "                            + and_weight2 * test_input[1] \\\n",
    "                            + and_bias\n",
    "    output = linear_combination >= 0\n",
    "    and_outputs.append(output)\n",
    "\n",
    "# Check output correctness\n",
    "if and_outputs == and_correct_outputs:\n",
    "    print('Nice!  You got it all correct.')\n",
    "else:\n",
    "    for index in range(len(and_outputs)):\n",
    "        if and_outputs[index] != and_correct_outputs[index]:\n",
    "            print(\"For the input {} your weights and bias \\\n",
    "produced an output of {}. The correct output is {}.\".format(\n",
    "                and_test_inputs[index],\n",
    "                and_outputs[index],\n",
    "                and_correct_outputs[index]\n",
    "            ))\n",
    "            break"
   ],
   "outputs": [
    {
     "name": "stdout",
     "output_type": "stream",
     "text": [
      "Nice!  You got it all correct.\n"
     ]
    }
   ],
   "execution_count": 3
  },
  {
   "cell_type": "markdown",
   "metadata": {
    "grader_id": "jn9f5eqgdv"
   },
   "source": [
    "## What are the weights and bias for the NOT perceptron?\n",
    "\n",
    "Set the weights (`not_weight1`, `not_weight2`)  and bias `not_bias` to the values that calculate the NOT operation on the second input and ignores the first input."
   ]
  },
  {
   "cell_type": "code",
   "metadata": {
    "grader_id": "b0wtcwiwk79",
    "ExecuteTime": {
     "end_time": "2025-10-14T22:18:13.307254Z",
     "start_time": "2025-10-14T22:18:13.299411Z"
    }
   },
   "source": [
    "# TODO: Set not_weight1, not_weight2, and not_bias\n",
    "not_weight1 = 0\n",
    "not_weight2 = -1.0\n",
    "not_bias = 0.5\n",
    "\n",
    "### Notebook grading\n",
    "\n",
    "# Inputs and outputs (True only if the second value is 0)\n",
    "not_test_inputs = [(0, 0), (0, 1), (1, 0), (1, 1)]\n",
    "not_correct_outputs = [True, False, True, False]\n",
    "not_outputs = []\n",
    "\n",
    "# Generate output\n",
    "for test_input in not_test_inputs:\n",
    "    linear_combination = not_weight1 * test_input[0] \\\n",
    "                            + not_weight2 * test_input[1] \\\n",
    "                            + not_bias\n",
    "    output = linear_combination >= 0\n",
    "    not_outputs.append(output)\n",
    "\n",
    "# Check output correctness\n",
    "if not_outputs == not_correct_outputs:\n",
    "    print('Nice!  You got it all correct.')\n",
    "else:\n",
    "    for index in range(len(not_outputs)):\n",
    "        if not_outputs[index] != not_correct_outputs[index]:\n",
    "            print(\"For the input {} your weights and bias \\\n",
    "produced an output of {}. The correct output is {}.\".format(\n",
    "                not_test_inputs[index],\n",
    "                not_outputs[index],\n",
    "                not_correct_outputs[index]\n",
    "            ))\n",
    "            break"
   ],
   "outputs": [
    {
     "name": "stdout",
     "output_type": "stream",
     "text": [
      "Nice!  You got it all correct.\n"
     ]
    }
   ],
   "execution_count": 5
  },
  {
   "metadata": {},
   "cell_type": "code",
   "outputs": [],
   "execution_count": null,
   "source": ""
  }
 ],
 "metadata": {
  "kernelspec": {
   "display_name": "Python 3",
   "language": "python",
   "name": "python3"
  },
  "language_info": {
   "codemirror_mode": {
    "name": "ipython",
    "version": 3
   },
   "file_extension": ".py",
   "mimetype": "text/x-python",
   "name": "python",
   "nbconvert_exporter": "python",
   "pygments_lexer": "ipython3",
   "version": "3.6.3"
  }
 },
 "nbformat": 4,
 "nbformat_minor": 2
}
