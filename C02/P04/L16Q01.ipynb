{
 "cells": [
  {
   "cell_type": "markdown",
   "metadata": {},
   "source": [
    "### Exercise 1: Learning Rate Schedule using While Loops\n",
    "\n",
    "#### Problem Statement\n",
    "\n",
    "Given an initial learning rate and a decay factor, use a while loop to apply the decay to the learning rate at each epoch until a specified number of epochs is reached.\n",
    "\n",
    "**Example Input**:\n",
    "```python\n",
    "initial_lr = 0.1\n",
    "decay_factor = 0.9\n",
    "epochs = 5\n",
    "```\n",
    "\n",
    "**Instructions**:\n",
    "1. Initialize the learning rate to `initial_lr`.\n",
    "2. Use a while loop to apply the decay factor to the learning rate for each epoch.\n",
    "3. Print the learning rate for each epoch."
   ]
  },
  {
   "cell_type": "code",
   "metadata": {
    "ExecuteTime": {
     "end_time": "2025-05-21T16:12:58.680410Z",
     "start_time": "2025-05-21T16:12:58.676426Z"
    }
   },
   "source": [
    "# Initial learning rate\n",
    "initial_lr = 0.1\n",
    "# Decay factor\n",
    "decay_factor = 0.9\n",
    "# Number of epochs\n",
    "epochs = 5\n",
    "\n",
    "# Initialize current learning rate\n",
    "current_lr = initial_lr\n",
    "# Initialize current epoch\n",
    "current_epoch = 0\n",
    "\n",
    "# While loop to apply learning rate decay\n",
    "while current_epoch < epochs:\n",
    "    current_lr = current_lr * decay_factor\n",
    "    current_epoch = current_epoch + 1\n",
    "\n",
    "# Notebook grading\n",
    "if abs(current_lr - 0.059049) < 1e-6:\n",
    "    print(\"Nice work!\")\n",
    "else:\n",
    "    print(\"Not quite. Check your learning rate calculations.\")"
   ],
   "outputs": [
    {
     "name": "stdout",
     "output_type": "stream",
     "text": [
      "Nice work!\n"
     ]
    }
   ],
   "execution_count": 3
  },
  {
   "cell_type": "markdown",
   "metadata": {},
   "source": [
    "### Exercise 2: Iterating Through Model Parameters using For Loops\n",
    "\n",
    "#### Problem Statement\n",
    "\n",
    "Given a list of model parameters and their corresponding gradients, use a for loop to update each parameter.\n",
    "\n",
    "**Example Input**:\n",
    "```python\n",
    "parameters = [0.5, 1.5, -0.5]\n",
    "gradients = [0.1, -0.2, 0.05]\n",
    "learning_rate = 0.01\n",
    "```\n",
    "\n",
    "**Instructions**:\n",
    "1. Use a for loop to iterate through the parameters and gradients.\n",
    "2. Apply a gradient update to each parameter using the learning rate."
   ]
  },
  {
   "cell_type": "code",
   "metadata": {
    "ExecuteTime": {
     "end_time": "2025-05-21T16:16:34.496428Z",
     "start_time": "2025-05-21T16:16:34.492415Z"
    }
   },
   "source": [
    "# Model parameters\n",
    "parameters = [0.5, 1.5, -0.5]\n",
    "# Corresponding gradients\n",
    "gradients = [0.1, -0.2, 0.05]\n",
    "# Learning rate\n",
    "learning_rate = 0.01\n",
    "\n",
    "# For loop to update each parameter\n",
    "for i in range(len(parameters)):\n",
    "    parameters[i] -= learning_rate * gradients[i]\n",
    "\n",
    "print(parameters)\n",
    "\n",
    "# Notebook grading\n",
    "if parameters == [0.499, 1.502, -0.5005]:\n",
    "    print(\"Nice work!\")\n",
    "else:\n",
    "    print(\"Not quite. Check your parameter updates.\")"
   ],
   "outputs": [
    {
     "name": "stdout",
     "output_type": "stream",
     "text": [
      "[0.499, 1.502, -0.5005]\n",
      "Nice work!\n"
     ]
    }
   ],
   "execution_count": 6
  }
 ],
 "metadata": {
  "kernelspec": {
   "display_name": "Python [conda env:base] *",
   "language": "python",
   "name": "conda-base-py"
  },
  "language_info": {
   "codemirror_mode": {
    "name": "ipython",
    "version": 3
   },
   "file_extension": ".py",
   "mimetype": "text/x-python",
   "name": "python",
   "nbconvert_exporter": "python",
   "pygments_lexer": "ipython3",
   "version": "3.10.13"
  }
 },
 "nbformat": 4,
 "nbformat_minor": 2
}
